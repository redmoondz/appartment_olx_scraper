{
 "cells": [
  {
   "cell_type": "markdown",
   "id": "2216afaa",
   "metadata": {},
   "source": [
    "# Визуализация данных квартир города Днепр\n",
    "\n",
    "Этот ноутбук содержит интерактивную визуализацию данных о квартирах в городе Днепр с использованием тепловых карт и маркеров цен.\n",
    "\n",
    "## Содержание:\n",
    "1. Загрузка и исследование данных\n",
    "2. Предобработка и очистка данных\n",
    "3. Статистический анализ\n",
    "4. Интерактивная карта с тепловой картой плотности квартир\n",
    "5. Маркеры со средними ценами по районам\n",
    "6. Дополнительные визуализации с Plotly"
   ]
  },
  {
   "cell_type": "markdown",
   "id": "ff1ed3f1",
   "metadata": {},
   "source": [
    "## 1. Импорт необходимых библиотек"
   ]
  },
  {
   "cell_type": "code",
   "execution_count": 1,
   "id": "4ff2aba1",
   "metadata": {},
   "outputs": [
    {
     "name": "stdout",
     "output_type": "stream",
     "text": [
      "✓ Все библиотеки успешно импортированы!\n"
     ]
    }
   ],
   "source": [
    "# Импорт основных библиотек для работы с данными\n",
    "import pandas as pd\n",
    "import numpy as np\n",
    "import warnings\n",
    "warnings.filterwarnings('ignore')\n",
    "\n",
    "# Визуализация\n",
    "import matplotlib.pyplot as plt\n",
    "import seaborn as sns\n",
    "import plotly.express as px\n",
    "import plotly.graph_objects as go\n",
    "from plotly.subplots import make_subplots\n",
    "\n",
    "# Карты\n",
    "import folium\n",
    "from folium.plugins import HeatMap, MarkerCluster\n",
    "from folium import plugins\n",
    "\n",
    "# Геокодирование\n",
    "from geopy.geocoders import Nominatim\n",
    "from geopy.extra.rate_limiter import RateLimiter\n",
    "\n",
    "# Настройка стиля\n",
    "plt.style.use('seaborn-v0_8-darkgrid')\n",
    "sns.set_palette(\"husl\")\n",
    "\n",
    "print(\"✓ Все библиотеки успешно импортированы!\")"
   ]
  },
  {
   "cell_type": "markdown",
   "id": "a7bb326f",
   "metadata": {},
   "source": [
    "## 2. Загрузка и первичный анализ данных"
   ]
  },
  {
   "cell_type": "code",
   "execution_count": 2,
   "id": "fa12b07b",
   "metadata": {},
   "outputs": [
    {
     "name": "stdout",
     "output_type": "stream",
     "text": [
      "Размер датасета: 1054 строк, 19 столбцов\n",
      "\n",
      "============================================================\n",
      "Первые 5 записей:\n",
      "     post_id                                               name    price  \\\n",
      "0  898655533  Аренда двухкомнатной квартиры Гагарина район П...  14000.0   \n",
      "1  900827364  Аренда 3к квартиры в центре города, Конисского...  13000.0   \n",
      "2  898811943  Сдам 2 к -кв Жк Зоряний первая сдача автономно...  17000.0   \n",
      "3  899818032                        Здам 4х комнатную  квартиру  45000.0   \n",
      "4  899686221              Сдам 3ком.кв  106кв.м ж.к.жуковского.  45000.0   \n",
      "\n",
      "  currency                         location  \\\n",
      "0      UAH                 Дніпро, Соборний   \n",
      "1      UAH           Дніпро, Шевченківський   \n",
      "2      UAH           Дніпро, Шевченківський   \n",
      "3      UAH  Дніпро, Амур-Нижньодніпровський   \n",
      "4      UAH  Дніпро, Амур-Нижньодніпровський   \n",
      "\n",
      "                                         description  contact_phone  \\\n",
      "0  Сдам двухкомнатную квартиру на первом очень вы...            NaN   \n",
      "1  Аренда #3к квартиры\\nСорочинский переулок #сор...            NaN   \n",
      "2  Первая сдача.  В наличии 2 к-кв\\nЖк Зоряний.  ...            NaN   \n",
      "3  Здам квартиру у ЖК Жуковського, на 2 поверсі, ...            NaN   \n",
      "4  Сдам свою 3комнатную квартиру.106 кв м. с хоро...            NaN   \n",
      "\n",
      "                                              photos created_date  \\\n",
      "0  [\"https://ireland.apollo.olxcdn.com:443/v1/fil...   02.10.2025   \n",
      "1  [\"https://ireland.apollo.olxcdn.com:443/v1/fil...   01.10.2025   \n",
      "2  [\"https://ireland.apollo.olxcdn.com:443/v1/fil...   01.10.2025   \n",
      "3  [\"https://ireland.apollo.olxcdn.com:443/v1/fil...   02.10.2025   \n",
      "4  [\"https://ireland.apollo.olxcdn.com:443/v1/fil...   02.10.2025   \n",
      "\n",
      "   watch_count                                               tags  \\\n",
      "0          NaN  [\"\\u0411\\u0456\\u0437\\u043d\\u0435\\u0441\", \"\\u04...   \n",
      "1          NaN  [\"\\u0411\\u0456\\u0437\\u043d\\u0435\\u0441\", \"\\u04...   \n",
      "2          NaN  [\"\\u0411\\u0456\\u0437\\u043d\\u0435\\u0441\", \"\\u04...   \n",
      "3          NaN  [\"\\u0411\\u0456\\u0437\\u043d\\u0435\\u0441\", \"\\u04...   \n",
      "4          NaN  [\"\\u041f\\u0440\\u0438\\u0432\\u0430\\u0442\\u043d\\u...   \n",
      "\n",
      "                                                 url  total_area  floor  \\\n",
      "0  https://www.olx.ua/d/uk/obyavlenie/arenda-dvuh...        50.0      1   \n",
      "1  https://www.olx.ua/d/uk/obyavlenie/arenda-3k-k...        70.0      1   \n",
      "2  https://www.olx.ua/d/uk/obyavlenie/sdam-2-k-kv...        60.0     10   \n",
      "3  https://www.olx.ua/d/uk/obyavlenie/zdam-4h-kom...       106.0      2   \n",
      "4  https://www.olx.ua/d/uk/obyavlenie/sdam-3kom-k...       106.0      2   \n",
      "\n",
      "   total_floors  rooms                 district furnished  \\\n",
      "0             5      2                 Соборний      True   \n",
      "1             2      3           Шевченківський      True   \n",
      "2            11      2           Шевченківський      True   \n",
      "3            10      4  Амур-Нижньодніпровський      True   \n",
      "4            10      3  Амур-Нижньодніпровський      True   \n",
      "\n",
      "                   scraped_at  \n",
      "0  2025-10-02T22:07:14.627510  \n",
      "1  2025-10-02T22:08:49.011489  \n",
      "2  2025-10-02T22:07:47.799064  \n",
      "3  2025-10-02T22:07:36.723703  \n",
      "4  2025-10-02T22:07:47.798835  \n",
      "\n",
      "============================================================\n",
      "Информация о типах данных:\n",
      "<class 'pandas.core.frame.DataFrame'>\n",
      "RangeIndex: 1054 entries, 0 to 1053\n",
      "Data columns (total 19 columns):\n",
      " #   Column         Non-Null Count  Dtype  \n",
      "---  ------         --------------  -----  \n",
      " 0   post_id        1054 non-null   int64  \n",
      " 1   name           1054 non-null   object \n",
      " 2   price          1054 non-null   float64\n",
      " 3   currency       1054 non-null   object \n",
      " 4   location       1054 non-null   object \n",
      " 5   description    1054 non-null   object \n",
      " 6   contact_phone  0 non-null      float64\n",
      " 7   photos         1054 non-null   object \n",
      " 8   created_date   1054 non-null   object \n",
      " 9   watch_count    0 non-null      float64\n",
      " 10  tags           1054 non-null   object \n",
      " 11  url            1054 non-null   object \n",
      " 12  total_area     1054 non-null   float64\n",
      " 13  floor          1054 non-null   int64  \n",
      " 14  total_floors   1054 non-null   int64  \n",
      " 15  rooms          1054 non-null   int64  \n",
      " 16  district       1054 non-null   object \n",
      " 17  furnished      885 non-null    object \n",
      " 18  scraped_at     1054 non-null   object \n",
      "dtypes: float64(4), int64(4), object(11)\n",
      "memory usage: 156.6+ KB\n",
      "None\n",
      "\n",
      "============================================================\n",
      "Статистика по числовым полям:\n",
      "            post_id         price  contact_phone  watch_count   total_area  \\\n",
      "count  1.054000e+03  1.054000e+03            0.0          0.0  1054.000000   \n",
      "mean   8.923202e+08  1.636443e+04            NaN          NaN    48.073890   \n",
      "std    2.756418e+07  5.291205e+04            NaN          NaN    18.833358   \n",
      "min    6.781122e+08  2.500000e+03            NaN          NaN    12.000000   \n",
      "25%    8.988078e+08  9.500000e+03            NaN          NaN    37.000000   \n",
      "50%    9.008232e+08  1.200000e+04            NaN          NaN    45.000000   \n",
      "75%    9.017180e+08  1.600000e+04            NaN          NaN    54.000000   \n",
      "max    9.020238e+08  1.444837e+06            NaN          NaN   200.000000   \n",
      "\n",
      "             floor  total_floors        rooms  \n",
      "count  1054.000000   1054.000000  1054.000000  \n",
      "mean      5.165085      9.315939     1.681214  \n",
      "std       3.633661      5.146089     0.735020  \n",
      "min       1.000000      1.000000     1.000000  \n",
      "25%       3.000000      5.000000     1.000000  \n",
      "50%       4.000000      9.000000     2.000000  \n",
      "75%       7.000000     11.000000     2.000000  \n",
      "max      28.000000     32.000000     5.000000  \n"
     ]
    }
   ],
   "source": [
    "# Загрузка данных\n",
    "df = pd.read_csv('/home/redmoon/Documents/Dev/appartment_scraper/cache/apartments_cache.csv')\n",
    "\n",
    "# Общая информация о датасете\n",
    "print(f\"Размер датасета: {df.shape[0]} строк, {df.shape[1]} столбцов\")\n",
    "print(f\"\\n{'='*60}\")\n",
    "print(\"Первые 5 записей:\")\n",
    "print(df.head())\n",
    "\n",
    "print(f\"\\n{'='*60}\")\n",
    "print(\"Информация о типах данных:\")\n",
    "print(df.info())\n",
    "\n",
    "print(f\"\\n{'='*60}\")\n",
    "print(\"Статистика по числовым полям:\")\n",
    "print(df.describe())"
   ]
  },
  {
   "cell_type": "markdown",
   "id": "192dc1de",
   "metadata": {},
   "source": [
    "## 3. Предобработка и очистка данных"
   ]
  },
  {
   "cell_type": "code",
   "execution_count": 3,
   "id": "d92d8851",
   "metadata": {},
   "outputs": [
    {
     "name": "stdout",
     "output_type": "stream",
     "text": [
      "Уникальные районы:\n",
      "district\n",
      "Соборний                   273\n",
      "Центральний                248\n",
      "Індустріальний             166\n",
      "Шевченківський             145\n",
      "Чечелівський                77\n",
      "Амур-Нижньодніпровський     70\n",
      "Новокодацький               49\n",
      "Самарський                  23\n",
      "Name: count, dtype: int64\n",
      "\n",
      "Всего записей после очистки: 1051\n"
     ]
    }
   ],
   "source": [
    "# Очистка данных\n",
    "# Удаляем записи с пропущенными ценами\n",
    "df_clean = df.dropna(subset=['price', 'district']).copy()\n",
    "\n",
    "# Фильтруем аномальные цены (меньше 1000 или больше 100000)\n",
    "df_clean = df_clean[(df_clean['price'] >= 1000) & (df_clean['price'] <= 100000)]\n",
    "\n",
    "# Заполняем пропущенные значения в комнатах\n",
    "df_clean['rooms'] = df_clean['rooms'].fillna(1)\n",
    "\n",
    "# Проверяем районы\n",
    "print(\"Уникальные районы:\")\n",
    "print(df_clean['district'].value_counts())\n",
    "print(f\"\\nВсего записей после очистки: {len(df_clean)}\")"
   ]
  },
  {
   "cell_type": "markdown",
   "id": "41644c1f",
   "metadata": {},
   "source": [
    "### Геокодирование районов Днепра\n",
    "\n",
    "Создадим координаты для каждого района города Днепр"
   ]
  },
  {
   "cell_type": "code",
   "execution_count": 4,
   "id": "aa06792b",
   "metadata": {},
   "outputs": [
    {
     "name": "stdout",
     "output_type": "stream",
     "text": [
      "✓ Координаты добавлены!\n"
     ]
    }
   ],
   "source": [
    "# Координаты центров районов Днепра (приблизительные)\n",
    "district_coords = {\n",
    "    'Соборний': (48.4647, 35.0462),\n",
    "    'Шевченківський': (48.4500, 35.0400),\n",
    "    'Амур-Нижньодніпровський': (48.4200, 35.1000),\n",
    "    'Новокодацький': (48.5000, 35.1200),\n",
    "    'Самарський': (48.5200, 35.0800),\n",
    "    'Індустріальний': (48.5000, 34.9800),\n",
    "    'Чечелівський': (48.4800, 35.0200),\n",
    "    'Центральний': (48.4647, 35.0462)  # используем координаты центра города\n",
    "}\n",
    "\n",
    "# Добавляем координаты в датафрейм\n",
    "df_clean['lat'] = df_clean['district'].map(lambda x: district_coords.get(x, (48.4647, 35.0462))[0])\n",
    "df_clean['lon'] = df_clean['district'].map(lambda x: district_coords.get(x, (48.4647, 35.0462))[1])\n",
    "\n",
    "# Добавляем небольшой случайный разброс для лучшей визуализации\n",
    "np.random.seed(42)\n",
    "df_clean['lat'] = df_clean['lat'] + np.random.normal(0, 0.01, len(df_clean))\n",
    "df_clean['lon'] = df_clean['lon'] + np.random.normal(0, 0.01, len(df_clean))\n",
    "\n",
    "print(\"✓ Координаты добавлены!\")"
   ]
  },
  {
   "cell_type": "markdown",
   "id": "a09ae98e",
   "metadata": {},
   "source": [
    "## 4. Статистический анализ данных"
   ]
  },
  {
   "cell_type": "code",
   "execution_count": 8,
   "id": "6d333948",
   "metadata": {},
   "outputs": [
    {
     "name": "stdout",
     "output_type": "stream",
     "text": [
      "Статистика по районам:\n",
      "                         Средняя цена  Медианная цена  Количество  \\\n",
      "district                                                            \n",
      "Соборний                     17592.23         15000.0         273   \n",
      "Центральний                  14726.50         13000.0         248   \n",
      "Індустріальний               11342.76         11000.0         166   \n",
      "Шевченківський               13800.72         12000.0         145   \n",
      "Чечелівський                 11861.03         11000.0          77   \n",
      "Амур-Нижньодніпровський      12432.86         10500.0          70   \n",
      "Новокодацький                 9093.88          9000.0          49   \n",
      "Самарський                    8904.35          8000.0          23   \n",
      "\n",
      "                         Ст. отклонение  Средняя площадь  Средн. комнат  \n",
      "district                                                                 \n",
      "Соборний                       10083.39            51.96           1.76  \n",
      "Центральний                     6914.83            48.01           1.70  \n",
      "Індустріальний                  3421.35            44.30           1.63  \n",
      "Шевченківський                  7655.85            48.60           1.68  \n",
      "Чечелівський                    4330.75            49.56           1.73  \n",
      "Амур-Нижньодніпровський         6667.65            46.65           1.49  \n",
      "Новокодацький                   2550.03            40.14           1.53  \n",
      "Самарський                      3782.91            42.77           1.61  \n"
     ]
    }
   ],
   "source": [
    "# Агрегированная статистика по районам\n",
    "district_stats = df_clean.groupby('district').agg({\n",
    "    'price': ['mean', 'median', 'count', 'std'],\n",
    "    'total_area': 'mean',\n",
    "    'rooms': 'mean'\n",
    "}).round(2)\n",
    "\n",
    "district_stats.columns = ['Средняя цена', 'Медианная цена', 'Количество', 'Ст. отклонение', 'Средняя площадь', 'Средн. комнат']\n",
    "district_stats = district_stats.sort_values('Количество', ascending=False)\n",
    "\n",
    "print(\"Статистика по районам:\")\n",
    "print(district_stats)\n",
    "\n",
    "# Сохраняем для дальнейшего использования\n",
    "district_stats_dict = district_stats.to_dict('index')"
   ]
  },
  {
   "cell_type": "markdown",
   "id": "c1f91060",
   "metadata": {},
   "source": [
    "### Визуализация распределения цен с Plotly"
   ]
  },
  {
   "cell_type": "code",
   "execution_count": 13,
   "id": "d214bf4d",
   "metadata": {},
   "outputs": [
    {
     "data": {
      "application/vnd.plotly.v1+json": {
       "config": {
        "plotlyServerURL": "https://plot.ly"
       },
       "data": [
        {
         "alignmentgroup": "True",
         "hovertemplate": "Район=%{x}<br>Цена (грн)=%{y}<extra></extra>",
         "legendgroup": "Соборний",
         "marker": {
          "color": "#636efa"
         },
         "name": "Соборний",
         "notched": false,
         "offsetgroup": "Соборний",
         "orientation": "v",
         "showlegend": true,
         "type": "box",
         "x": [
          "Соборний",
          "Соборний",
          "Соборний",
          "Соборний",
          "Соборний",
          "Соборний",
          "Соборний",
          "Соборний",
          "Соборний",
          "Соборний",
          "Соборний",
          "Соборний",
          "Соборний",
          "Соборний",
          "Соборний",
          "Соборний",
          "Соборний",
          "Соборний",
          "Соборний",
          "Соборний",
          "Соборний",
          "Соборний",
          "Соборний",
          "Соборний",
          "Соборний",
          "Соборний",
          "Соборний",
          "Соборний",
          "Соборний",
          "Соборний",
          "Соборний",
          "Соборний",
          "Соборний",
          "Соборний",
          "Соборний",
          "Соборний",
          "Соборний",
          "Соборний",
          "Соборний",
          "Соборний",
          "Соборний",
          "Соборний",
          "Соборний",
          "Соборний",
          "Соборний",
          "Соборний",
          "Соборний",
          "Соборний",
          "Соборний",
          "Соборний",
          "Соборний",
          "Соборний",
          "Соборний",
          "Соборний",
          "Соборний",
          "Соборний",
          "Соборний",
          "Соборний",
          "Соборний",
          "Соборний",
          "Соборний",
          "Соборний",
          "Соборний",
          "Соборний",
          "Соборний",
          "Соборний",
          "Соборний",
          "Соборний",
          "Соборний",
          "Соборний",
          "Соборний",
          "Соборний",
          "Соборний",
          "Соборний",
          "Соборний",
          "Соборний",
          "Соборний",
          "Соборний",
          "Соборний",
          "Соборний",
          "Соборний",
          "Соборний",
          "Соборний",
          "Соборний",
          "Соборний",
          "Соборний",
          "Соборний",
          "Соборний",
          "Соборний",
          "Соборний",
          "Соборний",
          "Соборний",
          "Соборний",
          "Соборний",
          "Соборний",
          "Соборний",
          "Соборний",
          "Соборний",
          "Соборний",
          "Соборний",
          "Соборний",
          "Соборний",
          "Соборний",
          "Соборний",
          "Соборний",
          "Соборний",
          "Соборний",
          "Соборний",
          "Соборний",
          "Соборний",
          "Соборний",
          "Соборний",
          "Соборний",
          "Соборний",
          "Соборний",
          "Соборний",
          "Соборний",
          "Соборний",
          "Соборний",
          "Соборний",
          "Соборний",
          "Соборний",
          "Соборний",
          "Соборний",
          "Соборний",
          "Соборний",
          "Соборний",
          "Соборний",
          "Соборний",
          "Соборний",
          "Соборний",
          "Соборний",
          "Соборний",
          "Соборний",
          "Соборний",
          "Соборний",
          "Соборний",
          "Соборний",
          "Соборний",
          "Соборний",
          "Соборний",
          "Соборний",
          "Соборний",
          "Соборний",
          "Соборний",
          "Соборний",
          "Соборний",
          "Соборний",
          "Соборний",
          "Соборний",
          "Соборний",
          "Соборний",
          "Соборний",
          "Соборний",
          "Соборний",
          "Соборний",
          "Соборний",
          "Соборний",
          "Соборний",
          "Соборний",
          "Соборний",
          "Соборний",
          "Соборний",
          "Соборний",
          "Соборний",
          "Соборний",
          "Соборний",
          "Соборний",
          "Соборний",
          "Соборний",
          "Соборний",
          "Соборний",
          "Соборний",
          "Соборний",
          "Соборний",
          "Соборний",
          "Соборний",
          "Соборний",
          "Соборний",
          "Соборний",
          "Соборний",
          "Соборний",
          "Соборний",
          "Соборний",
          "Соборний",
          "Соборний",
          "Соборний",
          "Соборний",
          "Соборний",
          "Соборний",
          "Соборний",
          "Соборний",
          "Соборний",
          "Соборний",
          "Соборний",
          "Соборний",
          "Соборний",
          "Соборний",
          "Соборний",
          "Соборний",
          "Соборний",
          "Соборний",
          "Соборний",
          "Соборний",
          "Соборний",
          "Соборний",
          "Соборний",
          "Соборний",
          "Соборний",
          "Соборний",
          "Соборний",
          "Соборний",
          "Соборний",
          "Соборний",
          "Соборний",
          "Соборний",
          "Соборний",
          "Соборний",
          "Соборний",
          "Соборний",
          "Соборний",
          "Соборний",
          "Соборний",
          "Соборний",
          "Соборний",
          "Соборний",
          "Соборний",
          "Соборний",
          "Соборний",
          "Соборний",
          "Соборний",
          "Соборний",
          "Соборний",
          "Соборний",
          "Соборний",
          "Соборний",
          "Соборний",
          "Соборний",
          "Соборний",
          "Соборний",
          "Соборний",
          "Соборний",
          "Соборний",
          "Соборний",
          "Соборний",
          "Соборний",
          "Соборний",
          "Соборний",
          "Соборний",
          "Соборний",
          "Соборний",
          "Соборний",
          "Соборний",
          "Соборний",
          "Соборний",
          "Соборний",
          "Соборний",
          "Соборний",
          "Соборний",
          "Соборний",
          "Соборний",
          "Соборний",
          "Соборний",
          "Соборний",
          "Соборний",
          "Соборний",
          "Соборний",
          "Соборний",
          "Соборний",
          "Соборний",
          "Соборний",
          "Соборний",
          "Соборний"
         ],
         "x0": " ",
         "xaxis": "x",
         "y": {
          "bdata": "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",
          "dtype": "f8"
         },
         "y0": " ",
         "yaxis": "y"
        },
        {
         "alignmentgroup": "True",
         "hovertemplate": "Район=%{x}<br>Цена (грн)=%{y}<extra></extra>",
         "legendgroup": "Шевченківський",
         "marker": {
          "color": "#EF553B"
         },
         "name": "Шевченківський",
         "notched": false,
         "offsetgroup": "Шевченківський",
         "orientation": "v",
         "showlegend": true,
         "type": "box",
         "x": [
          "Шевченківський",
          "Шевченківський",
          "Шевченківський",
          "Шевченківський",
          "Шевченківський",
          "Шевченківський",
          "Шевченківський",
          "Шевченківський",
          "Шевченківський",
          "Шевченківський",
          "Шевченківський",
          "Шевченківський",
          "Шевченківський",
          "Шевченківський",
          "Шевченківський",
          "Шевченківський",
          "Шевченківський",
          "Шевченківський",
          "Шевченківський",
          "Шевченківський",
          "Шевченківський",
          "Шевченківський",
          "Шевченківський",
          "Шевченківський",
          "Шевченківський",
          "Шевченківський",
          "Шевченківський",
          "Шевченківський",
          "Шевченківський",
          "Шевченківський",
          "Шевченківський",
          "Шевченківський",
          "Шевченківський",
          "Шевченківський",
          "Шевченківський",
          "Шевченківський",
          "Шевченківський",
          "Шевченківський",
          "Шевченківський",
          "Шевченківський",
          "Шевченківський",
          "Шевченківський",
          "Шевченківський",
          "Шевченківський",
          "Шевченківський",
          "Шевченківський",
          "Шевченківський",
          "Шевченківський",
          "Шевченківський",
          "Шевченківський",
          "Шевченківський",
          "Шевченківський",
          "Шевченківський",
          "Шевченківський",
          "Шевченківський",
          "Шевченківський",
          "Шевченківський",
          "Шевченківський",
          "Шевченківський",
          "Шевченківський",
          "Шевченківський",
          "Шевченківський",
          "Шевченківський",
          "Шевченківський",
          "Шевченківський",
          "Шевченківський",
          "Шевченківський",
          "Шевченківський",
          "Шевченківський",
          "Шевченківський",
          "Шевченківський",
          "Шевченківський",
          "Шевченківський",
          "Шевченківський",
          "Шевченківський",
          "Шевченківський",
          "Шевченківський",
          "Шевченківський",
          "Шевченківський",
          "Шевченківський",
          "Шевченківський",
          "Шевченківський",
          "Шевченківський",
          "Шевченківський",
          "Шевченківський",
          "Шевченківський",
          "Шевченківський",
          "Шевченківський",
          "Шевченківський",
          "Шевченківський",
          "Шевченківський",
          "Шевченківський",
          "Шевченківський",
          "Шевченківський",
          "Шевченківський",
          "Шевченківський",
          "Шевченківський",
          "Шевченківський",
          "Шевченківський",
          "Шевченківський",
          "Шевченківський",
          "Шевченківський",
          "Шевченківський",
          "Шевченківський",
          "Шевченківський",
          "Шевченківський",
          "Шевченківський",
          "Шевченківський",
          "Шевченківський",
          "Шевченківський",
          "Шевченківський",
          "Шевченківський",
          "Шевченківський",
          "Шевченківський",
          "Шевченківський",
          "Шевченківський",
          "Шевченківський",
          "Шевченківський",
          "Шевченківський",
          "Шевченківський",
          "Шевченківський",
          "Шевченківський",
          "Шевченківський",
          "Шевченківський",
          "Шевченківський",
          "Шевченківський",
          "Шевченківський",
          "Шевченківський",
          "Шевченківський",
          "Шевченківський",
          "Шевченківський",
          "Шевченківський",
          "Шевченківський",
          "Шевченківський",
          "Шевченківський",
          "Шевченківський",
          "Шевченківський",
          "Шевченківський",
          "Шевченківський",
          "Шевченківський",
          "Шевченківський",
          "Шевченківський",
          "Шевченківський",
          "Шевченківський",
          "Шевченківський"
         ],
         "x0": " ",
         "xaxis": "x",
         "y": {
          "bdata": "AAAAAABkyUAAAAAAAJrQQAAAAAAATL1AAAAAAACI00AAAAAAAFi7QAAAAAAAQL9AAAAAAABkyUAAAAAAAIjDQAAAAAAAiMNAAAAAAABwx0AAAAAAAFjLQAAAAAAgMOhAAAAAAABkyUAAAAAAAPLCQAAAAACAS81AAAAAAAB81UAAAAAAAOi8QAAAAAAgKORAAAAAAACI00AAAAAAAB3gQAAAAAAAathAAAAAAAB81UAAAAAAAHDHQAAAAAAAQM9AAAAAAABq2EAAAAAAAFjLQAAAAAAAlNFAAAAAAAB8tUAAAAAAAGTJQAAAAAAAcLdAAAAAAABwx0AAAAAAAFi7QAAAAAAAiMNAAAAAAACawEAAAAAAAJTBQAAAAAAAlMFAAAAAAACIw0AAAAAAAFjLQAAAAAAAfLVAAAAAAABwt0AAAAAAAJTBQAAAAAAAlMFAAAAAAABq2EAAAAAAAEzdQAAAAAAAgsRAAAAAAABMzUAAAAAAAMi5QAAAAAAAfMVAAAAAAACIw0AAAAAAAIizQAAAAAAAQL9AAAAAAABYu0AAAAAAAGTJQAAAAAAAjsJAAAAAAACa0EAAAAAAAJTBQAAAAAAAashAAAAAAABkuUAAAAAAAIjTQAAAAAAAZMlAAAAAAACIw0AAAAAAAJrAQAAAAAAAcMdAAAAAAABw10AAAAAAAEDPQAAAAAAAQK9AAAAAAABkyUAAAAAAAPLCQAAAAAAAiMNAAAAAAACUwUAAAAAAAJTBQAAAAAAAfNVAAAAAAABAv0AAAAAAAGTJQAAAAAAAZMlAAAAAAACIw0AAAAAAAJTBQAAAAAAAgsRAAAAAAACUwUAAAAAAAJTRQAAAAAAAQL9AAAAAAABMzUAAAAAAAF7KQAAAAAAAWMtAAAAAAACIw0AAAAAAAFjLQAAAAAAAgsRAAAAAAAB8tUAAAAAAAADJQAAAAAAAcMdAAAAAAABGzkAAAAAAAFjLQAAAAAAAmtBAAAAAACAg4EAAAAAAAEDPQAAAAAAAHdBAAAAAAABAv0AAAAAAAI7SQAAAAAAATM1AAAAAAABwx0AAAAAAAEDPQAAAAAAAmsBAAAAAAABSzEAAAAAAAHDHQAAAAAAAWNtAAAAAAACI00AAAAAAAB3QQAAAAAAgMOhAAAAAAACIw0AAAAAAAFi7QAAAAAAAiMNAAAAAAABMzUAAAAAAAI7CQAAAAAAAlMFAAAAAAABMzUAAAAAAAFi7QAAAAAAATM1AAAAAAACawEAAAAAAAGTZQAAAAAAATL1AAAAAAACUwUAAAAAAAHbGQAAAAAAAlMFAAAAAACAg4EAAAAAAAILEQAAAAAAAQL9AAAAAAABYu0AAAAAAAF7KQAAAAAAABdRAAAAAAACUwUAAAAAAAHDHQAAAAAAAQM9AAAAAAABAv0AAAAAAAEzdQAAAAAAAmtBAAAAAAABAv0AAAAAAAIjTQAAAAAAAlNFAAAAAAACIw0AAAAAAAGTJQAAAAAAAcMdAAAAAAABwx0AAAAAAAJTBQAAAAAAAZMlAAAAAAABwx0A=",
          "dtype": "f8"
         },
         "y0": " ",
         "yaxis": "y"
        },
        {
         "alignmentgroup": "True",
         "hovertemplate": "Район=%{x}<br>Цена (грн)=%{y}<extra></extra>",
         "legendgroup": "Амур-Нижньодніпровський",
         "marker": {
          "color": "#00cc96"
         },
         "name": "Амур-Нижньодніпровський",
         "notched": false,
         "offsetgroup": "Амур-Нижньодніпровський",
         "orientation": "v",
         "showlegend": true,
         "type": "box",
         "x": [
          "Амур-Нижньодніпровський",
          "Амур-Нижньодніпровський",
          "Амур-Нижньодніпровський",
          "Амур-Нижньодніпровський",
          "Амур-Нижньодніпровський",
          "Амур-Нижньодніпровський",
          "Амур-Нижньодніпровський",
          "Амур-Нижньодніпровський",
          "Амур-Нижньодніпровський",
          "Амур-Нижньодніпровський",
          "Амур-Нижньодніпровський",
          "Амур-Нижньодніпровський",
          "Амур-Нижньодніпровський",
          "Амур-Нижньодніпровський",
          "Амур-Нижньодніпровський",
          "Амур-Нижньодніпровський",
          "Амур-Нижньодніпровський",
          "Амур-Нижньодніпровський",
          "Амур-Нижньодніпровський",
          "Амур-Нижньодніпровський",
          "Амур-Нижньодніпровський",
          "Амур-Нижньодніпровський",
          "Амур-Нижньодніпровський",
          "Амур-Нижньодніпровський",
          "Амур-Нижньодніпровський",
          "Амур-Нижньодніпровський",
          "Амур-Нижньодніпровський",
          "Амур-Нижньодніпровський",
          "Амур-Нижньодніпровський",
          "Амур-Нижньодніпровський",
          "Амур-Нижньодніпровський",
          "Амур-Нижньодніпровський",
          "Амур-Нижньодніпровський",
          "Амур-Нижньодніпровський",
          "Амур-Нижньодніпровський",
          "Амур-Нижньодніпровський",
          "Амур-Нижньодніпровський",
          "Амур-Нижньодніпровський",
          "Амур-Нижньодніпровський",
          "Амур-Нижньодніпровський",
          "Амур-Нижньодніпровський",
          "Амур-Нижньодніпровський",
          "Амур-Нижньодніпровський",
          "Амур-Нижньодніпровський",
          "Амур-Нижньодніпровський",
          "Амур-Нижньодніпровський",
          "Амур-Нижньодніпровський",
          "Амур-Нижньодніпровський",
          "Амур-Нижньодніпровський",
          "Амур-Нижньодніпровський",
          "Амур-Нижньодніпровський",
          "Амур-Нижньодніпровський",
          "Амур-Нижньодніпровський",
          "Амур-Нижньодніпровський",
          "Амур-Нижньодніпровський",
          "Амур-Нижньодніпровський",
          "Амур-Нижньодніпровський",
          "Амур-Нижньодніпровський",
          "Амур-Нижньодніпровський",
          "Амур-Нижньодніпровський",
          "Амур-Нижньодніпровський",
          "Амур-Нижньодніпровський",
          "Амур-Нижньодніпровський",
          "Амур-Нижньодніпровський",
          "Амур-Нижньодніпровський",
          "Амур-Нижньодніпровський",
          "Амур-Нижньодніпровський",
          "Амур-Нижньодніпровський",
          "Амур-Нижньодніпровський",
          "Амур-Нижньодніпровський"
         ],
         "x0": " ",
         "xaxis": "x",
         "y": {
          "bdata": "AAAAAAD55UAAAAAAAPnlQAAAAAAAiMNAAAAAAACU0UAAAAAAAJTRQAAAAAAAWMtAAAAAAABYy0AAAAAAAHbGQAAAAAAAcMdAAAAAAACO0kAAAAAAAIjDQAAAAAAAiMNAAAAAAACIw0AAAAAAAIjDQAAAAAAAcMdAAAAAAABwt0AAAAAAAHDHQAAAAAAAlMFAAAAAAACIw0AAAAAAAFjLQAAAAAAAcMdAAAAAAABkyUAAAAAAAIjDQAAAAAAAiMNAAAAAAACOwkAAAAAAAFi7QAAAAAAAyKlAAAAAAACU0UAAAAAAAIjDQAAAAAAAiMNAAAAAAAB8xUAAAAAAAGS5QAAAAAAAlMFAAAAAAABYy0AAAAAAAFjLQAAAAAAAQL9AAAAAAACUwUAAAAAAAGTJQAAAAAAAWMtAAAAAAACU0UAAAAAAAI7CQAAAAAAAgsRAAAAAAACCxEAAAAAAAJTBQAAAAAAAjtJAAAAAAACOwkAAAAAAAFi7QAAAAAAAF9FAAAAAAABkyUAAAAAAAHy1QAAAAAAAjsJAAAAAAABSzEAAAAAAAGTJQAAAAAAAZMlAAAAAAAB8xUAAAAAAAIjDQAAAAAAAfMVAAAAAAABwx0AAAAAAAFi7QAAAAAAAgsRAAAAAAACOwkAAAAAAAIjTQAAAAAAAlMFAAAAAAACIw0AAAAAAAGTJQAAAAAAATL1AAAAAAABYy0AAAAAAAEy9QAAAAAAAmsBAAAAAAACI00A=",
          "dtype": "f8"
         },
         "y0": " ",
         "yaxis": "y"
        },
        {
         "alignmentgroup": "True",
         "hovertemplate": "Район=%{x}<br>Цена (грн)=%{y}<extra></extra>",
         "legendgroup": "Самарський",
         "marker": {
          "color": "#ab63fa"
         },
         "name": "Самарський",
         "notched": false,
         "offsetgroup": "Самарський",
         "orientation": "v",
         "showlegend": true,
         "type": "box",
         "x": [
          "Самарський",
          "Самарський",
          "Самарський",
          "Самарський",
          "Самарський",
          "Самарський",
          "Самарський",
          "Самарський",
          "Самарський",
          "Самарський",
          "Самарський",
          "Самарський",
          "Самарський",
          "Самарський",
          "Самарський",
          "Самарський",
          "Самарський",
          "Самарський",
          "Самарський",
          "Самарський",
          "Самарський",
          "Самарський",
          "Самарський"
         ],
         "x0": " ",
         "xaxis": "x",
         "y": {
          "bdata": "AAAAAABYu0AAAAAAAEC/QAAAAAAAashAAAAAAACcuEAAAAAAAFLMQAAAAAAAcLdAAAAAAABkuUAAAAAAAHC3QAAAAAAA+dVAAAAAAABYu0AAAAAAAHDHQAAAAAAAQL9AAAAAAAB8tUAAAAAAAHC3QAAAAAAAjsJAAAAAAABYu0AAAAAAAHzFQAAAAAAAiMNAAAAAAABkuUAAAAAAAEC/QAAAAAAAQL9AAAAAAABAv0AAAAAAAJTBQA==",
          "dtype": "f8"
         },
         "y0": " ",
         "yaxis": "y"
        },
        {
         "alignmentgroup": "True",
         "hovertemplate": "Район=%{x}<br>Цена (грн)=%{y}<extra></extra>",
         "legendgroup": "Чечелівський",
         "marker": {
          "color": "#FFA15A"
         },
         "name": "Чечелівський",
         "notched": false,
         "offsetgroup": "Чечелівський",
         "orientation": "v",
         "showlegend": true,
         "type": "box",
         "x": [
          "Чечелівський",
          "Чечелівський",
          "Чечелівський",
          "Чечелівський",
          "Чечелівський",
          "Чечелівський",
          "Чечелівський",
          "Чечелівський",
          "Чечелівський",
          "Чечелівський",
          "Чечелівський",
          "Чечелівський",
          "Чечелівський",
          "Чечелівський",
          "Чечелівський",
          "Чечелівський",
          "Чечелівський",
          "Чечелівський",
          "Чечелівський",
          "Чечелівський",
          "Чечелівський",
          "Чечелівський",
          "Чечелівський",
          "Чечелівський",
          "Чечелівський",
          "Чечелівський",
          "Чечелівський",
          "Чечелівський",
          "Чечелівський",
          "Чечелівський",
          "Чечелівський",
          "Чечелівський",
          "Чечелівський",
          "Чечелівський",
          "Чечелівський",
          "Чечелівський",
          "Чечелівський",
          "Чечелівський",
          "Чечелівський",
          "Чечелівський",
          "Чечелівський",
          "Чечелівський",
          "Чечелівський",
          "Чечелівський",
          "Чечелівський",
          "Чечелівський",
          "Чечелівський",
          "Чечелівський",
          "Чечелівський",
          "Чечелівський",
          "Чечелівський",
          "Чечелівський",
          "Чечелівський",
          "Чечелівський",
          "Чечелівський",
          "Чечелівський",
          "Чечелівський",
          "Чечелівський",
          "Чечелівський",
          "Чечелівський",
          "Чечелівський",
          "Чечелівський",
          "Чечелівський",
          "Чечелівський",
          "Чечелівський",
          "Чечелівський",
          "Чечелівський",
          "Чечелівський",
          "Чечелівський",
          "Чечелівський",
          "Чечелівський",
          "Чечелівський",
          "Чечелівський",
          "Чечелівський",
          "Чечелівський",
          "Чечелівський",
          "Чечелівський"
         ],
         "x0": " ",
         "xaxis": "x",
         "y": {
          "bdata": "AAAAAABM3UAAAAAAAIjDQAAAAAAAmsBAAAAAAABwx0AAAAAAAEC/QAAAAAAAlNFAAAAAAAAd0EAAAAAAAIjDQAAAAAAAfNVAAAAAAACIw0AAAAAAAEC/QAAAAAAAZMlAAAAAAAB8xUAAAAAAAEC/QAAAAAAAdsZAAAAAAACC1EAAAAAAAHDHQAAAAAAAWMtAAAAAAABYu0AAAAAAAEC/QAAAAAAAathAAAAAAACUwUAAAAAAAIjDQAAAAAAAdsZAAAAAAACOwkAAAAAAAJrAQAAAAAAAjsJAAAAAAABAz0AAAAAAAFi7QAAAAAAAWMtAAAAAAABYu0AAAAAAAEC/QAAAAAAAfMVAAAAAAACOwkAAAAAAAILEQAAAAAAAjsJAAAAAAACawEAAAAAAAIjDQAAAAAAAUsxAAAAAAACIw0AAAAAAAIjDQAAAAAAAQL9AAAAAAACOwkAAAAAAAFi7QAAAAAAAiNNAAAAAAABAv0AAAAAAAJTBQAAAAAAAZMlAAAAAAAB2xkAAAAAAAHDHQAAAAAAAQM9AAAAAAABYu0AAAAAAAHDHQAAAAAAAjsJAAAAAAACOwkAAAAAAAFjLQAAAAAAAdsZAAAAAAABkyUAAAAAAAHDHQAAAAAAATM1AAAAAAABMzUAAAAAAAF7KQAAAAAAAmsBAAAAAAABqyEAAAAAAAFjLQAAAAAAAiMNAAAAAAACIw0AAAAAAAHzFQAAAAAAAiNNAAAAAAABi0UAAAAAAAHDHQAAAAAAATM1AAAAAAABYy0AAAAAAAFi7QAAAAACAh8NAAAAAAAB2xkAAAAAAAFi7QA==",
          "dtype": "f8"
         },
         "y0": " ",
         "yaxis": "y"
        },
        {
         "alignmentgroup": "True",
         "hovertemplate": "Район=%{x}<br>Цена (грн)=%{y}<extra></extra>",
         "legendgroup": "Центральний",
         "marker": {
          "color": "#19d3f3"
         },
         "name": "Центральний",
         "notched": false,
         "offsetgroup": "Центральний",
         "orientation": "v",
         "showlegend": true,
         "type": "box",
         "x": [
          "Центральний",
          "Центральний",
          "Центральний",
          "Центральний",
          "Центральний",
          "Центральний",
          "Центральний",
          "Центральний",
          "Центральний",
          "Центральний",
          "Центральний",
          "Центральний",
          "Центральний",
          "Центральний",
          "Центральний",
          "Центральний",
          "Центральний",
          "Центральний",
          "Центральний",
          "Центральний",
          "Центральний",
          "Центральний",
          "Центральний",
          "Центральний",
          "Центральний",
          "Центральний",
          "Центральний",
          "Центральний",
          "Центральний",
          "Центральний",
          "Центральний",
          "Центральний",
          "Центральний",
          "Центральний",
          "Центральний",
          "Центральний",
          "Центральний",
          "Центральний",
          "Центральний",
          "Центральний",
          "Центральний",
          "Центральний",
          "Центральний",
          "Центральний",
          "Центральний",
          "Центральний",
          "Центральний",
          "Центральний",
          "Центральний",
          "Центральний",
          "Центральний",
          "Центральний",
          "Центральний",
          "Центральний",
          "Центральний",
          "Центральний",
          "Центральний",
          "Центральний",
          "Центральний",
          "Центральний",
          "Центральний",
          "Центральний",
          "Центральний",
          "Центральний",
          "Центральний",
          "Центральний",
          "Центральний",
          "Центральний",
          "Центральний",
          "Центральний",
          "Центральний",
          "Центральний",
          "Центральний",
          "Центральний",
          "Центральний",
          "Центральний",
          "Центральний",
          "Центральний",
          "Центральний",
          "Центральний",
          "Центральний",
          "Центральний",
          "Центральний",
          "Центральний",
          "Центральний",
          "Центральний",
          "Центральний",
          "Центральний",
          "Центральний",
          "Центральний",
          "Центральний",
          "Центральний",
          "Центральний",
          "Центральний",
          "Центральний",
          "Центральний",
          "Центральний",
          "Центральний",
          "Центральний",
          "Центральний",
          "Центральний",
          "Центральний",
          "Центральний",
          "Центральний",
          "Центральний",
          "Центральний",
          "Центральний",
          "Центральний",
          "Центральний",
          "Центральний",
          "Центральний",
          "Центральний",
          "Центральний",
          "Центральний",
          "Центральний",
          "Центральний",
          "Центральний",
          "Центральний",
          "Центральний",
          "Центральний",
          "Центральний",
          "Центральний",
          "Центральний",
          "Центральний",
          "Центральний",
          "Центральний",
          "Центральний",
          "Центральний",
          "Центральний",
          "Центральний",
          "Центральний",
          "Центральний",
          "Центральний",
          "Центральний",
          "Центральний",
          "Центральний",
          "Центральний",
          "Центральний",
          "Центральний",
          "Центральний",
          "Центральний",
          "Центральний",
          "Центральний",
          "Центральний",
          "Центральний",
          "Центральний",
          "Центральний",
          "Центральний",
          "Центральний",
          "Центральний",
          "Центральний",
          "Центральний",
          "Центральний",
          "Центральний",
          "Центральний",
          "Центральний",
          "Центральний",
          "Центральний",
          "Центральний",
          "Центральний",
          "Центральний",
          "Центральний",
          "Центральний",
          "Центральний",
          "Центральний",
          "Центральний",
          "Центральний",
          "Центральний",
          "Центральний",
          "Центральний",
          "Центральний",
          "Центральний",
          "Центральний",
          "Центральний",
          "Центральний",
          "Центральний",
          "Центральний",
          "Центральний",
          "Центральний",
          "Центральний",
          "Центральний",
          "Центральний",
          "Центральний",
          "Центральний",
          "Центральний",
          "Центральний",
          "Центральний",
          "Центральний",
          "Центральний",
          "Центральний",
          "Центральний",
          "Центральний",
          "Центральний",
          "Центральний",
          "Центральний",
          "Центральний",
          "Центральний",
          "Центральний",
          "Центральний",
          "Центральний",
          "Центральний",
          "Центральний",
          "Центральний",
          "Центральний",
          "Центральний",
          "Центральний",
          "Центральний",
          "Центральний",
          "Центральний",
          "Центральний",
          "Центральний",
          "Центральний",
          "Центральний",
          "Центральний",
          "Центральний",
          "Центральний",
          "Центральний",
          "Центральний",
          "Центральний",
          "Центральний",
          "Центральний",
          "Центральний",
          "Центральний",
          "Центральний",
          "Центральний",
          "Центральний",
          "Центральний",
          "Центральний",
          "Центральний",
          "Центральний",
          "Центральний",
          "Центральний",
          "Центральний",
          "Центральний",
          "Центральний",
          "Центральний",
          "Центральний",
          "Центральний",
          "Центральний",
          "Центральний",
          "Центральний",
          "Центральний",
          "Центральний",
          "Центральний",
          "Центральний",
          "Центральний",
          "Центральний",
          "Центральний"
         ],
         "x0": " ",
         "xaxis": "x",
         "y": {
          "bdata": "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",
          "dtype": "f8"
         },
         "y0": " ",
         "yaxis": "y"
        },
        {
         "alignmentgroup": "True",
         "hovertemplate": "Район=%{x}<br>Цена (грн)=%{y}<extra></extra>",
         "legendgroup": "Індустріальний",
         "marker": {
          "color": "#FF6692"
         },
         "name": "Індустріальний",
         "notched": false,
         "offsetgroup": "Індустріальний",
         "orientation": "v",
         "showlegend": true,
         "type": "box",
         "x": [
          "Індустріальний",
          "Індустріальний",
          "Індустріальний",
          "Індустріальний",
          "Індустріальний",
          "Індустріальний",
          "Індустріальний",
          "Індустріальний",
          "Індустріальний",
          "Індустріальний",
          "Індустріальний",
          "Індустріальний",
          "Індустріальний",
          "Індустріальний",
          "Індустріальний",
          "Індустріальний",
          "Індустріальний",
          "Індустріальний",
          "Індустріальний",
          "Індустріальний",
          "Індустріальний",
          "Індустріальний",
          "Індустріальний",
          "Індустріальний",
          "Індустріальний",
          "Індустріальний",
          "Індустріальний",
          "Індустріальний",
          "Індустріальний",
          "Індустріальний",
          "Індустріальний",
          "Індустріальний",
          "Індустріальний",
          "Індустріальний",
          "Індустріальний",
          "Індустріальний",
          "Індустріальний",
          "Індустріальний",
          "Індустріальний",
          "Індустріальний",
          "Індустріальний",
          "Індустріальний",
          "Індустріальний",
          "Індустріальний",
          "Індустріальний",
          "Індустріальний",
          "Індустріальний",
          "Індустріальний",
          "Індустріальний",
          "Індустріальний",
          "Індустріальний",
          "Індустріальний",
          "Індустріальний",
          "Індустріальний",
          "Індустріальний",
          "Індустріальний",
          "Індустріальний",
          "Індустріальний",
          "Індустріальний",
          "Індустріальний",
          "Індустріальний",
          "Індустріальний",
          "Індустріальний",
          "Індустріальний",
          "Індустріальний",
          "Індустріальний",
          "Індустріальний",
          "Індустріальний",
          "Індустріальний",
          "Індустріальний",
          "Індустріальний",
          "Індустріальний",
          "Індустріальний",
          "Індустріальний",
          "Індустріальний",
          "Індустріальний",
          "Індустріальний",
          "Індустріальний",
          "Індустріальний",
          "Індустріальний",
          "Індустріальний",
          "Індустріальний",
          "Індустріальний",
          "Індустріальний",
          "Індустріальний",
          "Індустріальний",
          "Індустріальний",
          "Індустріальний",
          "Індустріальний",
          "Індустріальний",
          "Індустріальний",
          "Індустріальний",
          "Індустріальний",
          "Індустріальний",
          "Індустріальний",
          "Індустріальний",
          "Індустріальний",
          "Індустріальний",
          "Індустріальний",
          "Індустріальний",
          "Індустріальний",
          "Індустріальний",
          "Індустріальний",
          "Індустріальний",
          "Індустріальний",
          "Індустріальний",
          "Індустріальний",
          "Індустріальний",
          "Індустріальний",
          "Індустріальний",
          "Індустріальний",
          "Індустріальний",
          "Індустріальний",
          "Індустріальний",
          "Індустріальний",
          "Індустріальний",
          "Індустріальний",
          "Індустріальний",
          "Індустріальний",
          "Індустріальний",
          "Індустріальний",
          "Індустріальний",
          "Індустріальний",
          "Індустріальний",
          "Індустріальний",
          "Індустріальний",
          "Індустріальний",
          "Індустріальний",
          "Індустріальний",
          "Індустріальний",
          "Індустріальний",
          "Індустріальний",
          "Індустріальний",
          "Індустріальний",
          "Індустріальний",
          "Індустріальний",
          "Індустріальний",
          "Індустріальний",
          "Індустріальний",
          "Індустріальний",
          "Індустріальний",
          "Індустріальний",
          "Індустріальний",
          "Індустріальний",
          "Індустріальний",
          "Індустріальний",
          "Індустріальний",
          "Індустріальний",
          "Індустріальний",
          "Індустріальний",
          "Індустріальний",
          "Індустріальний",
          "Індустріальний",
          "Індустріальний",
          "Індустріальний",
          "Індустріальний",
          "Індустріальний",
          "Індустріальний",
          "Індустріальний",
          "Індустріальний",
          "Індустріальний",
          "Індустріальний",
          "Індустріальний",
          "Індустріальний",
          "Індустріальний",
          "Індустріальний"
         ],
         "x0": " ",
         "xaxis": "x",
         "y": {
          "bdata": "AAAAAABAv0AAAAAAAJTRQAAAAAAAQL9AAAAAAABMvUAAAAAAAIjTQAAAAAAAiMNAAAAAAACI00AAAAAAAHzFQAAAAAAAashAAAAAAABMzUAAAAAAAHDHQAAAAAAAiMNAAAAAAAB81UAAAAAAAIjDQAAAAAAAcMdAAAAAAABwx0AAAAAAAHzFQAAAAAAAfMVAAAAAAABAv0AAAAAAAJTBQAAAAAAAlMFAAAAAAACUwUAAAAAAAJTBQAAAAAAAlMFAAAAAAABkyUAAAAAAAIjTQAAAAAAAWMtAAAAAAACUwUAAAAAAAFi7QAAAAAAAlMFAAAAAAABYu0AAAAAAAEy9QAAAAAAAiMNAAAAAAABAv0AAAAAAAIjDQAAAAAAAiMNAAAAAAABwx0AAAAAAAJTBQAAAAAAAfLVAAAAAAABGzkAAAAAAAHC3QAAAAAAAcMdAAAAAAABwx0AAAAAAAEy9QAAAAAAAjsJAAAAAAACawEAAAAAAAIjDQAAAAAAAcMdAAAAAAACa0EAAAAAAAFbTQAAAAAAAfMVAAAAAAABYu0AAAAAAAHzFQAAAAAAAWMtAAAAAAAAX0UAAAAAAAIjDQAAAAAAATL1AAAAAAABwx0AAAAAAAHzFQAAAAAAAiMNAAAAAAACawEAAAAAAAEDPQAAAAAAAlMFAAAAAAABAv0AAAAAAAHDHQAAAAAAAashAAAAAAABwx0AAAAAAAEDPQAAAAAAAWLtAAAAAAABwx0AAAAAAAIjDQAAAAAAAiLNAAAAAAABYy0AAAAAAAI7CQAAAAAAAfMVAAAAAAABYu0AAAAAAAI7CQAAAAAAAZMlAAAAAAABAv0AAAAAAAHbGQAAAAAAAcMdAAAAAAABkyUAAAAAAAFi7QAAAAAAAQL9AAAAAAACUwUAAAAAAAFi7QAAAAAAATL1AAAAAAABwx0AAAAAAwIfTQAAAAAAAQL9AAAAAAABYu0AAAAAAAGrIQAAAAAAAQL9AAAAAAACUwUAAAAAAAJrAQAAAAAAAZMlAAAAAAACOwkAAAAAAAJrAQAAAAAAAdsZAAAAAAABwx0AAAAAAAHDHQAAAAAAAfMVAAAAAAABYu0AAAAAAAEzNQAAAAAAAjsJAAAAAAACawEAAAAAAACbLQAAAAAAAQL9AAAAAAACUwUAAAAAAAHC3QAAAAAAAXspAAAAAAACO0kAAAAAAAGrIQAAAAAAAWMtAAAAAAABkyUAAAAAAgGPJQAAAAAAAlNFAAAAAAACUwUAAAAAAABHSQAAAAAAAfMVAAAAAAABYy0AAAAAAAEDPQAAAAAAAXspAAAAAAABkyUAAAAAAAEzNQAAAAAAAlMFAAAAAAABwx0AAAAAAAIjDQAAAAAAAhLxAAAAAAAAX0UAAAAAAAGTJQAAAAAAAfMVAAAAAAABwx0AAAAAAAIjDQAAAAAAAfMVAAAAAAABwx0AAAAAAAEy9QAAAAAAAdsZAAAAAAABkyUAAAAAAAJrAQAAAAAAAWMtAAAAAAABAz0AAAAAAAEDPQAAAAAAAfMVAAAAAAAAX0UAAAAAAAGTJQAAAAAAAcMdAAAAAAACUwUAAAAAAAJTBQAAAAAAAXspAAAAAAABiwUAAAAAAAHDHQAAAAAAAF9FAAAAAAACIw0AAAAAAAIjDQAAAAAAAcMdAAAAAAABwx0AAAAAAAHzFQAAAAAAAQM9AAAAAAACIw0AAAAAAAI7CQAAAAAAAiMNAAAAAAAAX0UAAAAAAAHDHQAAAAAAAQL9AAAAAAABAv0A=",
          "dtype": "f8"
         },
         "y0": " ",
         "yaxis": "y"
        },
        {
         "alignmentgroup": "True",
         "hovertemplate": "Район=%{x}<br>Цена (грн)=%{y}<extra></extra>",
         "legendgroup": "Новокодацький",
         "marker": {
          "color": "#B6E880"
         },
         "name": "Новокодацький",
         "notched": false,
         "offsetgroup": "Новокодацький",
         "orientation": "v",
         "showlegend": true,
         "type": "box",
         "x": [
          "Новокодацький",
          "Новокодацький",
          "Новокодацький",
          "Новокодацький",
          "Новокодацький",
          "Новокодацький",
          "Новокодацький",
          "Новокодацький",
          "Новокодацький",
          "Новокодацький",
          "Новокодацький",
          "Новокодацький",
          "Новокодацький",
          "Новокодацький",
          "Новокодацький",
          "Новокодацький",
          "Новокодацький",
          "Новокодацький",
          "Новокодацький",
          "Новокодацький",
          "Новокодацький",
          "Новокодацький",
          "Новокодацький",
          "Новокодацький",
          "Новокодацький",
          "Новокодацький",
          "Новокодацький",
          "Новокодацький",
          "Новокодацький",
          "Новокодацький",
          "Новокодацький",
          "Новокодацький",
          "Новокодацький",
          "Новокодацький",
          "Новокодацький",
          "Новокодацький",
          "Новокодацький",
          "Новокодацький",
          "Новокодацький",
          "Новокодацький",
          "Новокодацький",
          "Новокодацький",
          "Новокодацький",
          "Новокодацький",
          "Новокодацький",
          "Новокодацький",
          "Новокодацький",
          "Новокодацький",
          "Новокодацький"
         ],
         "x0": " ",
         "xaxis": "x",
         "y": {
          "bdata": "AAAAAAB2xkAAAAAAAEC/QAAAAAAAWMtAAAAAAAB8tUAAAAAAAILEQAAAAAAAlMFAAAAAAACUwUAAAAAAAIjDQAAAAAAAmsBAAAAAAACUwUAAAAAAAEC/QAAAAAAAlMFAAAAAAABwx0AAAAAAAFi7QAAAAAAAlMFAAAAAAABYu0AAAAAAAJTBQAAAAAAAcMdAAAAAAABMvUAAAAAAAIizQAAAAAAAcLdAAAAAAACUwUAAAAAAAHC3QAAAAAAAcMdAAAAAAABwx0AAAAAAAHDHQAAAAAAAlMFAAAAAAABAv0AAAAAAAJTBQAAAAAAAiLNAAAAAAABYu0AAAAAAAGrIQAAAAAAAcLdAAAAAAACawEAAAAAAAIizQAAAAAAAmsBAAAAAAABwx0AAAAAAAJrAQAAAAAAAtMRAAAAAAABwx0AAAAAAAFi7QAAAAAAAcLdAAAAAAABwx0AAAAAAAFi7QAAAAAAAdsZAAAAAAABYu0AAAAAAAILEQAAAAAAAlMFAAAAAAAAd0EA=",
          "dtype": "f8"
         },
         "y0": " ",
         "yaxis": "y"
        }
       ],
       "layout": {
        "boxmode": "overlay",
        "height": 500,
        "legend": {
         "title": {
          "text": "Район"
         },
         "tracegroupgap": 0
        },
        "showlegend": false,
        "template": {
         "data": {
          "bar": [
           {
            "error_x": {
             "color": "#2a3f5f"
            },
            "error_y": {
             "color": "#2a3f5f"
            },
            "marker": {
             "line": {
              "color": "white",
              "width": 0.5
             },
             "pattern": {
              "fillmode": "overlay",
              "size": 10,
              "solidity": 0.2
             }
            },
            "type": "bar"
           }
          ],
          "barpolar": [
           {
            "marker": {
             "line": {
              "color": "white",
              "width": 0.5
             },
             "pattern": {
              "fillmode": "overlay",
              "size": 10,
              "solidity": 0.2
             }
            },
            "type": "barpolar"
           }
          ],
          "carpet": [
           {
            "aaxis": {
             "endlinecolor": "#2a3f5f",
             "gridcolor": "#C8D4E3",
             "linecolor": "#C8D4E3",
             "minorgridcolor": "#C8D4E3",
             "startlinecolor": "#2a3f5f"
            },
            "baxis": {
             "endlinecolor": "#2a3f5f",
             "gridcolor": "#C8D4E3",
             "linecolor": "#C8D4E3",
             "minorgridcolor": "#C8D4E3",
             "startlinecolor": "#2a3f5f"
            },
            "type": "carpet"
           }
          ],
          "choropleth": [
           {
            "colorbar": {
             "outlinewidth": 0,
             "ticks": ""
            },
            "type": "choropleth"
           }
          ],
          "contour": [
           {
            "colorbar": {
             "outlinewidth": 0,
             "ticks": ""
            },
            "colorscale": [
             [
              0,
              "#0d0887"
             ],
             [
              0.1111111111111111,
              "#46039f"
             ],
             [
              0.2222222222222222,
              "#7201a8"
             ],
             [
              0.3333333333333333,
              "#9c179e"
             ],
             [
              0.4444444444444444,
              "#bd3786"
             ],
             [
              0.5555555555555556,
              "#d8576b"
             ],
             [
              0.6666666666666666,
              "#ed7953"
             ],
             [
              0.7777777777777778,
              "#fb9f3a"
             ],
             [
              0.8888888888888888,
              "#fdca26"
             ],
             [
              1,
              "#f0f921"
             ]
            ],
            "type": "contour"
           }
          ],
          "contourcarpet": [
           {
            "colorbar": {
             "outlinewidth": 0,
             "ticks": ""
            },
            "type": "contourcarpet"
           }
          ],
          "heatmap": [
           {
            "colorbar": {
             "outlinewidth": 0,
             "ticks": ""
            },
            "colorscale": [
             [
              0,
              "#0d0887"
             ],
             [
              0.1111111111111111,
              "#46039f"
             ],
             [
              0.2222222222222222,
              "#7201a8"
             ],
             [
              0.3333333333333333,
              "#9c179e"
             ],
             [
              0.4444444444444444,
              "#bd3786"
             ],
             [
              0.5555555555555556,
              "#d8576b"
             ],
             [
              0.6666666666666666,
              "#ed7953"
             ],
             [
              0.7777777777777778,
              "#fb9f3a"
             ],
             [
              0.8888888888888888,
              "#fdca26"
             ],
             [
              1,
              "#f0f921"
             ]
            ],
            "type": "heatmap"
           }
          ],
          "histogram": [
           {
            "marker": {
             "pattern": {
              "fillmode": "overlay",
              "size": 10,
              "solidity": 0.2
             }
            },
            "type": "histogram"
           }
          ],
          "histogram2d": [
           {
            "colorbar": {
             "outlinewidth": 0,
             "ticks": ""
            },
            "colorscale": [
             [
              0,
              "#0d0887"
             ],
             [
              0.1111111111111111,
              "#46039f"
             ],
             [
              0.2222222222222222,
              "#7201a8"
             ],
             [
              0.3333333333333333,
              "#9c179e"
             ],
             [
              0.4444444444444444,
              "#bd3786"
             ],
             [
              0.5555555555555556,
              "#d8576b"
             ],
             [
              0.6666666666666666,
              "#ed7953"
             ],
             [
              0.7777777777777778,
              "#fb9f3a"
             ],
             [
              0.8888888888888888,
              "#fdca26"
             ],
             [
              1,
              "#f0f921"
             ]
            ],
            "type": "histogram2d"
           }
          ],
          "histogram2dcontour": [
           {
            "colorbar": {
             "outlinewidth": 0,
             "ticks": ""
            },
            "colorscale": [
             [
              0,
              "#0d0887"
             ],
             [
              0.1111111111111111,
              "#46039f"
             ],
             [
              0.2222222222222222,
              "#7201a8"
             ],
             [
              0.3333333333333333,
              "#9c179e"
             ],
             [
              0.4444444444444444,
              "#bd3786"
             ],
             [
              0.5555555555555556,
              "#d8576b"
             ],
             [
              0.6666666666666666,
              "#ed7953"
             ],
             [
              0.7777777777777778,
              "#fb9f3a"
             ],
             [
              0.8888888888888888,
              "#fdca26"
             ],
             [
              1,
              "#f0f921"
             ]
            ],
            "type": "histogram2dcontour"
           }
          ],
          "mesh3d": [
           {
            "colorbar": {
             "outlinewidth": 0,
             "ticks": ""
            },
            "type": "mesh3d"
           }
          ],
          "parcoords": [
           {
            "line": {
             "colorbar": {
              "outlinewidth": 0,
              "ticks": ""
             }
            },
            "type": "parcoords"
           }
          ],
          "pie": [
           {
            "automargin": true,
            "type": "pie"
           }
          ],
          "scatter": [
           {
            "fillpattern": {
             "fillmode": "overlay",
             "size": 10,
             "solidity": 0.2
            },
            "type": "scatter"
           }
          ],
          "scatter3d": [
           {
            "line": {
             "colorbar": {
              "outlinewidth": 0,
              "ticks": ""
             }
            },
            "marker": {
             "colorbar": {
              "outlinewidth": 0,
              "ticks": ""
             }
            },
            "type": "scatter3d"
           }
          ],
          "scattercarpet": [
           {
            "marker": {
             "colorbar": {
              "outlinewidth": 0,
              "ticks": ""
             }
            },
            "type": "scattercarpet"
           }
          ],
          "scattergeo": [
           {
            "marker": {
             "colorbar": {
              "outlinewidth": 0,
              "ticks": ""
             }
            },
            "type": "scattergeo"
           }
          ],
          "scattergl": [
           {
            "marker": {
             "colorbar": {
              "outlinewidth": 0,
              "ticks": ""
             }
            },
            "type": "scattergl"
           }
          ],
          "scattermap": [
           {
            "marker": {
             "colorbar": {
              "outlinewidth": 0,
              "ticks": ""
             }
            },
            "type": "scattermap"
           }
          ],
          "scattermapbox": [
           {
            "marker": {
             "colorbar": {
              "outlinewidth": 0,
              "ticks": ""
             }
            },
            "type": "scattermapbox"
           }
          ],
          "scatterpolar": [
           {
            "marker": {
             "colorbar": {
              "outlinewidth": 0,
              "ticks": ""
             }
            },
            "type": "scatterpolar"
           }
          ],
          "scatterpolargl": [
           {
            "marker": {
             "colorbar": {
              "outlinewidth": 0,
              "ticks": ""
             }
            },
            "type": "scatterpolargl"
           }
          ],
          "scatterternary": [
           {
            "marker": {
             "colorbar": {
              "outlinewidth": 0,
              "ticks": ""
             }
            },
            "type": "scatterternary"
           }
          ],
          "surface": [
           {
            "colorbar": {
             "outlinewidth": 0,
             "ticks": ""
            },
            "colorscale": [
             [
              0,
              "#0d0887"
             ],
             [
              0.1111111111111111,
              "#46039f"
             ],
             [
              0.2222222222222222,
              "#7201a8"
             ],
             [
              0.3333333333333333,
              "#9c179e"
             ],
             [
              0.4444444444444444,
              "#bd3786"
             ],
             [
              0.5555555555555556,
              "#d8576b"
             ],
             [
              0.6666666666666666,
              "#ed7953"
             ],
             [
              0.7777777777777778,
              "#fb9f3a"
             ],
             [
              0.8888888888888888,
              "#fdca26"
             ],
             [
              1,
              "#f0f921"
             ]
            ],
            "type": "surface"
           }
          ],
          "table": [
           {
            "cells": {
             "fill": {
              "color": "#EBF0F8"
             },
             "line": {
              "color": "white"
             }
            },
            "header": {
             "fill": {
              "color": "#C8D4E3"
             },
             "line": {
              "color": "white"
             }
            },
            "type": "table"
           }
          ]
         },
         "layout": {
          "annotationdefaults": {
           "arrowcolor": "#2a3f5f",
           "arrowhead": 0,
           "arrowwidth": 1
          },
          "autotypenumbers": "strict",
          "coloraxis": {
           "colorbar": {
            "outlinewidth": 0,
            "ticks": ""
           }
          },
          "colorscale": {
           "diverging": [
            [
             0,
             "#8e0152"
            ],
            [
             0.1,
             "#c51b7d"
            ],
            [
             0.2,
             "#de77ae"
            ],
            [
             0.3,
             "#f1b6da"
            ],
            [
             0.4,
             "#fde0ef"
            ],
            [
             0.5,
             "#f7f7f7"
            ],
            [
             0.6,
             "#e6f5d0"
            ],
            [
             0.7,
             "#b8e186"
            ],
            [
             0.8,
             "#7fbc41"
            ],
            [
             0.9,
             "#4d9221"
            ],
            [
             1,
             "#276419"
            ]
           ],
           "sequential": [
            [
             0,
             "#0d0887"
            ],
            [
             0.1111111111111111,
             "#46039f"
            ],
            [
             0.2222222222222222,
             "#7201a8"
            ],
            [
             0.3333333333333333,
             "#9c179e"
            ],
            [
             0.4444444444444444,
             "#bd3786"
            ],
            [
             0.5555555555555556,
             "#d8576b"
            ],
            [
             0.6666666666666666,
             "#ed7953"
            ],
            [
             0.7777777777777778,
             "#fb9f3a"
            ],
            [
             0.8888888888888888,
             "#fdca26"
            ],
            [
             1,
             "#f0f921"
            ]
           ],
           "sequentialminus": [
            [
             0,
             "#0d0887"
            ],
            [
             0.1111111111111111,
             "#46039f"
            ],
            [
             0.2222222222222222,
             "#7201a8"
            ],
            [
             0.3333333333333333,
             "#9c179e"
            ],
            [
             0.4444444444444444,
             "#bd3786"
            ],
            [
             0.5555555555555556,
             "#d8576b"
            ],
            [
             0.6666666666666666,
             "#ed7953"
            ],
            [
             0.7777777777777778,
             "#fb9f3a"
            ],
            [
             0.8888888888888888,
             "#fdca26"
            ],
            [
             1,
             "#f0f921"
            ]
           ]
          },
          "colorway": [
           "#636efa",
           "#EF553B",
           "#00cc96",
           "#ab63fa",
           "#FFA15A",
           "#19d3f3",
           "#FF6692",
           "#B6E880",
           "#FF97FF",
           "#FECB52"
          ],
          "font": {
           "color": "#2a3f5f"
          },
          "geo": {
           "bgcolor": "white",
           "lakecolor": "white",
           "landcolor": "white",
           "showlakes": true,
           "showland": true,
           "subunitcolor": "#C8D4E3"
          },
          "hoverlabel": {
           "align": "left"
          },
          "hovermode": "closest",
          "mapbox": {
           "style": "light"
          },
          "paper_bgcolor": "white",
          "plot_bgcolor": "white",
          "polar": {
           "angularaxis": {
            "gridcolor": "#EBF0F8",
            "linecolor": "#EBF0F8",
            "ticks": ""
           },
           "bgcolor": "white",
           "radialaxis": {
            "gridcolor": "#EBF0F8",
            "linecolor": "#EBF0F8",
            "ticks": ""
           }
          },
          "scene": {
           "xaxis": {
            "backgroundcolor": "white",
            "gridcolor": "#DFE8F3",
            "gridwidth": 2,
            "linecolor": "#EBF0F8",
            "showbackground": true,
            "ticks": "",
            "zerolinecolor": "#EBF0F8"
           },
           "yaxis": {
            "backgroundcolor": "white",
            "gridcolor": "#DFE8F3",
            "gridwidth": 2,
            "linecolor": "#EBF0F8",
            "showbackground": true,
            "ticks": "",
            "zerolinecolor": "#EBF0F8"
           },
           "zaxis": {
            "backgroundcolor": "white",
            "gridcolor": "#DFE8F3",
            "gridwidth": 2,
            "linecolor": "#EBF0F8",
            "showbackground": true,
            "ticks": "",
            "zerolinecolor": "#EBF0F8"
           }
          },
          "shapedefaults": {
           "line": {
            "color": "#2a3f5f"
           }
          },
          "ternary": {
           "aaxis": {
            "gridcolor": "#DFE8F3",
            "linecolor": "#A2B1C6",
            "ticks": ""
           },
           "baxis": {
            "gridcolor": "#DFE8F3",
            "linecolor": "#A2B1C6",
            "ticks": ""
           },
           "bgcolor": "white",
           "caxis": {
            "gridcolor": "#DFE8F3",
            "linecolor": "#A2B1C6",
            "ticks": ""
           }
          },
          "title": {
           "x": 0.05
          },
          "xaxis": {
           "automargin": true,
           "gridcolor": "#EBF0F8",
           "linecolor": "#EBF0F8",
           "ticks": "",
           "title": {
            "standoff": 15
           },
           "zerolinecolor": "#EBF0F8",
           "zerolinewidth": 2
          },
          "yaxis": {
           "automargin": true,
           "gridcolor": "#EBF0F8",
           "linecolor": "#EBF0F8",
           "ticks": "",
           "title": {
            "standoff": 15
           },
           "zerolinecolor": "#EBF0F8",
           "zerolinewidth": 2
          }
         }
        },
        "title": {
         "text": "Распределение цен по районам"
        },
        "xaxis": {
         "anchor": "y",
         "categoryarray": [
          "Соборний",
          "Шевченківський",
          "Амур-Нижньодніпровський",
          "Самарський",
          "Чечелівський",
          "Центральний",
          "Індустріальний",
          "Новокодацький"
         ],
         "categoryorder": "array",
         "domain": [
          0,
          1
         ],
         "tickangle": -45,
         "title": {
          "text": "Район"
         }
        },
        "yaxis": {
         "anchor": "x",
         "domain": [
          0,
          1
         ],
         "title": {
          "text": "Цена (грн)"
         }
        }
       }
      }
     },
     "metadata": {},
     "output_type": "display_data"
    },
    {
     "data": {
      "application/vnd.plotly.v1+json": {
       "config": {
        "plotlyServerURL": "https://plot.ly"
       },
       "data": [
        {
         "bingroup": "x",
         "hovertemplate": "Цена (грн)=%{x}<br>count=%{y}<extra></extra>",
         "legendgroup": "",
         "marker": {
          "color": "#636EFA",
          "pattern": {
           "shape": ""
          }
         },
         "name": "",
         "nbinsx": 50,
         "orientation": "v",
         "showlegend": false,
         "type": "histogram",
         "x": {
          "bdata": "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",
          "dtype": "f8"
         },
         "xaxis": "x",
         "yaxis": "y"
        }
       ],
       "layout": {
        "barmode": "relative",
        "height": 400,
        "legend": {
         "tracegroupgap": 0
        },
        "template": {
         "data": {
          "bar": [
           {
            "error_x": {
             "color": "#2a3f5f"
            },
            "error_y": {
             "color": "#2a3f5f"
            },
            "marker": {
             "line": {
              "color": "white",
              "width": 0.5
             },
             "pattern": {
              "fillmode": "overlay",
              "size": 10,
              "solidity": 0.2
             }
            },
            "type": "bar"
           }
          ],
          "barpolar": [
           {
            "marker": {
             "line": {
              "color": "white",
              "width": 0.5
             },
             "pattern": {
              "fillmode": "overlay",
              "size": 10,
              "solidity": 0.2
             }
            },
            "type": "barpolar"
           }
          ],
          "carpet": [
           {
            "aaxis": {
             "endlinecolor": "#2a3f5f",
             "gridcolor": "#C8D4E3",
             "linecolor": "#C8D4E3",
             "minorgridcolor": "#C8D4E3",
             "startlinecolor": "#2a3f5f"
            },
            "baxis": {
             "endlinecolor": "#2a3f5f",
             "gridcolor": "#C8D4E3",
             "linecolor": "#C8D4E3",
             "minorgridcolor": "#C8D4E3",
             "startlinecolor": "#2a3f5f"
            },
            "type": "carpet"
           }
          ],
          "choropleth": [
           {
            "colorbar": {
             "outlinewidth": 0,
             "ticks": ""
            },
            "type": "choropleth"
           }
          ],
          "contour": [
           {
            "colorbar": {
             "outlinewidth": 0,
             "ticks": ""
            },
            "colorscale": [
             [
              0,
              "#0d0887"
             ],
             [
              0.1111111111111111,
              "#46039f"
             ],
             [
              0.2222222222222222,
              "#7201a8"
             ],
             [
              0.3333333333333333,
              "#9c179e"
             ],
             [
              0.4444444444444444,
              "#bd3786"
             ],
             [
              0.5555555555555556,
              "#d8576b"
             ],
             [
              0.6666666666666666,
              "#ed7953"
             ],
             [
              0.7777777777777778,
              "#fb9f3a"
             ],
             [
              0.8888888888888888,
              "#fdca26"
             ],
             [
              1,
              "#f0f921"
             ]
            ],
            "type": "contour"
           }
          ],
          "contourcarpet": [
           {
            "colorbar": {
             "outlinewidth": 0,
             "ticks": ""
            },
            "type": "contourcarpet"
           }
          ],
          "heatmap": [
           {
            "colorbar": {
             "outlinewidth": 0,
             "ticks": ""
            },
            "colorscale": [
             [
              0,
              "#0d0887"
             ],
             [
              0.1111111111111111,
              "#46039f"
             ],
             [
              0.2222222222222222,
              "#7201a8"
             ],
             [
              0.3333333333333333,
              "#9c179e"
             ],
             [
              0.4444444444444444,
              "#bd3786"
             ],
             [
              0.5555555555555556,
              "#d8576b"
             ],
             [
              0.6666666666666666,
              "#ed7953"
             ],
             [
              0.7777777777777778,
              "#fb9f3a"
             ],
             [
              0.8888888888888888,
              "#fdca26"
             ],
             [
              1,
              "#f0f921"
             ]
            ],
            "type": "heatmap"
           }
          ],
          "histogram": [
           {
            "marker": {
             "pattern": {
              "fillmode": "overlay",
              "size": 10,
              "solidity": 0.2
             }
            },
            "type": "histogram"
           }
          ],
          "histogram2d": [
           {
            "colorbar": {
             "outlinewidth": 0,
             "ticks": ""
            },
            "colorscale": [
             [
              0,
              "#0d0887"
             ],
             [
              0.1111111111111111,
              "#46039f"
             ],
             [
              0.2222222222222222,
              "#7201a8"
             ],
             [
              0.3333333333333333,
              "#9c179e"
             ],
             [
              0.4444444444444444,
              "#bd3786"
             ],
             [
              0.5555555555555556,
              "#d8576b"
             ],
             [
              0.6666666666666666,
              "#ed7953"
             ],
             [
              0.7777777777777778,
              "#fb9f3a"
             ],
             [
              0.8888888888888888,
              "#fdca26"
             ],
             [
              1,
              "#f0f921"
             ]
            ],
            "type": "histogram2d"
           }
          ],
          "histogram2dcontour": [
           {
            "colorbar": {
             "outlinewidth": 0,
             "ticks": ""
            },
            "colorscale": [
             [
              0,
              "#0d0887"
             ],
             [
              0.1111111111111111,
              "#46039f"
             ],
             [
              0.2222222222222222,
              "#7201a8"
             ],
             [
              0.3333333333333333,
              "#9c179e"
             ],
             [
              0.4444444444444444,
              "#bd3786"
             ],
             [
              0.5555555555555556,
              "#d8576b"
             ],
             [
              0.6666666666666666,
              "#ed7953"
             ],
             [
              0.7777777777777778,
              "#fb9f3a"
             ],
             [
              0.8888888888888888,
              "#fdca26"
             ],
             [
              1,
              "#f0f921"
             ]
            ],
            "type": "histogram2dcontour"
           }
          ],
          "mesh3d": [
           {
            "colorbar": {
             "outlinewidth": 0,
             "ticks": ""
            },
            "type": "mesh3d"
           }
          ],
          "parcoords": [
           {
            "line": {
             "colorbar": {
              "outlinewidth": 0,
              "ticks": ""
             }
            },
            "type": "parcoords"
           }
          ],
          "pie": [
           {
            "automargin": true,
            "type": "pie"
           }
          ],
          "scatter": [
           {
            "fillpattern": {
             "fillmode": "overlay",
             "size": 10,
             "solidity": 0.2
            },
            "type": "scatter"
           }
          ],
          "scatter3d": [
           {
            "line": {
             "colorbar": {
              "outlinewidth": 0,
              "ticks": ""
             }
            },
            "marker": {
             "colorbar": {
              "outlinewidth": 0,
              "ticks": ""
             }
            },
            "type": "scatter3d"
           }
          ],
          "scattercarpet": [
           {
            "marker": {
             "colorbar": {
              "outlinewidth": 0,
              "ticks": ""
             }
            },
            "type": "scattercarpet"
           }
          ],
          "scattergeo": [
           {
            "marker": {
             "colorbar": {
              "outlinewidth": 0,
              "ticks": ""
             }
            },
            "type": "scattergeo"
           }
          ],
          "scattergl": [
           {
            "marker": {
             "colorbar": {
              "outlinewidth": 0,
              "ticks": ""
             }
            },
            "type": "scattergl"
           }
          ],
          "scattermap": [
           {
            "marker": {
             "colorbar": {
              "outlinewidth": 0,
              "ticks": ""
             }
            },
            "type": "scattermap"
           }
          ],
          "scattermapbox": [
           {
            "marker": {
             "colorbar": {
              "outlinewidth": 0,
              "ticks": ""
             }
            },
            "type": "scattermapbox"
           }
          ],
          "scatterpolar": [
           {
            "marker": {
             "colorbar": {
              "outlinewidth": 0,
              "ticks": ""
             }
            },
            "type": "scatterpolar"
           }
          ],
          "scatterpolargl": [
           {
            "marker": {
             "colorbar": {
              "outlinewidth": 0,
              "ticks": ""
             }
            },
            "type": "scatterpolargl"
           }
          ],
          "scatterternary": [
           {
            "marker": {
             "colorbar": {
              "outlinewidth": 0,
              "ticks": ""
             }
            },
            "type": "scatterternary"
           }
          ],
          "surface": [
           {
            "colorbar": {
             "outlinewidth": 0,
             "ticks": ""
            },
            "colorscale": [
             [
              0,
              "#0d0887"
             ],
             [
              0.1111111111111111,
              "#46039f"
             ],
             [
              0.2222222222222222,
              "#7201a8"
             ],
             [
              0.3333333333333333,
              "#9c179e"
             ],
             [
              0.4444444444444444,
              "#bd3786"
             ],
             [
              0.5555555555555556,
              "#d8576b"
             ],
             [
              0.6666666666666666,
              "#ed7953"
             ],
             [
              0.7777777777777778,
              "#fb9f3a"
             ],
             [
              0.8888888888888888,
              "#fdca26"
             ],
             [
              1,
              "#f0f921"
             ]
            ],
            "type": "surface"
           }
          ],
          "table": [
           {
            "cells": {
             "fill": {
              "color": "#EBF0F8"
             },
             "line": {
              "color": "white"
             }
            },
            "header": {
             "fill": {
              "color": "#C8D4E3"
             },
             "line": {
              "color": "white"
             }
            },
            "type": "table"
           }
          ]
         },
         "layout": {
          "annotationdefaults": {
           "arrowcolor": "#2a3f5f",
           "arrowhead": 0,
           "arrowwidth": 1
          },
          "autotypenumbers": "strict",
          "coloraxis": {
           "colorbar": {
            "outlinewidth": 0,
            "ticks": ""
           }
          },
          "colorscale": {
           "diverging": [
            [
             0,
             "#8e0152"
            ],
            [
             0.1,
             "#c51b7d"
            ],
            [
             0.2,
             "#de77ae"
            ],
            [
             0.3,
             "#f1b6da"
            ],
            [
             0.4,
             "#fde0ef"
            ],
            [
             0.5,
             "#f7f7f7"
            ],
            [
             0.6,
             "#e6f5d0"
            ],
            [
             0.7,
             "#b8e186"
            ],
            [
             0.8,
             "#7fbc41"
            ],
            [
             0.9,
             "#4d9221"
            ],
            [
             1,
             "#276419"
            ]
           ],
           "sequential": [
            [
             0,
             "#0d0887"
            ],
            [
             0.1111111111111111,
             "#46039f"
            ],
            [
             0.2222222222222222,
             "#7201a8"
            ],
            [
             0.3333333333333333,
             "#9c179e"
            ],
            [
             0.4444444444444444,
             "#bd3786"
            ],
            [
             0.5555555555555556,
             "#d8576b"
            ],
            [
             0.6666666666666666,
             "#ed7953"
            ],
            [
             0.7777777777777778,
             "#fb9f3a"
            ],
            [
             0.8888888888888888,
             "#fdca26"
            ],
            [
             1,
             "#f0f921"
            ]
           ],
           "sequentialminus": [
            [
             0,
             "#0d0887"
            ],
            [
             0.1111111111111111,
             "#46039f"
            ],
            [
             0.2222222222222222,
             "#7201a8"
            ],
            [
             0.3333333333333333,
             "#9c179e"
            ],
            [
             0.4444444444444444,
             "#bd3786"
            ],
            [
             0.5555555555555556,
             "#d8576b"
            ],
            [
             0.6666666666666666,
             "#ed7953"
            ],
            [
             0.7777777777777778,
             "#fb9f3a"
            ],
            [
             0.8888888888888888,
             "#fdca26"
            ],
            [
             1,
             "#f0f921"
            ]
           ]
          },
          "colorway": [
           "#636efa",
           "#EF553B",
           "#00cc96",
           "#ab63fa",
           "#FFA15A",
           "#19d3f3",
           "#FF6692",
           "#B6E880",
           "#FF97FF",
           "#FECB52"
          ],
          "font": {
           "color": "#2a3f5f"
          },
          "geo": {
           "bgcolor": "white",
           "lakecolor": "white",
           "landcolor": "white",
           "showlakes": true,
           "showland": true,
           "subunitcolor": "#C8D4E3"
          },
          "hoverlabel": {
           "align": "left"
          },
          "hovermode": "closest",
          "mapbox": {
           "style": "light"
          },
          "paper_bgcolor": "white",
          "plot_bgcolor": "white",
          "polar": {
           "angularaxis": {
            "gridcolor": "#EBF0F8",
            "linecolor": "#EBF0F8",
            "ticks": ""
           },
           "bgcolor": "white",
           "radialaxis": {
            "gridcolor": "#EBF0F8",
            "linecolor": "#EBF0F8",
            "ticks": ""
           }
          },
          "scene": {
           "xaxis": {
            "backgroundcolor": "white",
            "gridcolor": "#DFE8F3",
            "gridwidth": 2,
            "linecolor": "#EBF0F8",
            "showbackground": true,
            "ticks": "",
            "zerolinecolor": "#EBF0F8"
           },
           "yaxis": {
            "backgroundcolor": "white",
            "gridcolor": "#DFE8F3",
            "gridwidth": 2,
            "linecolor": "#EBF0F8",
            "showbackground": true,
            "ticks": "",
            "zerolinecolor": "#EBF0F8"
           },
           "zaxis": {
            "backgroundcolor": "white",
            "gridcolor": "#DFE8F3",
            "gridwidth": 2,
            "linecolor": "#EBF0F8",
            "showbackground": true,
            "ticks": "",
            "zerolinecolor": "#EBF0F8"
           }
          },
          "shapedefaults": {
           "line": {
            "color": "#2a3f5f"
           }
          },
          "ternary": {
           "aaxis": {
            "gridcolor": "#DFE8F3",
            "linecolor": "#A2B1C6",
            "ticks": ""
           },
           "baxis": {
            "gridcolor": "#DFE8F3",
            "linecolor": "#A2B1C6",
            "ticks": ""
           },
           "bgcolor": "white",
           "caxis": {
            "gridcolor": "#DFE8F3",
            "linecolor": "#A2B1C6",
            "ticks": ""
           }
          },
          "title": {
           "x": 0.05
          },
          "xaxis": {
           "automargin": true,
           "gridcolor": "#EBF0F8",
           "linecolor": "#EBF0F8",
           "ticks": "",
           "title": {
            "standoff": 15
           },
           "zerolinecolor": "#EBF0F8",
           "zerolinewidth": 2
          },
          "yaxis": {
           "automargin": true,
           "gridcolor": "#EBF0F8",
           "linecolor": "#EBF0F8",
           "ticks": "",
           "title": {
            "standoff": 15
           },
           "zerolinecolor": "#EBF0F8",
           "zerolinewidth": 2
          }
         }
        },
        "title": {
         "text": "Распределение цен на квартиры"
        },
        "xaxis": {
         "anchor": "y",
         "domain": [
          0,
          1
         ],
         "title": {
          "text": "Цена (грн)"
         }
        },
        "yaxis": {
         "anchor": "x",
         "domain": [
          0,
          1
         ],
         "title": {
          "text": "count"
         }
        }
       }
      }
     },
     "metadata": {},
     "output_type": "display_data"
    }
   ],
   "source": [
    "# Интерактивный box plot цен по районам\n",
    "fig1 = px.box(df_clean, x='district', y='price', \n",
    "              title='Распределение цен по районам',\n",
    "              labels={'district': 'Район', 'price': 'Цена (грн)'},\n",
    "              color='district',\n",
    "              height=500)\n",
    "\n",
    "fig1.update_layout(\n",
    "    xaxis_tickangle=-45,\n",
    "    showlegend=False,\n",
    "    template='plotly_white'\n",
    ")\n",
    "\n",
    "fig1.show()\n",
    "\n",
    "# Гистограмма распределения цен\n",
    "fig2 = px.histogram(df_clean, x='price', nbins=50,\n",
    "                    title='Распределение цен на квартиры',\n",
    "                    labels={'price': 'Цена (грн)', 'count': 'Количество'},\n",
    "                    color_discrete_sequence=['#636EFA'])\n",
    "\n",
    "fig2.update_layout(template='plotly_white', height=400)\n",
    "fig2.show()"
   ]
  },
  {
   "cell_type": "code",
   "execution_count": 6,
   "id": "18e9bf90",
   "metadata": {},
   "outputs": [
    {
     "data": {
      "application/vnd.plotly.v1+json": {
       "config": {
        "plotlyServerURL": "https://plot.ly"
       },
       "data": [
        {
         "hovertemplate": "Район=%{x}<br>Средняя цена (грн)=%{marker.color}<extra></extra>",
         "legendgroup": "",
         "marker": {
          "color": {
           "bdata": "xU7sxA4u0UC+9957P8PMQL3FkM5b9MpAt23btm1IyEAN7B1TgyrHQLmsGChhJ8ZAnYKXU/DCwUAWspCFLGTBQA==",
           "dtype": "f8"
          },
          "coloraxis": "coloraxis",
          "pattern": {
           "shape": ""
          }
         },
         "name": "",
         "orientation": "v",
         "showlegend": false,
         "textposition": "auto",
         "type": "bar",
         "x": [
          "Соборний",
          "Центральний",
          "Шевченківський",
          "Амур-Нижньодніпровський",
          "Чечелівський",
          "Індустріальний",
          "Новокодацький",
          "Самарський"
         ],
         "xaxis": "x",
         "y": {
          "bdata": "xU7sxA4u0UC+9957P8PMQL3FkM5b9MpAt23btm1IyEAN7B1TgyrHQLmsGChhJ8ZAnYKXU/DCwUAWspCFLGTBQA==",
          "dtype": "f8"
         },
         "yaxis": "y"
        }
       ],
       "layout": {
        "barmode": "relative",
        "coloraxis": {
         "colorbar": {
          "title": {
           "text": "Средняя цена (грн)"
          }
         },
         "colorscale": [
          [
           0,
           "#440154"
          ],
          [
           0.1111111111111111,
           "#482878"
          ],
          [
           0.2222222222222222,
           "#3e4989"
          ],
          [
           0.3333333333333333,
           "#31688e"
          ],
          [
           0.4444444444444444,
           "#26828e"
          ],
          [
           0.5555555555555556,
           "#1f9e89"
          ],
          [
           0.6666666666666666,
           "#35b779"
          ],
          [
           0.7777777777777778,
           "#6ece58"
          ],
          [
           0.8888888888888888,
           "#b5de2b"
          ],
          [
           1,
           "#fde725"
          ]
         ]
        },
        "height": 500,
        "legend": {
         "tracegroupgap": 0
        },
        "template": {
         "data": {
          "bar": [
           {
            "error_x": {
             "color": "#2a3f5f"
            },
            "error_y": {
             "color": "#2a3f5f"
            },
            "marker": {
             "line": {
              "color": "white",
              "width": 0.5
             },
             "pattern": {
              "fillmode": "overlay",
              "size": 10,
              "solidity": 0.2
             }
            },
            "type": "bar"
           }
          ],
          "barpolar": [
           {
            "marker": {
             "line": {
              "color": "white",
              "width": 0.5
             },
             "pattern": {
              "fillmode": "overlay",
              "size": 10,
              "solidity": 0.2
             }
            },
            "type": "barpolar"
           }
          ],
          "carpet": [
           {
            "aaxis": {
             "endlinecolor": "#2a3f5f",
             "gridcolor": "#C8D4E3",
             "linecolor": "#C8D4E3",
             "minorgridcolor": "#C8D4E3",
             "startlinecolor": "#2a3f5f"
            },
            "baxis": {
             "endlinecolor": "#2a3f5f",
             "gridcolor": "#C8D4E3",
             "linecolor": "#C8D4E3",
             "minorgridcolor": "#C8D4E3",
             "startlinecolor": "#2a3f5f"
            },
            "type": "carpet"
           }
          ],
          "choropleth": [
           {
            "colorbar": {
             "outlinewidth": 0,
             "ticks": ""
            },
            "type": "choropleth"
           }
          ],
          "contour": [
           {
            "colorbar": {
             "outlinewidth": 0,
             "ticks": ""
            },
            "colorscale": [
             [
              0,
              "#0d0887"
             ],
             [
              0.1111111111111111,
              "#46039f"
             ],
             [
              0.2222222222222222,
              "#7201a8"
             ],
             [
              0.3333333333333333,
              "#9c179e"
             ],
             [
              0.4444444444444444,
              "#bd3786"
             ],
             [
              0.5555555555555556,
              "#d8576b"
             ],
             [
              0.6666666666666666,
              "#ed7953"
             ],
             [
              0.7777777777777778,
              "#fb9f3a"
             ],
             [
              0.8888888888888888,
              "#fdca26"
             ],
             [
              1,
              "#f0f921"
             ]
            ],
            "type": "contour"
           }
          ],
          "contourcarpet": [
           {
            "colorbar": {
             "outlinewidth": 0,
             "ticks": ""
            },
            "type": "contourcarpet"
           }
          ],
          "heatmap": [
           {
            "colorbar": {
             "outlinewidth": 0,
             "ticks": ""
            },
            "colorscale": [
             [
              0,
              "#0d0887"
             ],
             [
              0.1111111111111111,
              "#46039f"
             ],
             [
              0.2222222222222222,
              "#7201a8"
             ],
             [
              0.3333333333333333,
              "#9c179e"
             ],
             [
              0.4444444444444444,
              "#bd3786"
             ],
             [
              0.5555555555555556,
              "#d8576b"
             ],
             [
              0.6666666666666666,
              "#ed7953"
             ],
             [
              0.7777777777777778,
              "#fb9f3a"
             ],
             [
              0.8888888888888888,
              "#fdca26"
             ],
             [
              1,
              "#f0f921"
             ]
            ],
            "type": "heatmap"
           }
          ],
          "histogram": [
           {
            "marker": {
             "pattern": {
              "fillmode": "overlay",
              "size": 10,
              "solidity": 0.2
             }
            },
            "type": "histogram"
           }
          ],
          "histogram2d": [
           {
            "colorbar": {
             "outlinewidth": 0,
             "ticks": ""
            },
            "colorscale": [
             [
              0,
              "#0d0887"
             ],
             [
              0.1111111111111111,
              "#46039f"
             ],
             [
              0.2222222222222222,
              "#7201a8"
             ],
             [
              0.3333333333333333,
              "#9c179e"
             ],
             [
              0.4444444444444444,
              "#bd3786"
             ],
             [
              0.5555555555555556,
              "#d8576b"
             ],
             [
              0.6666666666666666,
              "#ed7953"
             ],
             [
              0.7777777777777778,
              "#fb9f3a"
             ],
             [
              0.8888888888888888,
              "#fdca26"
             ],
             [
              1,
              "#f0f921"
             ]
            ],
            "type": "histogram2d"
           }
          ],
          "histogram2dcontour": [
           {
            "colorbar": {
             "outlinewidth": 0,
             "ticks": ""
            },
            "colorscale": [
             [
              0,
              "#0d0887"
             ],
             [
              0.1111111111111111,
              "#46039f"
             ],
             [
              0.2222222222222222,
              "#7201a8"
             ],
             [
              0.3333333333333333,
              "#9c179e"
             ],
             [
              0.4444444444444444,
              "#bd3786"
             ],
             [
              0.5555555555555556,
              "#d8576b"
             ],
             [
              0.6666666666666666,
              "#ed7953"
             ],
             [
              0.7777777777777778,
              "#fb9f3a"
             ],
             [
              0.8888888888888888,
              "#fdca26"
             ],
             [
              1,
              "#f0f921"
             ]
            ],
            "type": "histogram2dcontour"
           }
          ],
          "mesh3d": [
           {
            "colorbar": {
             "outlinewidth": 0,
             "ticks": ""
            },
            "type": "mesh3d"
           }
          ],
          "parcoords": [
           {
            "line": {
             "colorbar": {
              "outlinewidth": 0,
              "ticks": ""
             }
            },
            "type": "parcoords"
           }
          ],
          "pie": [
           {
            "automargin": true,
            "type": "pie"
           }
          ],
          "scatter": [
           {
            "fillpattern": {
             "fillmode": "overlay",
             "size": 10,
             "solidity": 0.2
            },
            "type": "scatter"
           }
          ],
          "scatter3d": [
           {
            "line": {
             "colorbar": {
              "outlinewidth": 0,
              "ticks": ""
             }
            },
            "marker": {
             "colorbar": {
              "outlinewidth": 0,
              "ticks": ""
             }
            },
            "type": "scatter3d"
           }
          ],
          "scattercarpet": [
           {
            "marker": {
             "colorbar": {
              "outlinewidth": 0,
              "ticks": ""
             }
            },
            "type": "scattercarpet"
           }
          ],
          "scattergeo": [
           {
            "marker": {
             "colorbar": {
              "outlinewidth": 0,
              "ticks": ""
             }
            },
            "type": "scattergeo"
           }
          ],
          "scattergl": [
           {
            "marker": {
             "colorbar": {
              "outlinewidth": 0,
              "ticks": ""
             }
            },
            "type": "scattergl"
           }
          ],
          "scattermap": [
           {
            "marker": {
             "colorbar": {
              "outlinewidth": 0,
              "ticks": ""
             }
            },
            "type": "scattermap"
           }
          ],
          "scattermapbox": [
           {
            "marker": {
             "colorbar": {
              "outlinewidth": 0,
              "ticks": ""
             }
            },
            "type": "scattermapbox"
           }
          ],
          "scatterpolar": [
           {
            "marker": {
             "colorbar": {
              "outlinewidth": 0,
              "ticks": ""
             }
            },
            "type": "scatterpolar"
           }
          ],
          "scatterpolargl": [
           {
            "marker": {
             "colorbar": {
              "outlinewidth": 0,
              "ticks": ""
             }
            },
            "type": "scatterpolargl"
           }
          ],
          "scatterternary": [
           {
            "marker": {
             "colorbar": {
              "outlinewidth": 0,
              "ticks": ""
             }
            },
            "type": "scatterternary"
           }
          ],
          "surface": [
           {
            "colorbar": {
             "outlinewidth": 0,
             "ticks": ""
            },
            "colorscale": [
             [
              0,
              "#0d0887"
             ],
             [
              0.1111111111111111,
              "#46039f"
             ],
             [
              0.2222222222222222,
              "#7201a8"
             ],
             [
              0.3333333333333333,
              "#9c179e"
             ],
             [
              0.4444444444444444,
              "#bd3786"
             ],
             [
              0.5555555555555556,
              "#d8576b"
             ],
             [
              0.6666666666666666,
              "#ed7953"
             ],
             [
              0.7777777777777778,
              "#fb9f3a"
             ],
             [
              0.8888888888888888,
              "#fdca26"
             ],
             [
              1,
              "#f0f921"
             ]
            ],
            "type": "surface"
           }
          ],
          "table": [
           {
            "cells": {
             "fill": {
              "color": "#EBF0F8"
             },
             "line": {
              "color": "white"
             }
            },
            "header": {
             "fill": {
              "color": "#C8D4E3"
             },
             "line": {
              "color": "white"
             }
            },
            "type": "table"
           }
          ]
         },
         "layout": {
          "annotationdefaults": {
           "arrowcolor": "#2a3f5f",
           "arrowhead": 0,
           "arrowwidth": 1
          },
          "autotypenumbers": "strict",
          "coloraxis": {
           "colorbar": {
            "outlinewidth": 0,
            "ticks": ""
           }
          },
          "colorscale": {
           "diverging": [
            [
             0,
             "#8e0152"
            ],
            [
             0.1,
             "#c51b7d"
            ],
            [
             0.2,
             "#de77ae"
            ],
            [
             0.3,
             "#f1b6da"
            ],
            [
             0.4,
             "#fde0ef"
            ],
            [
             0.5,
             "#f7f7f7"
            ],
            [
             0.6,
             "#e6f5d0"
            ],
            [
             0.7,
             "#b8e186"
            ],
            [
             0.8,
             "#7fbc41"
            ],
            [
             0.9,
             "#4d9221"
            ],
            [
             1,
             "#276419"
            ]
           ],
           "sequential": [
            [
             0,
             "#0d0887"
            ],
            [
             0.1111111111111111,
             "#46039f"
            ],
            [
             0.2222222222222222,
             "#7201a8"
            ],
            [
             0.3333333333333333,
             "#9c179e"
            ],
            [
             0.4444444444444444,
             "#bd3786"
            ],
            [
             0.5555555555555556,
             "#d8576b"
            ],
            [
             0.6666666666666666,
             "#ed7953"
            ],
            [
             0.7777777777777778,
             "#fb9f3a"
            ],
            [
             0.8888888888888888,
             "#fdca26"
            ],
            [
             1,
             "#f0f921"
            ]
           ],
           "sequentialminus": [
            [
             0,
             "#0d0887"
            ],
            [
             0.1111111111111111,
             "#46039f"
            ],
            [
             0.2222222222222222,
             "#7201a8"
            ],
            [
             0.3333333333333333,
             "#9c179e"
            ],
            [
             0.4444444444444444,
             "#bd3786"
            ],
            [
             0.5555555555555556,
             "#d8576b"
            ],
            [
             0.6666666666666666,
             "#ed7953"
            ],
            [
             0.7777777777777778,
             "#fb9f3a"
            ],
            [
             0.8888888888888888,
             "#fdca26"
            ],
            [
             1,
             "#f0f921"
            ]
           ]
          },
          "colorway": [
           "#636efa",
           "#EF553B",
           "#00cc96",
           "#ab63fa",
           "#FFA15A",
           "#19d3f3",
           "#FF6692",
           "#B6E880",
           "#FF97FF",
           "#FECB52"
          ],
          "font": {
           "color": "#2a3f5f"
          },
          "geo": {
           "bgcolor": "white",
           "lakecolor": "white",
           "landcolor": "white",
           "showlakes": true,
           "showland": true,
           "subunitcolor": "#C8D4E3"
          },
          "hoverlabel": {
           "align": "left"
          },
          "hovermode": "closest",
          "mapbox": {
           "style": "light"
          },
          "paper_bgcolor": "white",
          "plot_bgcolor": "white",
          "polar": {
           "angularaxis": {
            "gridcolor": "#EBF0F8",
            "linecolor": "#EBF0F8",
            "ticks": ""
           },
           "bgcolor": "white",
           "radialaxis": {
            "gridcolor": "#EBF0F8",
            "linecolor": "#EBF0F8",
            "ticks": ""
           }
          },
          "scene": {
           "xaxis": {
            "backgroundcolor": "white",
            "gridcolor": "#DFE8F3",
            "gridwidth": 2,
            "linecolor": "#EBF0F8",
            "showbackground": true,
            "ticks": "",
            "zerolinecolor": "#EBF0F8"
           },
           "yaxis": {
            "backgroundcolor": "white",
            "gridcolor": "#DFE8F3",
            "gridwidth": 2,
            "linecolor": "#EBF0F8",
            "showbackground": true,
            "ticks": "",
            "zerolinecolor": "#EBF0F8"
           },
           "zaxis": {
            "backgroundcolor": "white",
            "gridcolor": "#DFE8F3",
            "gridwidth": 2,
            "linecolor": "#EBF0F8",
            "showbackground": true,
            "ticks": "",
            "zerolinecolor": "#EBF0F8"
           }
          },
          "shapedefaults": {
           "line": {
            "color": "#2a3f5f"
           }
          },
          "ternary": {
           "aaxis": {
            "gridcolor": "#DFE8F3",
            "linecolor": "#A2B1C6",
            "ticks": ""
           },
           "baxis": {
            "gridcolor": "#DFE8F3",
            "linecolor": "#A2B1C6",
            "ticks": ""
           },
           "bgcolor": "white",
           "caxis": {
            "gridcolor": "#DFE8F3",
            "linecolor": "#A2B1C6",
            "ticks": ""
           }
          },
          "title": {
           "x": 0.05
          },
          "xaxis": {
           "automargin": true,
           "gridcolor": "#EBF0F8",
           "linecolor": "#EBF0F8",
           "ticks": "",
           "title": {
            "standoff": 15
           },
           "zerolinecolor": "#EBF0F8",
           "zerolinewidth": 2
          },
          "yaxis": {
           "automargin": true,
           "gridcolor": "#EBF0F8",
           "linecolor": "#EBF0F8",
           "ticks": "",
           "title": {
            "standoff": 15
           },
           "zerolinecolor": "#EBF0F8",
           "zerolinewidth": 2
          }
         }
        },
        "title": {
         "text": "Средние цены на аренду по районам"
        },
        "xaxis": {
         "anchor": "y",
         "domain": [
          0,
          1
         ],
         "tickangle": -45,
         "title": {
          "text": "Район"
         }
        },
        "yaxis": {
         "anchor": "x",
         "domain": [
          0,
          1
         ],
         "title": {
          "text": "Средняя цена (грн)"
         }
        }
       }
      }
     },
     "metadata": {},
     "output_type": "display_data"
    }
   ],
   "source": [
    "# Средние цены по районам - интерактивный bar chart\n",
    "avg_prices = df_clean.groupby('district')['price'].mean().sort_values(ascending=False).reset_index()\n",
    "\n",
    "fig3 = px.bar(avg_prices, x='district', y='price',\n",
    "              title='Средние цены на аренду по районам',\n",
    "              labels={'district': 'Район', 'price': 'Средняя цена (грн)'},\n",
    "              color='price',\n",
    "              color_continuous_scale='Viridis',\n",
    "              height=500)\n",
    "\n",
    "fig3.update_layout(\n",
    "    xaxis_tickangle=-45,\n",
    "    template='plotly_white'\n",
    ")\n",
    "\n",
    "fig3.show()"
   ]
  },
  {
   "cell_type": "markdown",
   "id": "c172cec8",
   "metadata": {},
   "source": [
    "## 5. Создание интерактивной карты Днепра с Folium\n",
    "\n",
    "### Карта с тепловой картой плотности квартир и маркерами средних цен"
   ]
  },
  {
   "cell_type": "code",
   "execution_count": 7,
   "id": "8728188a",
   "metadata": {},
   "outputs": [
    {
     "name": "stdout",
     "output_type": "stream",
     "text": [
      "✓ Базовая карта создана!\n"
     ]
    }
   ],
   "source": [
    "# Создание базовой карты с центром в Днепре\n",
    "dnipro_center = [48.4647, 35.0462]\n",
    "\n",
    "# Создаем карту\n",
    "m = folium.Map(\n",
    "    location=dnipro_center,\n",
    "    zoom_start=12,\n",
    "    tiles='OpenStreetMap',\n",
    "    control_scale=True\n",
    ")\n",
    "\n",
    "# Добавляем альтернативные слои карты\n",
    "folium.TileLayer('CartoDB positron', name='CartoDB Positron').add_to(m)\n",
    "folium.TileLayer('CartoDB dark_matter', name='CartoDB Dark').add_to(m)\n",
    "\n",
    "print(\"✓ Базовая карта создана!\")"
   ]
  },
  {
   "cell_type": "code",
   "execution_count": 9,
   "id": "9173c669",
   "metadata": {},
   "outputs": [
    {
     "name": "stdout",
     "output_type": "stream",
     "text": [
      "✓ Тепловая карта добавлена!\n"
     ]
    }
   ],
   "source": [
    "# Подготовка данных для тепловой карты (количество квартир)\n",
    "heat_data = [[row['lat'], row['lon']] for idx, row in df_clean.iterrows()]\n",
    "\n",
    "# Создание тепловой карты плотности\n",
    "HeatMap(\n",
    "    heat_data,\n",
    "    name='Тепловая карта плотности квартир',\n",
    "    min_opacity=0.3,\n",
    "    max_opacity=0.8,\n",
    "    radius=15,\n",
    "    blur=20,\n",
    "    gradient={0.4: 'blue', 0.6: 'lime', 0.8: 'yellow', 1.0: 'red'}\n",
    ").add_to(m)\n",
    "\n",
    "print(\"✓ Тепловая карта добавлена!\")"
   ]
  },
  {
   "cell_type": "code",
   "execution_count": 10,
   "id": "5496f641",
   "metadata": {},
   "outputs": [
    {
     "name": "stdout",
     "output_type": "stream",
     "text": [
      "✓ Маркеры с ценами добавлены!\n"
     ]
    }
   ],
   "source": [
    "# Добавление маркеров со средними ценами по районам\n",
    "# Группируем данные по районам для маркеров\n",
    "district_summary = df_clean.groupby('district').agg({\n",
    "    'price': 'mean',\n",
    "    'lat': 'mean',\n",
    "    'lon': 'mean',\n",
    "    'post_id': 'count'  # количество объявлений\n",
    "}).reset_index()\n",
    "\n",
    "district_summary.columns = ['district', 'avg_price', 'lat', 'lon', 'count']\n",
    "\n",
    "# Создаем feature group для маркеров\n",
    "marker_cluster = plugins.MarkerCluster(name='Средние цены по районам').add_to(m)\n",
    "\n",
    "# Добавляем маркеры для каждого района\n",
    "for idx, row in district_summary.iterrows():\n",
    "    # Определяем цвет маркера на основе цены\n",
    "    if row['avg_price'] < 10000:\n",
    "        color = 'green'\n",
    "    elif row['avg_price'] < 20000:\n",
    "        color = 'orange'\n",
    "    else:\n",
    "        color = 'red'\n",
    "    \n",
    "    # HTML для popup\n",
    "    popup_html = f\"\"\"\n",
    "    <div style=\"font-family: Arial; font-size: 12px; width: 200px;\">\n",
    "        <h4 style=\"color: #333; margin: 0 0 10px 0;\">{row['district']}</h4>\n",
    "        <hr style=\"margin: 5px 0;\">\n",
    "        <b>Средняя цена:</b> {row['avg_price']:.0f} грн<br>\n",
    "        <b>Количество:</b> {row['count']} объявлений<br>\n",
    "    </div>\n",
    "    \"\"\"\n",
    "    \n",
    "    # Создаем маркер\n",
    "    folium.Marker(\n",
    "        location=[row['lat'], row['lon']],\n",
    "        popup=folium.Popup(popup_html, max_width=250),\n",
    "        tooltip=f\"{row['district']}: {row['avg_price']:.0f} грн\",\n",
    "        icon=folium.Icon(color=color, icon='home', prefix='fa')\n",
    "    ).add_to(marker_cluster)\n",
    "\n",
    "print(\"✓ Маркеры с ценами добавлены!\")"
   ]
  },
  {
   "cell_type": "code",
   "execution_count": 11,
   "id": "c355412f",
   "metadata": {},
   "outputs": [
    {
     "name": "stdout",
     "output_type": "stream",
     "text": [
      "✓ Легенда и контроль слоев добавлены!\n"
     ]
    }
   ],
   "source": [
    "# Добавляем легенду\n",
    "legend_html = '''\n",
    "<div style=\"position: fixed; \n",
    "            bottom: 50px; right: 50px; width: 200px; height: auto; \n",
    "            background-color: white; z-index:9999; font-size:14px;\n",
    "            border:2px solid grey; border-radius: 5px; padding: 10px\">\n",
    "    <h4 style=\"margin: 0 0 10px 0;\">Легенда</h4>\n",
    "    <p style=\"margin: 5px 0;\"><i class=\"fa fa-map-marker\" style=\"color:green\"></i> < 10,000 грн</p>\n",
    "    <p style=\"margin: 5px 0;\"><i class=\"fa fa-map-marker\" style=\"color:orange\"></i> 10,000 - 20,000 грн</p>\n",
    "    <p style=\"margin: 5px 0;\"><i class=\"fa fa-map-marker\" style=\"color:red\"></i> > 20,000 грн</p>\n",
    "    <hr style=\"margin: 10px 0;\">\n",
    "    <p style=\"margin: 5px 0; font-size: 12px;\"><b>Тепловая карта:</b> плотность квартир</p>\n",
    "</div>\n",
    "'''\n",
    "m.get_root().html.add_child(folium.Element(legend_html))\n",
    "\n",
    "# Добавляем контроль слоев\n",
    "folium.LayerControl(position='topright').add_to(m)\n",
    "\n",
    "print(\"✓ Легенда и контроль слоев добавлены!\")"
   ]
  },
  {
   "cell_type": "code",
   "execution_count": 12,
   "id": "15ac4aa8",
   "metadata": {},
   "outputs": [
    {
     "name": "stdout",
     "output_type": "stream",
     "text": [
      "✓ Карта сохранена: /home/redmoon/Documents/Dev/appartment_scraper/charts/dnipro_apartments_map.html\n"
     ]
    },
    {
     "data": {
      "text/html": [
       "<div style=\"width:100%;\"><div style=\"position:relative;width:100%;height:0;padding-bottom:60%;\"><span style=\"color:#565656\">Make this Notebook Trusted to load map: File -> Trust Notebook</span><iframe srcdoc=\"&lt;!DOCTYPE html&gt;\n",
       "&lt;html&gt;\n",
       "&lt;head&gt;\n",
       "    \n",
       "    &lt;meta http-equiv=&quot;content-type&quot; content=&quot;text/html; charset=UTF-8&quot; /&gt;\n",
       "    &lt;script src=&quot;https://cdn.jsdelivr.net/npm/leaflet@1.9.3/dist/leaflet.js&quot;&gt;&lt;/script&gt;\n",
       "    &lt;script src=&quot;https://code.jquery.com/jquery-3.7.1.min.js&quot;&gt;&lt;/script&gt;\n",
       "    &lt;script src=&quot;https://cdn.jsdelivr.net/npm/bootstrap@5.2.2/dist/js/bootstrap.bundle.min.js&quot;&gt;&lt;/script&gt;\n",
       "    &lt;script src=&quot;https://cdnjs.cloudflare.com/ajax/libs/Leaflet.awesome-markers/2.0.2/leaflet.awesome-markers.js&quot;&gt;&lt;/script&gt;\n",
       "    &lt;link rel=&quot;stylesheet&quot; href=&quot;https://cdn.jsdelivr.net/npm/leaflet@1.9.3/dist/leaflet.css&quot;/&gt;\n",
       "    &lt;link rel=&quot;stylesheet&quot; href=&quot;https://cdn.jsdelivr.net/npm/bootstrap@5.2.2/dist/css/bootstrap.min.css&quot;/&gt;\n",
       "    &lt;link rel=&quot;stylesheet&quot; href=&quot;https://netdna.bootstrapcdn.com/bootstrap/3.0.0/css/bootstrap-glyphicons.css&quot;/&gt;\n",
       "    &lt;link rel=&quot;stylesheet&quot; href=&quot;https://cdn.jsdelivr.net/npm/@fortawesome/fontawesome-free@6.2.0/css/all.min.css&quot;/&gt;\n",
       "    &lt;link rel=&quot;stylesheet&quot; href=&quot;https://cdnjs.cloudflare.com/ajax/libs/Leaflet.awesome-markers/2.0.2/leaflet.awesome-markers.css&quot;/&gt;\n",
       "    &lt;link rel=&quot;stylesheet&quot; href=&quot;https://cdn.jsdelivr.net/gh/python-visualization/folium/folium/templates/leaflet.awesome.rotate.min.css&quot;/&gt;\n",
       "    \n",
       "            &lt;meta name=&quot;viewport&quot; content=&quot;width=device-width,\n",
       "                initial-scale=1.0, maximum-scale=1.0, user-scalable=no&quot; /&gt;\n",
       "            &lt;style&gt;\n",
       "                #map_91bf5290aee6cb24d974319bf075e51d {\n",
       "                    position: relative;\n",
       "                    width: 100.0%;\n",
       "                    height: 100.0%;\n",
       "                    left: 0.0%;\n",
       "                    top: 0.0%;\n",
       "                }\n",
       "                .leaflet-container { font-size: 1rem; }\n",
       "            &lt;/style&gt;\n",
       "\n",
       "            &lt;style&gt;html, body {\n",
       "                width: 100%;\n",
       "                height: 100%;\n",
       "                margin: 0;\n",
       "                padding: 0;\n",
       "            }\n",
       "            &lt;/style&gt;\n",
       "\n",
       "            &lt;style&gt;#map {\n",
       "                position:absolute;\n",
       "                top:0;\n",
       "                bottom:0;\n",
       "                right:0;\n",
       "                left:0;\n",
       "                }\n",
       "            &lt;/style&gt;\n",
       "\n",
       "            &lt;script&gt;\n",
       "                L_NO_TOUCH = false;\n",
       "                L_DISABLE_3D = false;\n",
       "            &lt;/script&gt;\n",
       "\n",
       "        \n",
       "    &lt;script src=&quot;https://cdn.jsdelivr.net/gh/python-visualization/folium@main/folium/templates/leaflet_heat.min.js&quot;&gt;&lt;/script&gt;\n",
       "    &lt;script src=&quot;https://cdnjs.cloudflare.com/ajax/libs/leaflet.markercluster/1.1.0/leaflet.markercluster.js&quot;&gt;&lt;/script&gt;\n",
       "    &lt;link rel=&quot;stylesheet&quot; href=&quot;https://cdnjs.cloudflare.com/ajax/libs/leaflet.markercluster/1.1.0/MarkerCluster.css&quot;/&gt;\n",
       "    &lt;link rel=&quot;stylesheet&quot; href=&quot;https://cdnjs.cloudflare.com/ajax/libs/leaflet.markercluster/1.1.0/MarkerCluster.Default.css&quot;/&gt;\n",
       "&lt;/head&gt;\n",
       "&lt;body&gt;\n",
       "    \n",
       "    \n",
       "&lt;div style=&quot;position: fixed; \n",
       "            bottom: 50px; right: 50px; width: 200px; height: auto; \n",
       "            background-color: white; z-index:9999; font-size:14px;\n",
       "            border:2px solid grey; border-radius: 5px; padding: 10px&quot;&gt;\n",
       "    &lt;h4 style=&quot;margin: 0 0 10px 0;&quot;&gt;Легенда&lt;/h4&gt;\n",
       "    &lt;p style=&quot;margin: 5px 0;&quot;&gt;&lt;i class=&quot;fa fa-map-marker&quot; style=&quot;color:green&quot;&gt;&lt;/i&gt; &lt; 10,000 грн&lt;/p&gt;\n",
       "    &lt;p style=&quot;margin: 5px 0;&quot;&gt;&lt;i class=&quot;fa fa-map-marker&quot; style=&quot;color:orange&quot;&gt;&lt;/i&gt; 10,000 - 20,000 грн&lt;/p&gt;\n",
       "    &lt;p style=&quot;margin: 5px 0;&quot;&gt;&lt;i class=&quot;fa fa-map-marker&quot; style=&quot;color:red&quot;&gt;&lt;/i&gt; &gt; 20,000 грн&lt;/p&gt;\n",
       "    &lt;hr style=&quot;margin: 10px 0;&quot;&gt;\n",
       "    &lt;p style=&quot;margin: 5px 0; font-size: 12px;&quot;&gt;&lt;b&gt;Тепловая карта:&lt;/b&gt; плотность квартир&lt;/p&gt;\n",
       "&lt;/div&gt;\n",
       "    \n",
       "            &lt;div class=&quot;folium-map&quot; id=&quot;map_91bf5290aee6cb24d974319bf075e51d&quot; &gt;&lt;/div&gt;\n",
       "        \n",
       "&lt;/body&gt;\n",
       "&lt;script&gt;\n",
       "    \n",
       "    \n",
       "            var map_91bf5290aee6cb24d974319bf075e51d = L.map(\n",
       "                &quot;map_91bf5290aee6cb24d974319bf075e51d&quot;,\n",
       "                {\n",
       "                    center: [48.4647, 35.0462],\n",
       "                    crs: L.CRS.EPSG3857,\n",
       "                    ...{\n",
       "  &quot;zoom&quot;: 12,\n",
       "  &quot;zoomControl&quot;: true,\n",
       "  &quot;preferCanvas&quot;: false,\n",
       "}\n",
       "\n",
       "                }\n",
       "            );\n",
       "            L.control.scale().addTo(map_91bf5290aee6cb24d974319bf075e51d);\n",
       "\n",
       "            \n",
       "\n",
       "        \n",
       "    \n",
       "            var tile_layer_10974a3cca4ce29155e75dcc92d24bf5 = L.tileLayer(\n",
       "                &quot;https://tile.openstreetmap.org/{z}/{x}/{y}.png&quot;,\n",
       "                {\n",
       "  &quot;minZoom&quot;: 0,\n",
       "  &quot;maxZoom&quot;: 19,\n",
       "  &quot;maxNativeZoom&quot;: 19,\n",
       "  &quot;noWrap&quot;: false,\n",
       "  &quot;attribution&quot;: &quot;\\u0026copy; \\u003ca href=\\&quot;https://www.openstreetmap.org/copyright\\&quot;\\u003eOpenStreetMap\\u003c/a\\u003e contributors&quot;,\n",
       "  &quot;subdomains&quot;: &quot;abc&quot;,\n",
       "  &quot;detectRetina&quot;: false,\n",
       "  &quot;tms&quot;: false,\n",
       "  &quot;opacity&quot;: 1,\n",
       "}\n",
       "\n",
       "            );\n",
       "        \n",
       "    \n",
       "            tile_layer_10974a3cca4ce29155e75dcc92d24bf5.addTo(map_91bf5290aee6cb24d974319bf075e51d);\n",
       "        \n",
       "    \n",
       "            var tile_layer_76c662472999b2289eac489d0d3646b0 = L.tileLayer(\n",
       "                &quot;https://{s}.basemaps.cartocdn.com/light_all/{z}/{x}/{y}{r}.png&quot;,\n",
       "                {\n",
       "  &quot;minZoom&quot;: 0,\n",
       "  &quot;maxZoom&quot;: 20,\n",
       "  &quot;maxNativeZoom&quot;: 20,\n",
       "  &quot;noWrap&quot;: false,\n",
       "  &quot;attribution&quot;: &quot;\\u0026copy; \\u003ca href=\\&quot;https://www.openstreetmap.org/copyright\\&quot;\\u003eOpenStreetMap\\u003c/a\\u003e contributors \\u0026copy; \\u003ca href=\\&quot;https://carto.com/attributions\\&quot;\\u003eCARTO\\u003c/a\\u003e&quot;,\n",
       "  &quot;subdomains&quot;: &quot;abcd&quot;,\n",
       "  &quot;detectRetina&quot;: false,\n",
       "  &quot;tms&quot;: false,\n",
       "  &quot;opacity&quot;: 1,\n",
       "}\n",
       "\n",
       "            );\n",
       "        \n",
       "    \n",
       "            tile_layer_76c662472999b2289eac489d0d3646b0.addTo(map_91bf5290aee6cb24d974319bf075e51d);\n",
       "        \n",
       "    \n",
       "            var tile_layer_a908cf6f449ff144ba6a162f1ad03cb0 = L.tileLayer(\n",
       "                &quot;https://{s}.basemaps.cartocdn.com/dark_all/{z}/{x}/{y}{r}.png&quot;,\n",
       "                {\n",
       "  &quot;minZoom&quot;: 0,\n",
       "  &quot;maxZoom&quot;: 20,\n",
       "  &quot;maxNativeZoom&quot;: 20,\n",
       "  &quot;noWrap&quot;: false,\n",
       "  &quot;attribution&quot;: &quot;\\u0026copy; \\u003ca href=\\&quot;https://www.openstreetmap.org/copyright\\&quot;\\u003eOpenStreetMap\\u003c/a\\u003e contributors \\u0026copy; \\u003ca href=\\&quot;https://carto.com/attributions\\&quot;\\u003eCARTO\\u003c/a\\u003e&quot;,\n",
       "  &quot;subdomains&quot;: &quot;abcd&quot;,\n",
       "  &quot;detectRetina&quot;: false,\n",
       "  &quot;tms&quot;: false,\n",
       "  &quot;opacity&quot;: 1,\n",
       "}\n",
       "\n",
       "            );\n",
       "        \n",
       "    \n",
       "            tile_layer_a908cf6f449ff144ba6a162f1ad03cb0.addTo(map_91bf5290aee6cb24d974319bf075e51d);\n",
       "        \n",
       "    \n",
       "            var heat_map_326ec637c2ffb1cf83a93aecabf88804 = L.heatLayer(\n",
       "                [[48.46966714153011, 35.05015803533437], [48.448617356988294, 35.04494030186282], [48.45647688538101, 35.04260673765824], [48.43523029856408, 35.09449694846155], [48.41765846625277, 35.093283766320624], [48.51765863043051, 35.07974445929008], [48.48049212815508, 35.057927290192595], [48.47237434729153, 35.051636001545944], [48.47530525614065, 35.01629385667914], [48.45542560043586, 35.04771698710648], [48.41536582307188, 35.0715145737937], [48.4453427024643, 35.05148765700372], [48.45241962271567, 35.02260286221222], [48.44556719755342, 35.04257559058597], [48.46275082167487, 35.00880330105374], [48.45907712470759, 35.03325318524279], [48.454571688796655, 35.05780826787378], [48.46784247332595, 35.04152298798688], [48.45561975924479, 35.04966503881731], [48.485876962986644, 34.97953079421121], [48.479356487689216, 35.05097040827223], [48.44774223699514, 35.0407682189106], [48.45067528204688, 35.027170077758115], [48.485752518137865, 34.989962668194465], [48.45925617275475, 35.04126243416839], [48.501109225897096, 35.1044341810134], [48.43849006422578, 35.03571884839034], [48.468456980183454, 35.06120759790634], [48.413993613100814, 35.10850221742113], [48.461783062502064, 35.04271347865592], [48.458682933877704, 35.042707422956816], [48.48322278184509, 35.04298364948782], [48.46456502775262, 35.066967479835604], [48.48942289071044, 35.12381935452231], [48.508225449121035, 34.98430041647191], [48.45249156350029, 35.05650283454032], [48.466788635950046, 35.048587891590266], [48.445103298761204, 35.04360957854179], [48.45141813951101, 35.04423650150915], [48.46666861235869, 35.04548398740586], [48.472084665799954, 35.0458277776349], [48.4664136828119, 35.05347629543637], [48.49884351717612, 34.98051945885807], [48.49698896304411, 34.987326400772154], [48.40521478009633, 35.09919283419892], [48.442801557916056, 35.04078635190316], [48.4153936122904, 35.080017993154684], [48.46057122226219, 35.049163276747024], [48.423436182895685, 35.10346488475898], [48.447069598446376, 35.0561801010986], [48.45324083969395, 35.01103744621806], [48.44614917719584, 35.060883747047804], [48.45793077999694, 35.04480410371845], [48.47081676288841, 35.057281828167376], [48.47500999522496, 35.03580094072874], [48.509312801191165, 34.98612773905062], [48.45630782476778, 35.03566584436826], [48.49690787624149, 34.97376231039304], [48.48331263431403, 35.039140313538674], [48.509755451271225, 34.97809317599236], [48.44520825762155, 35.0421743287318], [48.46284341023336, 35.05490067730689], [48.45363665025994, 35.051156818879726], [48.452737933759195, 35.04770418905144], [48.47282525822394, 35.04984961002466], [48.51356240028571, 35.00403415585238], [48.463979898784196, 35.04562381202966], [48.51003532897892, 34.982010990467145], [48.468316360250476, 35.056706543960075], [48.41354880245395, 35.11105525932958], [48.468313956055084, 35.0580703030556], [48.48008036566466, 35.05258730222029], [48.4496417396089, 35.02856995087269], [48.48034643655814, 35.06253431532301], [48.4385025489591, 35.03473654606981], [48.45821902504375, 35.04302635465239], [48.46557047068238, 35.038657241499806], [48.461709926495345, 35.045558616534066], [48.450917607765355, 35.04328762410304], [48.44482431085399, 35.0494135721545], [48.49780328112163, 34.98421920754235], [48.42357112571512, 35.11613711269059], [48.479478940447414, 35.05073534301514], [48.459517297817264, 35.04375843364709], [48.47191506397107, 35.029640871682886], [48.459682429564154, 35.05809470488924], [48.47385402117702, 35.033923921848626], [48.467987511096595, 35.0521740006985], [48.44470239796233, 35.04701172742311], [48.48513267433113, 35.0170243649664], [48.45097077549348, 35.053757068133116], [48.47438644990533, 35.04469944412968], [48.47297946906122, 35.02125576453472], [48.49672337853402, 34.97826928175716], [48.41607891846868, 35.10015579047582], [48.45006485051868, 35.03523724913105], [48.46766120277065, 35.031799491174056], [48.4673105527218, 35.062145050632246], [48.48005113456642, 35.01153038651682], [48.44765412866625, 35.030086076505434], [48.46584629257949, 34.998466098863965], [48.49579354677235, 34.9736103825231], [48.49657285483473, 34.966769102065925], [48.456677227307786, 35.062620151601365], [48.46308714288334, 35.05629817089343], [48.468740508568146, 35.03931849654822], [48.46886185901211, 35.062524358053444], [48.46644577812832, 35.05601765486991], [48.46727550390723, 35.04295168616491], [48.46395554084234, 35.02120594285126], [48.44551228784701, 35.069109425725905], [48.46443486124551, 35.032304275332365], [48.42060230209941, 35.083546012530434], [48.524632421124856, 35.1302257043201], [48.44807639035219, 35.064397524063395], [48.46771547342334, 35.0600427281851], [48.41965288230295, 35.10563909120052], [48.43831321962381, 35.04594754341665], [48.47612822814515, 35.0547341555878], [48.48751933032686, 35.02758928589787], [48.457910319470436, 35.04281191423969], [48.45560612545205, 35.047242011039515], [48.47872794310936, 35.045574068721], [48.45068148937208, 35.03866035411133], [48.45586857093801, 35.03719324923133], [48.4866045562581, 35.029270431858045], [48.454794636748694, 35.04521660373205], [48.459037022703974, 35.03631408892849], [48.465696513650876, 35.03516410682784], [48.459665243458836, 35.04799894151154], [48.464493365689336, 35.03392002286345], [48.46538562974806, 35.055383166060025], [48.45407696286274, 35.030494993963764], [48.46943592430635, 35.036303718634294], [48.45550575765766, 35.05560771187988], [48.46549934405018, 35.03017512606461], [48.41216746707664, 35.09775366850003], [48.416779384837945, 35.10550052099025], [48.472835172173696, 35.036516555451364], [48.45239135683566, 35.04725375506146], [48.502274599346045, 35.10665974505081], [48.47777142754283, 35.040186323560484], [48.48392516765439, 34.98319781934142], [48.466546338585324, 35.030270062664684], [48.45259882794249, 35.0444047473796], [48.472518228717774, 35.04600362201073], [48.43763049289122, 35.04552489954417], [48.451495433869155, 35.048439141340644], [48.46991941565617, 35.05984140429974], [48.502969846732334, 34.981252245026475], [48.467204928503456, 35.04190594458875], [48.45346448209497, 35.04122297503032], [48.457899752784215, 35.051632980290364], [48.46702253697161, 35.046688600703256], [48.502930724732984, 34.980405916912034], [48.51285648581974, 35.072980083121934], [48.48335774511145, 35.03957099082449], [48.484738329209115, 35.00597394728201], [48.43808696502798, 35.05749576743187], [48.48656553608634, 35.00756136764609], [48.47025318329772, 35.01307094802205], [48.45787084603743, 35.03281592734431], [48.476285955790075, 35.05514924376944], [48.491793176816486, 34.97705050321708], [48.50963376129244, 35.13247742072674], [48.468827809269364, 35.03946509375756], [48.472920601599945, 35.04898994162224], [48.51896792982654, 34.9716465294674], [48.49754611883997, 35.00145149127773], [48.49246263835642, 34.9681240158097], [48.44110485570375, 35.04309820710227], [48.491841897150344, 34.98633776880932], [48.46392898290586, 35.05033799097451], [48.46811151974817, 35.04434712341122], [48.4674669079933, 35.044901793002666], [48.45827183249036, 35.04043811471979], [48.46483001891878, 35.044729979983714], [48.479235340771574, 35.05583879116795], [48.46205343166762, 35.06830523001591], [48.491901691665895, 35.04062508214992], [48.47095667347765, 35.03250197020421], [48.41142842443584, 35.09911717951649], [48.45399107501939, 35.071997093376545], [48.469524724152436, 35.0381632543203], [48.462465372146745, 35.06259116805444], [48.47184000494092, 35.06297700814076], [48.504732376245734, 34.97446411758292], [48.41927171087343, 35.10568983079185], [48.44153206281932, 35.056283966231284], [48.449551527753144, 35.042408722590125], [48.46023485047933, 35.044164196398974], [48.458563987943236, 35.03418319086051], [48.4821409374413, 35.00985243269307], [48.43754261221288, 35.03350722454934], [48.46643180925851, 35.033960597332374], [48.50385317379729, 34.980340834682586], [48.45586142563799, 35.038500267689415], [48.451537251059456, 35.04233785911791], [48.46528208718446, 35.03064104353796], [48.488570297021695, 34.98330880232214], [48.46827787360348, 35.05453528961609], [48.50560784526368, 34.96006264357428], [48.51083051243175, 35.123740565698476], [48.47523802052035, 35.05847668992473], [48.450923306320426, 35.034103589813085], [48.45532174960085, 35.062925723868375], [48.50515035267209, 34.984190190093656], [48.46983785950912, 35.03914988144241], [48.485150476863055, 35.01944230922343], [48.503227314906546, 35.05178326912522], [48.47040890510693, 35.04696005391412], [48.46135565640181, 35.045387559924464], [48.47424001763493, 35.0369932640692], [48.486513912513054, 35.02169360824036], [48.461547307553595, 35.03206285503095], [48.50758969220493, 34.97888773938651], [48.456971747854624, 35.037160923585354], [48.4476318139326, 35.0326447005741], [48.45984636452171, 35.058560931752105], [48.45081874139387, 35.05091310120594], [48.52314658566674, 34.98609138120907], [48.44602734807408, 35.03527687235327], [48.47156260190375, 35.043035915503054], [48.403872841288106, 35.112130976999794], [48.45998068134211, 35.047617169136394], [48.51088950596967, 35.00319329539981], [48.46534280019095, 35.05013317839394], [48.43922255222071, 35.0419204911649], [48.4128469629074, 35.09690883535798], [48.47149597748935, 35.047535409047825], [48.472696333682826, 35.0184753016362], [48.45216458589582, 35.04708108676689], [48.45045571839904, 35.049567023167945], [48.47348399652394, 35.01214010539493], [48.486139440893254, 35.03288767046442], [48.50633919022318, 34.961637946268965], [48.42974857413343, 35.04507991326913], [48.4218645431477, 35.08896633393826], [48.45808213535231, 35.02467109407048], [48.473224333347964, 35.05008578604531], [48.456774792615676, 35.071129995174324], [48.46355263558533, 35.0461392908846], [48.469749872789805, 35.05458490774451], [48.4733575519417, 35.047018293585474], [48.48799703592944, 35.11901110346808], [48.46135498764159, 35.05539076482987], [48.445250546888396, 35.03709725455811], [48.44346670767427, 35.04267392314072], [48.51765454240281, 35.123216978061954], [48.46874981710961, 35.03951909546357], [48.407391160456655, 35.10992042349537], [48.47387861947055, 35.04445040243304], [48.48592156197013, 35.03864254840507], [48.47502465260551, 35.0515650984357], [48.44950630034046, 35.037215320182085], [48.459857659271336, 35.04648181157369], [48.47736911149187, 35.04610881003356], [48.457623305343816, 35.05705895565831], [48.46913819428146, 35.050946982328796], [48.5077463405343, 34.97974973041254], [48.510730695284224, 35.088177662992], [48.46410474643938, 35.06010207549017], [48.43228732659931, 35.05177810306352], [48.48975612358666, 34.980103526198434], [48.46217431848607, 35.033081637676496], [48.45222216818035, 35.03554886336924], [48.48102411303932, 35.04314775295645], [48.485698586220394, 34.973904877978406], [48.460299555133034, 35.044330286970144], [48.466007405772864, 35.04676649924897], [48.464412732890665, 35.04529692754357], [48.43564137848821, 35.039295012219405], [48.47633163752155, 35.05106501643826], [48.4501023306102, 35.0406447441481], [48.45488491348952, 35.02644533433646], [48.504621034742634, 34.97060664606181], [48.466690596955736, 35.044759124442784], [48.443997831228415, 35.02790305257159], [48.5006980208499, 34.98599928729996], [48.47614686403138, 35.03530750832344], [48.46583517345251, 35.058387618516974], [48.47132130674521, 35.044065571290695], [48.48056016816145, 35.0611072613685], [48.46762184501173, 35.021486674572024], [48.48603033374656, 35.042829140288816], [48.48047912200477, 34.97386597336459], [48.46318214904964, 35.043175303135115], [48.485883172064845, 35.01611823181459], [48.46750991867735, 35.04790416222375], [48.47377300480179, 35.021605739810504], [48.49791877749643, 34.98003046020153], [48.45976999065341, 35.050569381697464], [48.45880635243056, 35.058106462747865], [48.473196020970214, 35.05569554135441], [48.46827015485965, 35.0313510203155], [48.413070904047395, 35.07446078865098], [48.488995998754326, 35.0293431991124], [48.50307299520877, 34.96633121301584], [48.47282862118839, 35.04395234598107], [48.52629628841924, 35.06829886973941], [48.45641004989078, 35.0281801956242], [48.45909818959803, 35.05161462728205], [48.47217293605123, 35.05379155160303], [48.506103702654336, 34.97423489599273], [48.49979098406036, 34.95408957707855], [48.42117327383309, 35.094537555517476], [48.43277664895788, 35.103918040054026], [48.458784286111644, 35.03141088431226], [48.4701709738117, 35.048033599197794], [48.44797807347567, 35.03984690150827], [48.497823187967725, 35.125792914996005], [48.475687768519876, 35.04739580368414], [48.50825416348988, 34.970269310591185], [48.47283509636001, 35.05816571501664], [48.51305478807154, 35.118414704269725], [48.46491003841633, 35.0459269546049], [48.45681952971295, 35.030667320409265], [48.41689733243407, 35.095567177488086], [48.50324166352488, 35.11115197285973], [48.418698569456325, 35.098270539400765], [48.46566995964993, 35.06331708480142], [48.50595157025437, 35.10628098857068], [48.441817793167665, 35.02386438602123], [48.485623872756854, 35.06091170327493], [48.469939826185, 35.01790676322848], [48.437858113872124, 35.0333092726134], [48.511581108735, 34.99039904687396], [48.47261662693963, 35.04014384460263], [48.456241198170524, 35.05826009713547], [48.47098345509264, 35.05297925871339], [48.49987753227153, 34.97512088591854], [48.45572745628514, 35.06777308213265], [48.50075804558194, 34.973942850769966], [48.45792838288488, 35.05362095372009], [48.509751197334175, 35.12299292580406], [48.46322942618498, 35.059217412893986], [48.45644502803208, 35.06181511196727], [48.47678614158347, 35.02032004149066], [48.46882931454276, 35.03866582129654], [48.44436275447196, 35.04459972142939], [48.49177779604434, 34.97322284630248], [48.46713687211492, 35.06633387247526], [48.42244966571109, 35.101365353310825], [48.49493056824629, 34.97634678448688], [48.44528961694382, 35.04184680305865], [48.422320499373576, 35.08652873710471], [48.45021915658503, 35.03648385961489], [48.46592536225623, 35.03200413907945], [48.457515557787474, 35.039631057210286], [48.417865528482885, 35.08953089017318], [48.45310907565598, 35.045366527525275], [48.479453562169496, 35.058057041546625], [48.488576596232015, 35.02718953310665], [48.44840061470037, 35.049960476858054], [48.41980983792097, 35.09243204911431], [48.439974706353624, 35.02578189333258], [48.46451486864008, 35.06121333651955], [48.4471134136108, 35.03677320161158], [48.46792718560338, 35.04369166983545], [48.491727690564474, 35.13328194141849], [48.46989346514241, 35.051762300094005], [48.48002738913003, 35.05075887772082], [48.46361239851543, 35.06785002344901], [48.46871711722099, 35.039764817696195], [48.47160143991711, 35.05547840128081], [48.49598779528114, 35.12057013124897], [48.5022409248181, 34.982685922788626], [48.46482592400782, 35.06148468426412], [48.50097676098549, 34.98507835756289], [48.492269902161446, 35.125382960790496], [48.46494510174259, 35.056925073373094], [48.454979982912455, 35.03635047270457], [48.49451143607795, 35.01160790332661], [48.509592708260854, 34.969551908059785], [48.486231824575114, 35.02653643410624], [48.442326524371126, 35.0605620712994], [48.47342320636721, 35.03516791634278], [48.46653342005738, 35.04398746376414], [48.501898029332175, 35.017231867001115], [48.51191701714645, 35.08307406697809], [48.491602781578194, 35.12815737212539], [48.49400607354556, 34.988604734883594], [48.4287610427569, 35.034169225614306], [48.45944244978319, 35.04452878286214], [48.45710867338446, 35.04902579950488], [48.46620393786476, 35.043713088738166], [48.50341755975777, 35.1360734557602], [48.51876170839216, 34.984909749516376], [48.47420423838186, 35.0535487778605], [48.45893096344338, 35.05282881268667], [48.45571585328652, 35.05793473857485], [48.484919191715065, 35.02181021558704], [48.436797667929795, 35.02703168052044], [48.483014587658545, 35.05019687951753], [48.47649440120721, 35.03968643106208], [48.46000824347895, 35.0409138331825], [48.447568654709094, 35.05206364018755], [48.478238723741654, 35.058582830714336], [48.46355460154747, 35.04641271576736], [48.46237816311974, 35.04308833012599], [48.50405572341206, 35.09702214944635], [48.458706249770465, 35.048607531794886], [48.46475243699718, 35.0722168311418], [48.45046980593765, 35.045655096456315], [48.47549934528521, 35.002392372408444], [48.47092849932348, 35.053733416211045], [48.45402379570618, 35.05001158384883], [48.46327620514979, 35.05909752754083], [48.451202956317125, 35.0467318135127], [48.50514438834059, 34.97861544016016], [48.47181614878089, 35.03395701763711], [48.453453579081625, 35.04410976742714], [48.44935885829265, 35.03769479545791], [48.477476768218985, 35.04039476550195], [48.4533231401198, 35.0458857840442], [48.45721513463444, 35.062899045043515], [48.51551151975522, 34.983946715298224], [48.46585674634293, 35.03424116937965], [48.461792971840644, 35.0444460266822], [48.4653751848141, 35.058166314866455], [48.47060747924882, 35.03390217095681], [48.537553408424436, 35.07865982833327], [48.44751035851521, 35.040146881947294], [48.50971570950954, 34.97215101686918], [48.50645375949585, 34.986482804338436], [48.46368631557532, 35.03879051851392], [48.5103507653942, 35.084195324439065], [48.471560514599986, 35.037325078221976], [48.4752842448685, 35.041825416996765], [48.48241260513577, 34.987223813578275], [48.452867414873346, 35.04247166847908], [48.4443076782224, 35.06346963851233], [48.462005931655554, 35.04220363814385], [48.50717542255796, 34.982246847257514], [48.51502357052096, 34.989325908318726], [48.500740947804196, 34.965816342670664], [48.48098615545571, 35.02859191188019], [48.48619898541785, 34.9647434368543], [48.48296617560645, 35.13262584103427], [48.464144523011036, 35.04068141854108], [48.503840654489395, 35.005581992856676], [48.46437305251906, 35.04055752401342], [48.4293255789996, 35.04184551303197], [48.46380879960487, 35.06162109952568], [48.40695530499495, 35.12006092888159], [48.471396725488304, 35.06681503576636], [48.42366598246097, 35.112083662305935], [48.455301202136724, 35.05644062525811], [48.49486133082663, 34.98592526949201], [48.469407864781104, 35.02778361076167], [48.46407320902727, 35.040688142836714], [48.47425142320501, 35.038018011165775], [48.454842739536645, 35.04616625542589], [48.45504046515518, 35.03829815377475], [48.44469742381628, 35.03546771950673], [48.47207127167737, 35.02696387447457], [48.46362969640045, 35.055753052085706], [48.45434757677581, 35.047084068862915], [48.45916350694653, 35.060975300810554], [48.438021221074116, 35.02858310885866], [48.48434725132916, 35.0442634054072], [48.50035263551972, 34.97283177679397], [48.44300274492008, 35.02133463382927], [48.50213979910734, 34.97917319314157], [48.463576719503095, 35.044982524916165], [48.49779030400467, 34.99513449743242], [48.506141667000435, 35.12630811684554], [48.507575077100476, 34.969758131756706], [48.4146949885239, 35.118540925663346], [48.494241817593554, 34.99221033695525], [48.461949483028484, 35.05202097703469], [48.47698078835264, 34.9777351590115], [48.48484808937801, 34.97040560763276], [48.47836874267445, 35.04247793223929], [48.481149677135015, 35.05708748619704], [48.41750963960444, 35.11884586305935], [48.505765569630555, 34.995432435282716], [48.46781250154544, 35.04131150578213], [48.53078880808455, 34.96880382566711], [48.47589574911434, 35.04760886246911], [48.46342082408519, 35.02851560634437], [48.470444595593996, 35.02323167714185], [48.43393553679743, 35.038523974137014], [48.46673463635867, 35.04153963498132], [48.49243649254716, 34.96405296932733], [48.450477462904026, 35.0513360010657], [48.49353427115757, 34.97467299160338], [48.43918451996386, 35.028300831642895], [48.481571416350725, 35.01747737786718], [48.4735163975695, 35.04592485094949], [48.47992027358683, 35.0377225159667], [48.4947994413889, 35.03661259214548], [48.500773683076474, 34.97542903743413], [48.456087157986715, 35.04017787939638], [48.5152312407727, 34.984687742560745], [48.470089100436844, 35.036216145608115], [48.45432753845674, 35.049217918998195], [48.46279661321916, 35.053860802783845], [48.45594381746616, 35.05846933223884], [48.45087200269036, 35.0451984592352], [48.47396177547532, 35.04416326249823], [48.4837941664047, 35.037420174132436], [48.40601432426181, 35.091731196459605], [48.4703296923669, 35.043935211080985], [48.45819357430878, 35.04987365506816], [48.45982874616235, 35.05533584626233], [48.494076060757614, 35.111968210493195], [48.4713600923032, 35.0349268856896], [48.42048521627945, 35.097288763989575], [48.49169049883589, 34.979786327056516], [48.4674045682578, 35.03872788320852], [48.49949761890551, 35.09575759739727], [48.462310519531336, 35.055040453963606], [48.455624363379584, 35.05356843897092], [48.45893228669432, 35.043386724428814], [48.45755391225826, 35.04066990717225], [48.505009171876246, 34.98515939217704], [48.41022444755202, 35.08437454143114], [48.48099332305429, 35.01470947322654], [48.47221387123372, 35.054142646796215], [48.463305947188786, 35.00745710576831], [48.4701336019238, 35.049135579321664], [48.45807376241054, 35.03263418195377], [48.50570598668593, 35.12466429982433], [48.44236740843458, 35.039643585177025], [48.46195117899335, 35.00384868184095], [48.44842457562117, 35.05784739354457], [48.48048084946661, 35.012654084232025], [48.452597225017215, 35.031897475629854], [48.440956833748956, 35.04200569197231], [48.471085924587776, 35.057686373494285], [48.44808479937731, 35.03604178181021], [48.46403920201353, 35.046816798498476], [48.487889838002374, 34.9842881650033], [48.45818163892198, 35.05313105607263], [48.42047398671317, 35.10176441555277], [48.45609586634716, 35.042529721609164], [48.4961544445577, 34.97172409779351], [48.47476292809215, 35.04706143883046], [48.49423108130477, 34.96927860988014], [48.50835692112065, 34.95078649516505], [48.453402931453425, 35.05056559804157], [48.42529804177916, 35.10903934841086], [48.46441568620658, 35.01637067564458], [48.439983554998726, 35.0361026929529], [48.456731047445295, 35.05239154261005], [48.50577072127181, 35.000574954697115], [48.49796954613957, 34.98020793707675], [48.46841145873371, 35.038919970587706], [48.45866014813284, 35.04437103558895], [48.450865897874735, 35.05374876419148], [48.46314322764608, 35.03974035820875], [48.5116778206166, 35.112008079933496], [48.502544208433015, 35.11517256477818], [48.50337602662075, 34.97046671391741], [48.44588123033878, 35.04122670315995], [48.459823937759275, 35.062446784584694], [48.4603744181218, 35.04943079273116], [48.48394452142378, 35.01747646497874], [48.4457901551918, 35.03708188731084], [48.46759774856896, 35.03056809191303], [48.485454007986455, 35.05503109777147], [48.42871124703432, 35.09922162802987], [48.461439764678325, 35.044395200864095], [48.51201213922164, 35.15193107567845], [48.44591924626979, 35.04298752908365], [48.44431875464822, 35.03868208949905], [48.40991913689083, 35.095736424037945], [48.44599208078974, 35.057684457091966], [48.46118486515959, 35.04733270410538], [48.5201841837919, 35.06561722021682], [48.481464373122755, 35.055392289345754], [48.503269273737644, 34.97331855914461], [48.46250899471191, 35.064932977762176], [48.47299405581184, 35.057000480657145], [48.44258864690992, 35.04172678104341], [48.482356145581086, 35.032810163617356], [48.50770865193887, 34.98067855510527], [48.4852141375422, 35.12852773675122], [48.43143754043207, 35.104847328172944], [48.46808496407495, 35.03773643345009], [48.495847120860994, 34.97356450167682], [48.526327818661066, 35.09029960817581], [48.48740692857805, 35.04285224667893], [48.50181866255058, 35.115963515367575], [48.467182205863004, 35.036648774206505], [48.4601063910046, 35.050435990655934], [48.47150155630535, 35.04062524919244], [48.47300335816544, 35.035524670857455], [48.44143916174092, 35.04024219456673], [48.465415662372195, 35.06032220555415], [48.45992342553235, 35.045403586087545], [48.48478979825746, 35.0245237179625], [48.46803662105287, 35.03557606471853], [48.43037539944258, 35.10428307097208], [48.459599836011456, 35.04432855734996], [48.46200125064707, 35.0560572999568], [48.44021236284218, 35.05187386051565], [48.46025706739924, 35.07209563642019], [48.46847300493045, 35.051996331732134], [48.45756988616645, 35.04325796316582], [48.44077834675823, 35.04194384301577], [48.47339605920106, 35.042668337071895], [48.493556378588046, 35.02338483843462], [48.468834349032235, 35.04324598589861], [48.51876795812558, 34.981684609762695], [48.456962108008966, 35.059375975356076], [48.487553452966885, 34.9699345743472], [48.446912797510954, 35.05759878561129], [48.4649604431149, 35.0531711506734], [48.471243656563544, 35.04501931473009], [48.4494441532909, 35.018781451009914], [48.502799686263195, 34.973921780129054], [48.45344510952702, 35.05916994546561], [48.489157519796166, 35.04597131937701], [48.46599221181975, 35.03620697767705], [48.45109394794605, 35.03495225078772], [48.507257666238985, 34.98840620026504], [48.46951009231737, 35.05166733568201], [48.482238840242786, 35.01761067900831], [48.45679525544555, 35.04253175588185], [48.484714683571354, 35.01608241850956], [48.48352024496475, 35.03697589815501], [48.47815420046155, 35.062353756894694], [48.48063186626639, 35.04297679530789], [48.49488784323569, 34.992171585208254], [48.454803951797416, 35.06141316051922], [48.448742130799005, 35.04998310898148], [48.465257249122885, 35.04188379687282], [48.47564191518471, 35.05023730090336], [48.503075353702854, 35.07975804393609], [48.47999550319461, 35.0371629813927], [48.46311992101421, 35.04944359281721], [48.51573118930053, 35.0682096020884], [48.454578956247396, 35.05807679388462], [48.483451433281346, 34.975353827027014], [48.47293170583962, 35.04821159655873], [48.465433179671884, 35.04903287871546], [48.45180039100259, 35.04361095026296], [48.45174921227937, 35.052066938014754], [48.4966421530071, 34.97525096343377], [48.481390215252894, 35.05491297297457], [48.447404086486365, 35.026540203197534], [48.449668570468816, 35.047463795795466], [48.46224256935914, 35.065589289990584], [48.49727276430252, 35.109996686753945], [48.473031133570586, 34.97322255029475], [48.46415705133482, 35.05133907849659], [48.46239065469791, 35.0479958178194], [48.50696206364813, 35.12350630099273], [48.518489560949455, 35.12489187130147], [48.43126565029548, 35.10634721468562], [48.462011113094455, 35.05729699841956], [48.46893474091258, 35.02409818656929], [48.525733598032495, 34.97758742345381], [48.46529218434014, 35.052925737012025], [48.46483929291913, 35.06519881934895], [48.4197587491289, 35.09867366253618], [48.46668084760768, 35.03645470695329], [48.49855639588076, 34.99107080669287], [48.4942633799312, 35.11879618836046], [48.4592314105876, 35.02447330453986], [48.449672467297844, 35.0484742167715], [48.459265752288665, 35.04084671814046], [48.492871542173226, 34.97909466717695], [48.46576430227692, 35.04951980330569], [48.4474502278258, 35.04190499679779], [48.46503992988583, 35.04709451817139], [48.43819030191607, 35.0418451362943], [48.475615068519225, 35.05133105798176], [48.51246085192498, 35.11740453322416], [48.44396609767592, 35.053588104808874], [48.496573124059196, 34.986153674840125], [48.46098559134004, 35.036845612979555], [48.450624883052825, 35.05705982116175], [48.49222183312409, 34.97464036554886], [48.48889424154534, 34.98808057798281], [48.49752270443423, 35.02367287313402], [48.459356783931476, 35.05838183676795], [48.47741555094994, 35.04396534017628], [48.507216720640436, 35.116506832038816], [48.45340948228783, 35.04600580394112], [48.4947547973372, 34.976968202171655], [48.42489374561228, 35.10799941901942], [48.48777872191108, 34.963836893915634], [48.50712998430173, 34.969463175808535], [48.46229674601842, 35.03552197078421], [48.44625179192451, 35.04950307591974], [48.457109599682035, 35.05710613372582], [48.46914263311486, 35.04515550781463], [48.49639033834181, 34.978311782768095], [48.476293298033646, 35.04690052163113], [48.453889366724, 35.05781878302608], [48.506159356069446, 34.97072646865809], [48.50593101257969, 35.122383689827345], [48.46160453560686, 35.05595197629782], [48.453261330222425, 35.045010941699395], [48.48748886423615, 34.98189581616598], [48.42924027019207, 35.11001046092567], [48.49815097863557, 34.952967677070006], [48.44477276979481, 35.046778753195305], [48.430490092258374, 35.09345924316873], [48.412956563094575, 35.08169367103144], [48.450615387036365, 35.05131202599525], [48.43443370826476, 35.05373658545163], [48.470760099513456, 35.04482551485372], [48.46719570647503, 35.029528745472035], [48.48224794181984, 35.06232278257988], [48.44388070592116, 35.05934914453584], [48.496964563682894, 35.03639964529372], [48.45211017467203, 35.04742127491072], [48.499032868881294, 34.98075433638901], [48.45925080913191, 35.03018034188103], [48.48399136114352, 35.0175393751187], [48.46432365297575, 35.037767534046836], [48.475733018820165, 35.067909427174975], [48.481142276486615, 35.01824114187568], [48.481503017614614, 35.02123204806785], [48.49636387787786, 34.9855148537604], [48.49943054376279, 34.98043602446372], [48.46777801768892, 35.063150510404306], [48.44759831607343, 35.03997350638265], [48.486518145778945, 34.98194607455237], [48.47213264094023, 35.038775294143015], [48.46640865438128, 35.03299977488779], [48.462860166636474, 35.04008230909095], [48.50018433933065, 34.979629632029514], [48.46817581705362, 35.04190697775483], [48.45930240319691, 35.03927579020126], [48.45691695274598, 35.03213682536328], [48.45195845255098, 35.03916894427371], [48.45491627222385, 35.03115279625969], [48.504082527557145, 34.987600559636896], [48.46297416395762, 35.020824397529346], [48.474991556373254, 35.03162448500535], [48.50472597482413, 34.976907909229496], [48.46726029734314, 35.03867843594409], [48.474526909839454, 35.04939174510419], [48.48135474444462, 35.05960450446023], [48.47484370065018, 35.02744827530354], [48.501591257686684, 35.081150260791475], [48.43720423033265, 35.03839867204433], [48.45845181422305, 35.0529134007645], [48.46496091050211, 35.048331966282376], [48.42517659020469, 35.09248030668261], [48.45744256186847, 35.04300946064333], [48.421867667644776, 35.09203974143197], [48.492446170676466, 34.990760071385985], [48.45858482197008, 35.04641311648672], [48.40593338903152, 35.11901190685753], [48.41076766753889, 35.09939339186185], [48.45118315394384, 35.039115932330894], [48.454941267470225, 35.03106285607387], [48.46053641796608, 35.02196860323744], [48.455206011111684, 35.03035864056994], [48.476323820648375, 35.04267126651011], [48.46963317900881, 35.0512872502323], [48.46654836123695, 35.03038809297968], [48.456116422198185, 35.05515038314076], [48.42700309879409, 35.09516938948317], [48.458943621737625, 35.04766793011986], [48.48122009814645, 35.036122206282556], [48.50560084538269, 35.02896839315866], [48.463739401002755, 35.04351469352094], [48.46149273326286, 35.03108807774585], [48.45766823574874, 35.024681845986706], [48.44965011509503, 35.03280846680757], [48.46770800635636, 35.03788869761172], [48.45843032942212, 35.036328204728484], [48.48282448557997, 35.04488743032908], [48.50707751935455, 35.120768518829586], [48.44437533224106, 35.03775144018192], [48.426324077390554, 35.093499974191765], [48.47442554449627, 35.04788654671967], [48.470918099622175, 35.05061940649569], [48.4489977528011, 35.03529600922557], [48.45742862824175, 35.06030932379746], [48.46222481364448, 35.04521411867716], [48.499255665709, 34.980188496229445], [48.4862067209755, 35.027082144232565], [48.501777010009334, 34.982332161312634], [48.4513465564129, 35.05573136633913], [48.42380197851006, 35.10287124165202], [48.45610585745284, 35.0338756262536], [48.47029790447931, 35.04981503525206], [48.510807807255546, 34.96856273792679], [48.47303922154549, 35.047285597057765], [48.469291800792284, 35.04586770009355], [48.49929834288541, 34.977918831427274], [48.43339039066484, 35.03871462488561], [48.504296182191325, 34.96118150954502], [48.466776876871634, 35.04071275092259], [48.452715788371954, 35.04092844901141], [48.4519325142418, 35.047798563919976], [48.46918943459591, 35.009723248590745], [48.51053152853333, 34.99265707840864], [48.464304448461434, 35.03753825151785], [48.471515006973725, 35.055894572005265], [48.500283183761304, 34.984271943618715], [48.50029756139496, 34.97353772690156], [48.50938283805976, 34.99775310892609], [48.49483955271783, 34.96806363168243], [48.46566120776941, 35.0553915417361], [48.46007724711295, 35.05620582318043], [48.495655037725676, 34.97329379790923], [48.516908278765314, 35.09392465300064], [48.42222133771634, 35.09749953485401], [48.47521251378336, 35.0228869362928], [48.47725756125573, 35.04880321838771], [48.455753926977806, 35.044856912585296], [48.498131283558386, 34.98810808273159], [48.46030268941726, 35.05413488720552], [48.49446977884354, 35.00251468026762], [48.50196554776512, 34.993043402428775], [48.47501844539469, 35.02957508011964], [48.48514439626963, 34.990325462043415], [48.4526705026587, 35.05126705136828], [48.508896307956235, 34.96909033569784], [48.465522839892756, 35.042091857120454], [48.475354803750655, 35.03514295331514], [48.474827115499, 35.017850789697114], [48.49409347440185, 35.01691965715815], [48.47298898123619, 35.047796605322695], [48.46107161439561, 35.059303087461196], [48.460244974785994, 35.0601568381079], [48.47923384477118, 35.040578319734216], [48.43579572145731, 35.097907781262556], [48.45947139972847, 35.02936561807779], [48.41579813182904, 35.09194129933504], [48.4618821539114, 35.055848516330975], [48.48655549488966, 34.99615582823548], [48.49081348053516, 34.9676565112812], [48.48995859233248, 35.11407535740847], [48.45702202434896, 35.04593594243041], [48.419653151126134, 35.1028016115882], [48.502342147325365, 34.97190396480078], [48.515505004928144, 34.98424061044464], [48.45471645959261, 35.04146160652929], [48.47454322398477, 35.04605547729122], [48.46256011155774, 35.051662842480034], [48.479505362903474, 35.02006422269811], [48.47144819492166, 35.041836141094734], [48.45347277978438, 35.04510390196074], [48.50382409746184, 34.979116370407944], [48.50166452208213, 34.976299889701174], [48.46962451264008, 35.04361203937333], [48.482891686439075, 35.03598647170505], [48.5045530013991, 35.025609194479415], [48.41362260015749, 35.09704519681971], [48.45939003044998, 35.053169544045105], [48.458468594735756, 35.04286180510244], [48.5144452288084, 35.091731246375865], [48.45832612872694, 35.04989642192198], [48.531890165311076, 35.078926978559956], [48.5142050424799, 34.9844771692581], [48.45899253706251, 35.030491238479314], [48.511676444268964, 35.0687323253109], [48.50471415556387, 34.96806074993601], [48.444477769557196, 35.04142943094764], [48.506329318177556, 34.99732514999485], [48.466729230208514, 35.06851300146192], [48.44954255885003, 35.052580511014405], [48.4801750520133, 35.05120844474944], [48.51795877673096, 34.96198942265847], [48.49387211309516, 34.97457326200266], [48.46082298440064, 35.03832216248092], [48.45285865390725, 35.03379152401749], [48.50334456789987, 34.97831856181415], [48.50658544272673, 35.11527909422303], [48.48480204538767, 35.02640700189624], [48.46293052772506, 35.053679102561176], [48.44201702755462, 35.0292725697426], [48.46620680771985, 35.022392468641115], [48.49269069960058, 35.000740826697495], [48.51966873027126, 35.07080615408413], [48.43794557863518, 35.07469712477254], [48.41482388700964, 35.0971399577812], [48.46693787951639, 35.057209596349985], [48.46453577103927, 35.06578347454221], [48.47658393273448, 35.03390450405548], [48.48996932425874, 35.05116699223237], [48.5146913122708, 35.0753468954322], [48.45980560557482, 35.04514051645696], [48.47514160877069, 35.07264343347017], [48.506818914896265, 34.96497029671605], [48.48316707325736, 35.048737396614946], [48.455839281853265, 35.04467693171765], [48.46110707909213, 35.05705786324939], [48.470606548306925, 35.047179831534706], [48.51108703580583, 34.98308050539504], [48.47290482181197, 35.04228351432578], [48.46977274031107, 35.04889126941245], [48.460666746895896, 35.03656807724502], [48.47639295590446, 35.05241571889856], [48.47852158991038, 35.042503896639566], [48.471187098875895, 35.04997100393902], [48.46302881919683, 35.04590737186315], [48.42146713686434, 35.111260502507726], [48.476765089665086, 35.04568606276411], [48.45653064329013, 35.02846967531793], [48.46838673308873, 35.05881921500714], [48.49606661187673, 34.97094267699137], [48.46498744822935, 35.03966233661351], [48.47748451862607, 35.04024338705956], [48.4666109906802, 35.059944380931704], [48.46516436548156, 35.02484325786021], [48.4364014385902, 35.0713774853366], [48.507462535660274, 34.99056056809066], [48.42645484181141, 35.10223238914129], [48.486332547233054, 35.04565105999384], [48.446922217650474, 35.042855540748576], [48.50219150327664, 34.98521122428379], [48.46719383683711, 35.0526521558595], [48.515774532797636, 34.98555604466003], [48.419047044676134, 35.10089580681255], [48.467490215257705, 35.04422661579692], [48.52607896509717, 35.07848726716346], [48.451866091231565, 35.03805091719647], [48.4602356638545, 35.057537700968666], [48.46664089992898, 35.052135567222805], [48.4754363174986, 35.016796113653356], [48.48973484700589, 34.986559007765294], [48.46602969674147, 35.04814736194719], [48.45769879185061, 35.04601291243554], [48.491950466289246, 35.016114815469116], [48.44946813095216, 35.05744112719986], [48.41441078152729, 35.10947526462123], [48.46847211875065, 35.038471223321764], [48.51565524029235, 34.98407052287124], [48.449342497389274, 35.030283432654585], [48.459148004733066, 35.03240381835211], [48.483511570694404, 35.0399328277541], [48.45021986099584, 35.05482393472383], [48.428011940433805, 35.04953125045376], [48.42440014450054, 35.10513085420097], [48.45967945775647, 35.05345095786848], [48.454487671828694, 35.05136178287115], [48.47178356447299, 35.03978518404777], [48.50243800713771, 35.12431922544674], [48.45905921369263, 35.054204095252274], [48.45189695601329, 35.05374291329814], [48.4734245732828, 35.058089133714745], [48.47120201177959, 35.05328303847201], [48.463708241362205, 35.049714482075416], [48.48316636996048, 35.05690150238316], [48.439299152336744, 35.03973478740751], [48.44944474829075, 35.03738125348772], [48.457780919301186, 35.04456933036056], [48.44954413983645, 35.032550973551935], [48.45243339449323, 35.033248217250254], [48.51758763942144, 35.07855481329284], [48.45352055396515, 35.03207580079], [48.4874846057581, 34.976920384703604], [48.47913764604073, 35.02726385333046], [48.419178488216076, 35.10213293707373], [48.47587295831588, 35.046212054753624], [48.46812725346378, 35.03802911368932], [48.46926753219154, 35.05279245668432], [48.47039767280232, 35.05557570137626], [48.46917708560017, 35.03012440135631], [48.47112722759868, 35.038572752214336], [48.47799152530133, 35.038508576502124], [48.50196521169701, 35.11060096898891], [48.471790037575886, 35.054494748419316], [48.46380264305713, 35.04426173861227], [48.464401172154496, 35.03735485158689], [48.49323607697941, 35.09996137635593], [48.48270940432911, 35.05255418030209], [48.464298420493556, 35.03380741605147], [48.46569224897882, 35.020599326302666], [48.46598104414911, 35.04897376937958], [48.457889483425255, 35.059806585958384], [48.45840643548989, 35.02691179600881], [48.47347376020697, 34.989804878441795], [48.46023816566785, 35.048038495447535], [48.431104592690545, 35.058005111815106], [48.41547693680751, 35.1123894635294], [48.455761206733705, 35.02209659415275], [48.44886097176514, 35.04128363814368], [48.50760414656144, 35.12807122596637], [48.472558001586506, 35.03646453800295], [48.46895457561785, 35.05096357769356], [48.49033023856871, 34.985054701591665], [48.51952288643859, 35.090602099074985], [48.464663974609095, 35.07379660038911], [48.438416353108074, 35.04392415967179], [48.479733983017674, 35.04111036374292], [48.47347362290576, 35.04594425687808], [48.462490358261704, 35.02850924095111], [48.464968858389945, 35.03925286868911], [48.50208382807948, 35.115907175618865], [48.44428265131576, 35.04095911602065], [48.462228226174794, 35.047723548720334], [48.45788015752002, 35.03797580067618], [48.43998379990106, 35.05121030667324], [48.49718899707114, 34.98000207064918], [48.482676865268495, 35.046106996788616], [48.50640842861267, 34.97672105283487], [48.49428821010217, 34.98155190683859], [48.52572582781357, 35.08825098264668], [48.47869355436586, 35.03752869784289], [48.47394633682913, 35.039618835109245], [48.465296303699205, 35.04316273971223], [48.45823063222294, 35.032741290765266], [48.48698223313613, 35.011807421402786], [48.46863485385422, 35.04143779126455], [48.508951932200276, 35.128743891807126], [48.45635171801682, 35.04262561329002], [48.49049552715319, 35.02193589911368], [48.47464764788439, 35.028508979621684], [48.477873940656345, 35.044826282116006], [48.466675996046924, 35.050104648499286], [48.520752608726255, 34.97896778247067], [48.4731081218191, 35.022653623494], [48.46735963803165, 35.03417241342388], [48.50197910783463, 34.95561182841723], [48.45818581996386, 35.04485720837813], [48.45986114165946, 35.060427481360996], [48.461496526918054, 35.055462154022415], [48.50424165946402, 35.12965397484591], [48.50522835488035, 35.13236130721806], [48.49426299996061, 35.12088657590961], [48.49975645407739, 34.98197315707405], [48.48612270358612, 35.04002348104566], [48.48197543170101, 35.04303927143973], [48.45436323669674, 35.04615771149771], [48.45038003478169, 35.05203884437169], [48.465900313267184, 35.04480553724319], [48.4708351797273, 35.041698107351486], [48.45447207434802, 35.04620527958856], [48.462126234625764, 35.05221206748929], [48.43331415926123, 35.02556145183866], [48.46869223122605, 35.023238190468625], [48.506471959397025, 34.97449463150508], [48.45986813537701, 35.03399287574086], [48.4804398676329, 35.04111859802352], [48.452442343369974, 35.044722196811826], [48.4500562511979, 35.04166751590977], [48.482244518185595, 35.03452467534471], [48.510470983026124, 34.98326744764602], [48.51683927691458, 34.983004743596105], [48.49541115737131, 35.12622207144043], [48.47548680833432, 35.034811668822194], [48.449614915305, 35.0503911178742], [48.462973727000595, 35.04544235713465], [48.47353659937487, 35.052904806172414], [48.50652322878413, 34.96928142766959], [48.44893607843016, 35.03066241233984], [48.51476540349726, 34.988178896580244], [48.51380091354147, 35.123764095260974], [48.41374437298491, 35.090979484456426]],\n",
       "                {\n",
       "  &quot;minOpacity&quot;: 0.3,\n",
       "  &quot;maxZoom&quot;: 18,\n",
       "  &quot;radius&quot;: 15,\n",
       "  &quot;blur&quot;: 20,\n",
       "  &quot;gradient&quot;: {\n",
       "  0.4: &quot;blue&quot;,\n",
       "  0.6: &quot;lime&quot;,\n",
       "  0.8: &quot;yellow&quot;,\n",
       "  1.0: &quot;red&quot;,\n",
       "},\n",
       "  &quot;maxOpacity&quot;: 0.8,\n",
       "}\n",
       "            );\n",
       "        \n",
       "    \n",
       "            heat_map_326ec637c2ffb1cf83a93aecabf88804.addTo(map_91bf5290aee6cb24d974319bf075e51d);\n",
       "        \n",
       "    \n",
       "            var marker_cluster_9d74dbd08f12548ccec80b1ff95ad58b = L.markerClusterGroup(\n",
       "                {\n",
       "}\n",
       "            );\n",
       "        \n",
       "    \n",
       "            var marker_a9095420e5a2289986e2bdc29fd51910 = L.marker(\n",
       "                [48.50089299177481, 34.979234398177226],\n",
       "                {\n",
       "}\n",
       "            ).addTo(marker_cluster_9d74dbd08f12548ccec80b1ff95ad58b);\n",
       "        \n",
       "    \n",
       "            var icon_ffb021acb30c106768e968a59ad715ae = L.AwesomeMarkers.icon(\n",
       "                {\n",
       "  &quot;markerColor&quot;: &quot;orange&quot;,\n",
       "  &quot;iconColor&quot;: &quot;white&quot;,\n",
       "  &quot;icon&quot;: &quot;home&quot;,\n",
       "  &quot;prefix&quot;: &quot;fa&quot;,\n",
       "  &quot;extraClasses&quot;: &quot;fa-rotate-0&quot;,\n",
       "}\n",
       "            );\n",
       "        \n",
       "    \n",
       "        var popup_0ee74de09c6dd91ad7033be6ea11a8db = L.popup({\n",
       "  &quot;maxWidth&quot;: 250,\n",
       "});\n",
       "\n",
       "        \n",
       "            \n",
       "                var html_fb84ca715eaf74499212cb4cffdc4640 = $(`&lt;div id=&quot;html_fb84ca715eaf74499212cb4cffdc4640&quot; style=&quot;width: 100.0%; height: 100.0%;&quot;&gt;     &lt;div style=&quot;font-family: Arial; font-size: 12px; width: 200px;&quot;&gt;         &lt;h4 style=&quot;color: #333; margin: 0 0 10px 0;&quot;&gt;Індустріальний&lt;/h4&gt;         &lt;hr style=&quot;margin: 5px 0;&quot;&gt;         &lt;b&gt;Средняя цена:&lt;/b&gt; 11343 грн&lt;br&gt;         &lt;b&gt;Количество:&lt;/b&gt; 166 объявлений&lt;br&gt;     &lt;/div&gt;     &lt;/div&gt;`)[0];\n",
       "                popup_0ee74de09c6dd91ad7033be6ea11a8db.setContent(html_fb84ca715eaf74499212cb4cffdc4640);\n",
       "            \n",
       "        \n",
       "\n",
       "        marker_a9095420e5a2289986e2bdc29fd51910.bindPopup(popup_0ee74de09c6dd91ad7033be6ea11a8db)\n",
       "        ;\n",
       "\n",
       "        \n",
       "    \n",
       "    \n",
       "            marker_a9095420e5a2289986e2bdc29fd51910.bindTooltip(\n",
       "                `&lt;div&gt;\n",
       "                     Індустріальний: 11343 грн\n",
       "                 &lt;/div&gt;`,\n",
       "                {\n",
       "  &quot;sticky&quot;: true,\n",
       "}\n",
       "            );\n",
       "        \n",
       "    \n",
       "                marker_a9095420e5a2289986e2bdc29fd51910.setIcon(icon_ffb021acb30c106768e968a59ad715ae);\n",
       "            \n",
       "    \n",
       "            var marker_67b25026695a3bea8e1a7df81a174c15 = L.marker(\n",
       "                [48.41942452162198, 35.099480033057034],\n",
       "                {\n",
       "}\n",
       "            ).addTo(marker_cluster_9d74dbd08f12548ccec80b1ff95ad58b);\n",
       "        \n",
       "    \n",
       "            var icon_b62462f03436497abd768bc434271ca3 = L.AwesomeMarkers.icon(\n",
       "                {\n",
       "  &quot;markerColor&quot;: &quot;orange&quot;,\n",
       "  &quot;iconColor&quot;: &quot;white&quot;,\n",
       "  &quot;icon&quot;: &quot;home&quot;,\n",
       "  &quot;prefix&quot;: &quot;fa&quot;,\n",
       "  &quot;extraClasses&quot;: &quot;fa-rotate-0&quot;,\n",
       "}\n",
       "            );\n",
       "        \n",
       "    \n",
       "        var popup_63609347010fa7c43e85b9676d6e85a2 = L.popup({\n",
       "  &quot;maxWidth&quot;: 250,\n",
       "});\n",
       "\n",
       "        \n",
       "            \n",
       "                var html_12d8fb6fe9cac57ec34f40474cfd86b8 = $(`&lt;div id=&quot;html_12d8fb6fe9cac57ec34f40474cfd86b8&quot; style=&quot;width: 100.0%; height: 100.0%;&quot;&gt;     &lt;div style=&quot;font-family: Arial; font-size: 12px; width: 200px;&quot;&gt;         &lt;h4 style=&quot;color: #333; margin: 0 0 10px 0;&quot;&gt;Амур-Нижньодніпровський&lt;/h4&gt;         &lt;hr style=&quot;margin: 5px 0;&quot;&gt;         &lt;b&gt;Средняя цена:&lt;/b&gt; 12433 грн&lt;br&gt;         &lt;b&gt;Количество:&lt;/b&gt; 70 объявлений&lt;br&gt;     &lt;/div&gt;     &lt;/div&gt;`)[0];\n",
       "                popup_63609347010fa7c43e85b9676d6e85a2.setContent(html_12d8fb6fe9cac57ec34f40474cfd86b8);\n",
       "            \n",
       "        \n",
       "\n",
       "        marker_67b25026695a3bea8e1a7df81a174c15.bindPopup(popup_63609347010fa7c43e85b9676d6e85a2)\n",
       "        ;\n",
       "\n",
       "        \n",
       "    \n",
       "    \n",
       "            marker_67b25026695a3bea8e1a7df81a174c15.bindTooltip(\n",
       "                `&lt;div&gt;\n",
       "                     Амур-Нижньодніпровський: 12433 грн\n",
       "                 &lt;/div&gt;`,\n",
       "                {\n",
       "  &quot;sticky&quot;: true,\n",
       "}\n",
       "            );\n",
       "        \n",
       "    \n",
       "                marker_67b25026695a3bea8e1a7df81a174c15.setIcon(icon_b62462f03436497abd768bc434271ca3);\n",
       "            \n",
       "    \n",
       "            var marker_3b6dfe0cbae978bf08355f28d484f6b8 = L.marker(\n",
       "                [48.50256081222885, 35.12103494735975],\n",
       "                {\n",
       "}\n",
       "            ).addTo(marker_cluster_9d74dbd08f12548ccec80b1ff95ad58b);\n",
       "        \n",
       "    \n",
       "            var icon_78fcf5fef5a43f8199d9dd3e904fe503 = L.AwesomeMarkers.icon(\n",
       "                {\n",
       "  &quot;markerColor&quot;: &quot;green&quot;,\n",
       "  &quot;iconColor&quot;: &quot;white&quot;,\n",
       "  &quot;icon&quot;: &quot;home&quot;,\n",
       "  &quot;prefix&quot;: &quot;fa&quot;,\n",
       "  &quot;extraClasses&quot;: &quot;fa-rotate-0&quot;,\n",
       "}\n",
       "            );\n",
       "        \n",
       "    \n",
       "        var popup_83d27f38a8c106a150ca66355a331aee = L.popup({\n",
       "  &quot;maxWidth&quot;: 250,\n",
       "});\n",
       "\n",
       "        \n",
       "            \n",
       "                var html_c0306d6e197115ed24d4340b95d47cec = $(`&lt;div id=&quot;html_c0306d6e197115ed24d4340b95d47cec&quot; style=&quot;width: 100.0%; height: 100.0%;&quot;&gt;     &lt;div style=&quot;font-family: Arial; font-size: 12px; width: 200px;&quot;&gt;         &lt;h4 style=&quot;color: #333; margin: 0 0 10px 0;&quot;&gt;Новокодацький&lt;/h4&gt;         &lt;hr style=&quot;margin: 5px 0;&quot;&gt;         &lt;b&gt;Средняя цена:&lt;/b&gt; 9094 грн&lt;br&gt;         &lt;b&gt;Количество:&lt;/b&gt; 49 объявлений&lt;br&gt;     &lt;/div&gt;     &lt;/div&gt;`)[0];\n",
       "                popup_83d27f38a8c106a150ca66355a331aee.setContent(html_c0306d6e197115ed24d4340b95d47cec);\n",
       "            \n",
       "        \n",
       "\n",
       "        marker_3b6dfe0cbae978bf08355f28d484f6b8.bindPopup(popup_83d27f38a8c106a150ca66355a331aee)\n",
       "        ;\n",
       "\n",
       "        \n",
       "    \n",
       "    \n",
       "            marker_3b6dfe0cbae978bf08355f28d484f6b8.bindTooltip(\n",
       "                `&lt;div&gt;\n",
       "                     Новокодацький: 9094 грн\n",
       "                 &lt;/div&gt;`,\n",
       "                {\n",
       "  &quot;sticky&quot;: true,\n",
       "}\n",
       "            );\n",
       "        \n",
       "    \n",
       "                marker_3b6dfe0cbae978bf08355f28d484f6b8.setIcon(icon_78fcf5fef5a43f8199d9dd3e904fe503);\n",
       "            \n",
       "    \n",
       "            var marker_9ec57365b6c1bb715d1cf337b87ebda9 = L.marker(\n",
       "                [48.51724018678002, 35.08054567802132],\n",
       "                {\n",
       "}\n",
       "            ).addTo(marker_cluster_9d74dbd08f12548ccec80b1ff95ad58b);\n",
       "        \n",
       "    \n",
       "            var icon_37b9d9b51728e68eea2c4fbb624adabd = L.AwesomeMarkers.icon(\n",
       "                {\n",
       "  &quot;markerColor&quot;: &quot;green&quot;,\n",
       "  &quot;iconColor&quot;: &quot;white&quot;,\n",
       "  &quot;icon&quot;: &quot;home&quot;,\n",
       "  &quot;prefix&quot;: &quot;fa&quot;,\n",
       "  &quot;extraClasses&quot;: &quot;fa-rotate-0&quot;,\n",
       "}\n",
       "            );\n",
       "        \n",
       "    \n",
       "        var popup_6cc6f3766d0e4940d98eb2ae64635f88 = L.popup({\n",
       "  &quot;maxWidth&quot;: 250,\n",
       "});\n",
       "\n",
       "        \n",
       "            \n",
       "                var html_0d7a0ef6fca31848b1f155ed159ffbda = $(`&lt;div id=&quot;html_0d7a0ef6fca31848b1f155ed159ffbda&quot; style=&quot;width: 100.0%; height: 100.0%;&quot;&gt;     &lt;div style=&quot;font-family: Arial; font-size: 12px; width: 200px;&quot;&gt;         &lt;h4 style=&quot;color: #333; margin: 0 0 10px 0;&quot;&gt;Самарський&lt;/h4&gt;         &lt;hr style=&quot;margin: 5px 0;&quot;&gt;         &lt;b&gt;Средняя цена:&lt;/b&gt; 8904 грн&lt;br&gt;         &lt;b&gt;Количество:&lt;/b&gt; 23 объявлений&lt;br&gt;     &lt;/div&gt;     &lt;/div&gt;`)[0];\n",
       "                popup_6cc6f3766d0e4940d98eb2ae64635f88.setContent(html_0d7a0ef6fca31848b1f155ed159ffbda);\n",
       "            \n",
       "        \n",
       "\n",
       "        marker_9ec57365b6c1bb715d1cf337b87ebda9.bindPopup(popup_6cc6f3766d0e4940d98eb2ae64635f88)\n",
       "        ;\n",
       "\n",
       "        \n",
       "    \n",
       "    \n",
       "            marker_9ec57365b6c1bb715d1cf337b87ebda9.bindTooltip(\n",
       "                `&lt;div&gt;\n",
       "                     Самарський: 8904 грн\n",
       "                 &lt;/div&gt;`,\n",
       "                {\n",
       "  &quot;sticky&quot;: true,\n",
       "}\n",
       "            );\n",
       "        \n",
       "    \n",
       "                marker_9ec57365b6c1bb715d1cf337b87ebda9.setIcon(icon_37b9d9b51728e68eea2c4fbb624adabd);\n",
       "            \n",
       "    \n",
       "            var marker_d027ad47e98b3eccb4c68b2f879c29ab = L.marker(\n",
       "                [48.464812751481965, 35.04709040112687],\n",
       "                {\n",
       "}\n",
       "            ).addTo(marker_cluster_9d74dbd08f12548ccec80b1ff95ad58b);\n",
       "        \n",
       "    \n",
       "            var icon_8afce50a375b878f9dcfcf1e44eedb4a = L.AwesomeMarkers.icon(\n",
       "                {\n",
       "  &quot;markerColor&quot;: &quot;orange&quot;,\n",
       "  &quot;iconColor&quot;: &quot;white&quot;,\n",
       "  &quot;icon&quot;: &quot;home&quot;,\n",
       "  &quot;prefix&quot;: &quot;fa&quot;,\n",
       "  &quot;extraClasses&quot;: &quot;fa-rotate-0&quot;,\n",
       "}\n",
       "            );\n",
       "        \n",
       "    \n",
       "        var popup_df9a4291695c2a6209efb713e2f994b3 = L.popup({\n",
       "  &quot;maxWidth&quot;: 250,\n",
       "});\n",
       "\n",
       "        \n",
       "            \n",
       "                var html_281f0574e98f4e73ee7438bcc149c1d4 = $(`&lt;div id=&quot;html_281f0574e98f4e73ee7438bcc149c1d4&quot; style=&quot;width: 100.0%; height: 100.0%;&quot;&gt;     &lt;div style=&quot;font-family: Arial; font-size: 12px; width: 200px;&quot;&gt;         &lt;h4 style=&quot;color: #333; margin: 0 0 10px 0;&quot;&gt;Соборний&lt;/h4&gt;         &lt;hr style=&quot;margin: 5px 0;&quot;&gt;         &lt;b&gt;Средняя цена:&lt;/b&gt; 17592 грн&lt;br&gt;         &lt;b&gt;Количество:&lt;/b&gt; 273 объявлений&lt;br&gt;     &lt;/div&gt;     &lt;/div&gt;`)[0];\n",
       "                popup_df9a4291695c2a6209efb713e2f994b3.setContent(html_281f0574e98f4e73ee7438bcc149c1d4);\n",
       "            \n",
       "        \n",
       "\n",
       "        marker_d027ad47e98b3eccb4c68b2f879c29ab.bindPopup(popup_df9a4291695c2a6209efb713e2f994b3)\n",
       "        ;\n",
       "\n",
       "        \n",
       "    \n",
       "    \n",
       "            marker_d027ad47e98b3eccb4c68b2f879c29ab.bindTooltip(\n",
       "                `&lt;div&gt;\n",
       "                     Соборний: 17592 грн\n",
       "                 &lt;/div&gt;`,\n",
       "                {\n",
       "  &quot;sticky&quot;: true,\n",
       "}\n",
       "            );\n",
       "        \n",
       "    \n",
       "                marker_d027ad47e98b3eccb4c68b2f879c29ab.setIcon(icon_8afce50a375b878f9dcfcf1e44eedb4a);\n",
       "            \n",
       "    \n",
       "            var marker_80c0738a339e66a2b8d246d7286b6927 = L.marker(\n",
       "                [48.46579852069402, 35.046518664268966],\n",
       "                {\n",
       "}\n",
       "            ).addTo(marker_cluster_9d74dbd08f12548ccec80b1ff95ad58b);\n",
       "        \n",
       "    \n",
       "            var icon_96b644a4f1fec73ee7ec52162baad85c = L.AwesomeMarkers.icon(\n",
       "                {\n",
       "  &quot;markerColor&quot;: &quot;orange&quot;,\n",
       "  &quot;iconColor&quot;: &quot;white&quot;,\n",
       "  &quot;icon&quot;: &quot;home&quot;,\n",
       "  &quot;prefix&quot;: &quot;fa&quot;,\n",
       "  &quot;extraClasses&quot;: &quot;fa-rotate-0&quot;,\n",
       "}\n",
       "            );\n",
       "        \n",
       "    \n",
       "        var popup_ef619f35fc645edffb23ea86cb4122c4 = L.popup({\n",
       "  &quot;maxWidth&quot;: 250,\n",
       "});\n",
       "\n",
       "        \n",
       "            \n",
       "                var html_79e4e37a2ebada42f026af946a4fa42e = $(`&lt;div id=&quot;html_79e4e37a2ebada42f026af946a4fa42e&quot; style=&quot;width: 100.0%; height: 100.0%;&quot;&gt;     &lt;div style=&quot;font-family: Arial; font-size: 12px; width: 200px;&quot;&gt;         &lt;h4 style=&quot;color: #333; margin: 0 0 10px 0;&quot;&gt;Центральний&lt;/h4&gt;         &lt;hr style=&quot;margin: 5px 0;&quot;&gt;         &lt;b&gt;Средняя цена:&lt;/b&gt; 14726 грн&lt;br&gt;         &lt;b&gt;Количество:&lt;/b&gt; 248 объявлений&lt;br&gt;     &lt;/div&gt;     &lt;/div&gt;`)[0];\n",
       "                popup_ef619f35fc645edffb23ea86cb4122c4.setContent(html_79e4e37a2ebada42f026af946a4fa42e);\n",
       "            \n",
       "        \n",
       "\n",
       "        marker_80c0738a339e66a2b8d246d7286b6927.bindPopup(popup_ef619f35fc645edffb23ea86cb4122c4)\n",
       "        ;\n",
       "\n",
       "        \n",
       "    \n",
       "    \n",
       "            marker_80c0738a339e66a2b8d246d7286b6927.bindTooltip(\n",
       "                `&lt;div&gt;\n",
       "                     Центральний: 14726 грн\n",
       "                 &lt;/div&gt;`,\n",
       "                {\n",
       "  &quot;sticky&quot;: true,\n",
       "}\n",
       "            );\n",
       "        \n",
       "    \n",
       "                marker_80c0738a339e66a2b8d246d7286b6927.setIcon(icon_96b644a4f1fec73ee7ec52162baad85c);\n",
       "            \n",
       "    \n",
       "            var marker_fe3dd4d8822d627f4c9ea82f552dc3ca = L.marker(\n",
       "                [48.47945095362067, 35.020913318807224],\n",
       "                {\n",
       "}\n",
       "            ).addTo(marker_cluster_9d74dbd08f12548ccec80b1ff95ad58b);\n",
       "        \n",
       "    \n",
       "            var icon_446c4f154dba7a0f4714cd33fe4422a8 = L.AwesomeMarkers.icon(\n",
       "                {\n",
       "  &quot;markerColor&quot;: &quot;orange&quot;,\n",
       "  &quot;iconColor&quot;: &quot;white&quot;,\n",
       "  &quot;icon&quot;: &quot;home&quot;,\n",
       "  &quot;prefix&quot;: &quot;fa&quot;,\n",
       "  &quot;extraClasses&quot;: &quot;fa-rotate-0&quot;,\n",
       "}\n",
       "            );\n",
       "        \n",
       "    \n",
       "        var popup_e54e28ec6214e1b20ff25c126649729a = L.popup({\n",
       "  &quot;maxWidth&quot;: 250,\n",
       "});\n",
       "\n",
       "        \n",
       "            \n",
       "                var html_771069c17bd107bffb0c686f2f403bb3 = $(`&lt;div id=&quot;html_771069c17bd107bffb0c686f2f403bb3&quot; style=&quot;width: 100.0%; height: 100.0%;&quot;&gt;     &lt;div style=&quot;font-family: Arial; font-size: 12px; width: 200px;&quot;&gt;         &lt;h4 style=&quot;color: #333; margin: 0 0 10px 0;&quot;&gt;Чечелівський&lt;/h4&gt;         &lt;hr style=&quot;margin: 5px 0;&quot;&gt;         &lt;b&gt;Средняя цена:&lt;/b&gt; 11861 грн&lt;br&gt;         &lt;b&gt;Количество:&lt;/b&gt; 77 объявлений&lt;br&gt;     &lt;/div&gt;     &lt;/div&gt;`)[0];\n",
       "                popup_e54e28ec6214e1b20ff25c126649729a.setContent(html_771069c17bd107bffb0c686f2f403bb3);\n",
       "            \n",
       "        \n",
       "\n",
       "        marker_fe3dd4d8822d627f4c9ea82f552dc3ca.bindPopup(popup_e54e28ec6214e1b20ff25c126649729a)\n",
       "        ;\n",
       "\n",
       "        \n",
       "    \n",
       "    \n",
       "            marker_fe3dd4d8822d627f4c9ea82f552dc3ca.bindTooltip(\n",
       "                `&lt;div&gt;\n",
       "                     Чечелівський: 11861 грн\n",
       "                 &lt;/div&gt;`,\n",
       "                {\n",
       "  &quot;sticky&quot;: true,\n",
       "}\n",
       "            );\n",
       "        \n",
       "    \n",
       "                marker_fe3dd4d8822d627f4c9ea82f552dc3ca.setIcon(icon_446c4f154dba7a0f4714cd33fe4422a8);\n",
       "            \n",
       "    \n",
       "            var marker_008d2f11ccec6ba0c538328f26d1c77b = L.marker(\n",
       "                [48.44944652998465, 35.04097911074187],\n",
       "                {\n",
       "}\n",
       "            ).addTo(marker_cluster_9d74dbd08f12548ccec80b1ff95ad58b);\n",
       "        \n",
       "    \n",
       "            var icon_abe0907b83a990e799c509def720f019 = L.AwesomeMarkers.icon(\n",
       "                {\n",
       "  &quot;markerColor&quot;: &quot;orange&quot;,\n",
       "  &quot;iconColor&quot;: &quot;white&quot;,\n",
       "  &quot;icon&quot;: &quot;home&quot;,\n",
       "  &quot;prefix&quot;: &quot;fa&quot;,\n",
       "  &quot;extraClasses&quot;: &quot;fa-rotate-0&quot;,\n",
       "}\n",
       "            );\n",
       "        \n",
       "    \n",
       "        var popup_fa728e1567bf1d0538349e48932d34a0 = L.popup({\n",
       "  &quot;maxWidth&quot;: 250,\n",
       "});\n",
       "\n",
       "        \n",
       "            \n",
       "                var html_4b9d6e9ea44e912e231c5e7ecf790705 = $(`&lt;div id=&quot;html_4b9d6e9ea44e912e231c5e7ecf790705&quot; style=&quot;width: 100.0%; height: 100.0%;&quot;&gt;     &lt;div style=&quot;font-family: Arial; font-size: 12px; width: 200px;&quot;&gt;         &lt;h4 style=&quot;color: #333; margin: 0 0 10px 0;&quot;&gt;Шевченківський&lt;/h4&gt;         &lt;hr style=&quot;margin: 5px 0;&quot;&gt;         &lt;b&gt;Средняя цена:&lt;/b&gt; 13801 грн&lt;br&gt;         &lt;b&gt;Количество:&lt;/b&gt; 145 объявлений&lt;br&gt;     &lt;/div&gt;     &lt;/div&gt;`)[0];\n",
       "                popup_fa728e1567bf1d0538349e48932d34a0.setContent(html_4b9d6e9ea44e912e231c5e7ecf790705);\n",
       "            \n",
       "        \n",
       "\n",
       "        marker_008d2f11ccec6ba0c538328f26d1c77b.bindPopup(popup_fa728e1567bf1d0538349e48932d34a0)\n",
       "        ;\n",
       "\n",
       "        \n",
       "    \n",
       "    \n",
       "            marker_008d2f11ccec6ba0c538328f26d1c77b.bindTooltip(\n",
       "                `&lt;div&gt;\n",
       "                     Шевченківський: 13801 грн\n",
       "                 &lt;/div&gt;`,\n",
       "                {\n",
       "  &quot;sticky&quot;: true,\n",
       "}\n",
       "            );\n",
       "        \n",
       "    \n",
       "                marker_008d2f11ccec6ba0c538328f26d1c77b.setIcon(icon_abe0907b83a990e799c509def720f019);\n",
       "            \n",
       "    \n",
       "            marker_cluster_9d74dbd08f12548ccec80b1ff95ad58b.addTo(map_91bf5290aee6cb24d974319bf075e51d);\n",
       "        \n",
       "    \n",
       "            var layer_control_72ee3fcfd2d8010a3ac22622af45867e_layers = {\n",
       "                base_layers : {\n",
       "                    &quot;openstreetmap&quot; : tile_layer_10974a3cca4ce29155e75dcc92d24bf5,\n",
       "                    &quot;CartoDB Positron&quot; : tile_layer_76c662472999b2289eac489d0d3646b0,\n",
       "                    &quot;CartoDB Dark&quot; : tile_layer_a908cf6f449ff144ba6a162f1ad03cb0,\n",
       "                },\n",
       "                overlays :  {\n",
       "                    &quot;\\u0422\\u0435\\u043f\\u043b\\u043e\\u0432\\u0430\\u044f \\u043a\\u0430\\u0440\\u0442\\u0430 \\u043f\\u043b\\u043e\\u0442\\u043d\\u043e\\u0441\\u0442\\u0438 \\u043a\\u0432\\u0430\\u0440\\u0442\\u0438\\u0440&quot; : heat_map_326ec637c2ffb1cf83a93aecabf88804,\n",
       "                    &quot;\\u0421\\u0440\\u0435\\u0434\\u043d\\u0438\\u0435 \\u0446\\u0435\\u043d\\u044b \\u043f\\u043e \\u0440\\u0430\\u0439\\u043e\\u043d\\u0430\\u043c&quot; : marker_cluster_9d74dbd08f12548ccec80b1ff95ad58b,\n",
       "                },\n",
       "            };\n",
       "            let layer_control_72ee3fcfd2d8010a3ac22622af45867e = L.control.layers(\n",
       "                layer_control_72ee3fcfd2d8010a3ac22622af45867e_layers.base_layers,\n",
       "                layer_control_72ee3fcfd2d8010a3ac22622af45867e_layers.overlays,\n",
       "                {\n",
       "  &quot;position&quot;: &quot;topright&quot;,\n",
       "  &quot;collapsed&quot;: true,\n",
       "  &quot;autoZIndex&quot;: true,\n",
       "}\n",
       "            ).addTo(map_91bf5290aee6cb24d974319bf075e51d);\n",
       "\n",
       "        \n",
       "    \n",
       "            tile_layer_10974a3cca4ce29155e75dcc92d24bf5.addTo(map_91bf5290aee6cb24d974319bf075e51d);\n",
       "        \n",
       "    \n",
       "            tile_layer_76c662472999b2289eac489d0d3646b0.addTo(map_91bf5290aee6cb24d974319bf075e51d);\n",
       "        \n",
       "    \n",
       "            tile_layer_a908cf6f449ff144ba6a162f1ad03cb0.addTo(map_91bf5290aee6cb24d974319bf075e51d);\n",
       "        \n",
       "    \n",
       "            heat_map_326ec637c2ffb1cf83a93aecabf88804.addTo(map_91bf5290aee6cb24d974319bf075e51d);\n",
       "        \n",
       "    \n",
       "                marker_a9095420e5a2289986e2bdc29fd51910.setIcon(icon_ffb021acb30c106768e968a59ad715ae);\n",
       "            \n",
       "    \n",
       "                marker_67b25026695a3bea8e1a7df81a174c15.setIcon(icon_b62462f03436497abd768bc434271ca3);\n",
       "            \n",
       "    \n",
       "                marker_3b6dfe0cbae978bf08355f28d484f6b8.setIcon(icon_78fcf5fef5a43f8199d9dd3e904fe503);\n",
       "            \n",
       "    \n",
       "                marker_9ec57365b6c1bb715d1cf337b87ebda9.setIcon(icon_37b9d9b51728e68eea2c4fbb624adabd);\n",
       "            \n",
       "    \n",
       "                marker_d027ad47e98b3eccb4c68b2f879c29ab.setIcon(icon_8afce50a375b878f9dcfcf1e44eedb4a);\n",
       "            \n",
       "    \n",
       "                marker_80c0738a339e66a2b8d246d7286b6927.setIcon(icon_96b644a4f1fec73ee7ec52162baad85c);\n",
       "            \n",
       "    \n",
       "                marker_fe3dd4d8822d627f4c9ea82f552dc3ca.setIcon(icon_446c4f154dba7a0f4714cd33fe4422a8);\n",
       "            \n",
       "    \n",
       "                marker_008d2f11ccec6ba0c538328f26d1c77b.setIcon(icon_abe0907b83a990e799c509def720f019);\n",
       "            \n",
       "    \n",
       "            marker_cluster_9d74dbd08f12548ccec80b1ff95ad58b.addTo(map_91bf5290aee6cb24d974319bf075e51d);\n",
       "        \n",
       "&lt;/script&gt;\n",
       "&lt;/html&gt;\" style=\"position:absolute;width:100%;height:100%;left:0;top:0;border:none !important;\" allowfullscreen webkitallowfullscreen mozallowfullscreen></iframe></div></div>"
      ],
      "text/plain": [
       "<folium.folium.Map at 0x7fd86905d940>"
      ]
     },
     "execution_count": 12,
     "metadata": {},
     "output_type": "execute_result"
    }
   ],
   "source": [
    "# Сохраняем карту\n",
    "map_path = '/home/redmoon/Documents/Dev/appartment_scraper/charts/dnipro_apartments_map.html'\n",
    "m.save(map_path)\n",
    "print(f\"✓ Карта сохранена: {map_path}\")\n",
    "\n",
    "# Отображаем карту\n",
    "m"
   ]
  },
  {
   "cell_type": "markdown",
   "id": "8f3a1696",
   "metadata": {},
   "source": [
    "## 6. Альтернативная визуализация с Plotly Mapbox\n",
    "\n",
    "Интерактивная карта с точками, размер которых зависит от количества квартир, а цвет от средней цены"
   ]
  },
  {
   "cell_type": "code",
   "execution_count": 14,
   "id": "e04a8ddd",
   "metadata": {},
   "outputs": [
    {
     "data": {
      "application/vnd.plotly.v1+json": {
       "config": {
        "plotlyServerURL": "https://plot.ly"
       },
       "data": [
        {
         "customdata": {
          "bdata": "uawYKGEnxkAAAAAAAMBkQPU79UIdQEhADKWBjVd9QUC3bdu2bUjIQAAAAAAAgFFA4MDls681SEDgSgDDu4xBQJ2Cl1PwwsFAAAAAAACASEAWY6bpU0BIQKdKuhJ+j0FAFrKQhSxkwUAAAAAAAAA3QNUyK+00QkhAxnceUk+KQUDFTuzEDi7RQAAAAAAAEHFAfTD3+347SEDRZeoOB4ZBQL733ns/w8xAAAAAAAAAb0D4czJJnztIQCvY1lL0hUFADewdU4Mqx0AAAAAAAEBTQBzrGqZePUhA9ymiSa2CQUC9xZDOW/TKQAAAAAAAIGJA2crBdoc5SEBOOrLNPoVBQA==",
          "dtype": "f8",
          "shape": "8, 4"
         },
         "hovertemplate": "<b>%{hovertext}</b><br><br>Количество объявлений=%{customdata[1]}<br>Средняя цена (грн)=%{marker.color:,.0f}<extra></extra>",
         "hovertext": [
          "Індустріальний",
          "Амур-Нижньодніпровський",
          "Новокодацький",
          "Самарський",
          "Соборний",
          "Центральний",
          "Чечелівський",
          "Шевченківський"
         ],
         "lat": {
          "bdata": "9Tv1Qh1ASEDgwOWzrzVIQBZjpulTQEhA1TIr7TRCSEB9MPf7fjtIQPhzMkmfO0hAHOsapl49SEDZysF2hzlIQA==",
          "dtype": "f8"
         },
         "legendgroup": "",
         "lon": {
          "bdata": "DKWBjVd9QUDgSgDDu4xBQKdKuhJ+j0FAxnceUk+KQUDRZeoOB4ZBQCvY1lL0hUFA9ymiSa2CQUBOOrLNPoVBQA==",
          "dtype": "f8"
         },
         "marker": {
          "color": {
           "bdata": "uawYKGEnxkC3bdu2bUjIQJ2Cl1PwwsFAFrKQhSxkwUDFTuzEDi7RQL733ns/w8xADewdU4Mqx0C9xZDOW/TKQA==",
           "dtype": "f8"
          },
          "coloraxis": "coloraxis",
          "size": {
           "bdata": "pgBGADEAFwARAfgATQCRAA==",
           "dtype": "i2"
          },
          "sizemode": "area",
          "sizeref": 0.30333333333333334
         },
         "mode": "markers",
         "name": "",
         "showlegend": false,
         "subplot": "mapbox",
         "type": "scattermapbox"
        }
       ],
       "layout": {
        "coloraxis": {
         "colorbar": {
          "title": {
           "text": "Средняя цена (грн)"
          }
         },
         "colorscale": [
          [
           0,
           "#440154"
          ],
          [
           0.1111111111111111,
           "#482878"
          ],
          [
           0.2222222222222222,
           "#3e4989"
          ],
          [
           0.3333333333333333,
           "#31688e"
          ],
          [
           0.4444444444444444,
           "#26828e"
          ],
          [
           0.5555555555555556,
           "#1f9e89"
          ],
          [
           0.6666666666666666,
           "#35b779"
          ],
          [
           0.7777777777777778,
           "#6ece58"
          ],
          [
           0.8888888888888888,
           "#b5de2b"
          ],
          [
           1,
           "#fde725"
          ]
         ]
        },
        "height": 700,
        "legend": {
         "itemsizing": "constant",
         "tracegroupgap": 0
        },
        "mapbox": {
         "center": {
          "lat": 48.4647,
          "lon": 35.0462
         },
         "domain": {
          "x": [
           0,
           1
          ],
          "y": [
           0,
           1
          ]
         },
         "style": "open-street-map",
         "zoom": 11
        },
        "margin": {
         "b": 0,
         "l": 0,
         "r": 0,
         "t": 50
        },
        "template": {
         "data": {
          "bar": [
           {
            "error_x": {
             "color": "#2a3f5f"
            },
            "error_y": {
             "color": "#2a3f5f"
            },
            "marker": {
             "line": {
              "color": "#E5ECF6",
              "width": 0.5
             },
             "pattern": {
              "fillmode": "overlay",
              "size": 10,
              "solidity": 0.2
             }
            },
            "type": "bar"
           }
          ],
          "barpolar": [
           {
            "marker": {
             "line": {
              "color": "#E5ECF6",
              "width": 0.5
             },
             "pattern": {
              "fillmode": "overlay",
              "size": 10,
              "solidity": 0.2
             }
            },
            "type": "barpolar"
           }
          ],
          "carpet": [
           {
            "aaxis": {
             "endlinecolor": "#2a3f5f",
             "gridcolor": "white",
             "linecolor": "white",
             "minorgridcolor": "white",
             "startlinecolor": "#2a3f5f"
            },
            "baxis": {
             "endlinecolor": "#2a3f5f",
             "gridcolor": "white",
             "linecolor": "white",
             "minorgridcolor": "white",
             "startlinecolor": "#2a3f5f"
            },
            "type": "carpet"
           }
          ],
          "choropleth": [
           {
            "colorbar": {
             "outlinewidth": 0,
             "ticks": ""
            },
            "type": "choropleth"
           }
          ],
          "contour": [
           {
            "colorbar": {
             "outlinewidth": 0,
             "ticks": ""
            },
            "colorscale": [
             [
              0,
              "#0d0887"
             ],
             [
              0.1111111111111111,
              "#46039f"
             ],
             [
              0.2222222222222222,
              "#7201a8"
             ],
             [
              0.3333333333333333,
              "#9c179e"
             ],
             [
              0.4444444444444444,
              "#bd3786"
             ],
             [
              0.5555555555555556,
              "#d8576b"
             ],
             [
              0.6666666666666666,
              "#ed7953"
             ],
             [
              0.7777777777777778,
              "#fb9f3a"
             ],
             [
              0.8888888888888888,
              "#fdca26"
             ],
             [
              1,
              "#f0f921"
             ]
            ],
            "type": "contour"
           }
          ],
          "contourcarpet": [
           {
            "colorbar": {
             "outlinewidth": 0,
             "ticks": ""
            },
            "type": "contourcarpet"
           }
          ],
          "heatmap": [
           {
            "colorbar": {
             "outlinewidth": 0,
             "ticks": ""
            },
            "colorscale": [
             [
              0,
              "#0d0887"
             ],
             [
              0.1111111111111111,
              "#46039f"
             ],
             [
              0.2222222222222222,
              "#7201a8"
             ],
             [
              0.3333333333333333,
              "#9c179e"
             ],
             [
              0.4444444444444444,
              "#bd3786"
             ],
             [
              0.5555555555555556,
              "#d8576b"
             ],
             [
              0.6666666666666666,
              "#ed7953"
             ],
             [
              0.7777777777777778,
              "#fb9f3a"
             ],
             [
              0.8888888888888888,
              "#fdca26"
             ],
             [
              1,
              "#f0f921"
             ]
            ],
            "type": "heatmap"
           }
          ],
          "histogram": [
           {
            "marker": {
             "pattern": {
              "fillmode": "overlay",
              "size": 10,
              "solidity": 0.2
             }
            },
            "type": "histogram"
           }
          ],
          "histogram2d": [
           {
            "colorbar": {
             "outlinewidth": 0,
             "ticks": ""
            },
            "colorscale": [
             [
              0,
              "#0d0887"
             ],
             [
              0.1111111111111111,
              "#46039f"
             ],
             [
              0.2222222222222222,
              "#7201a8"
             ],
             [
              0.3333333333333333,
              "#9c179e"
             ],
             [
              0.4444444444444444,
              "#bd3786"
             ],
             [
              0.5555555555555556,
              "#d8576b"
             ],
             [
              0.6666666666666666,
              "#ed7953"
             ],
             [
              0.7777777777777778,
              "#fb9f3a"
             ],
             [
              0.8888888888888888,
              "#fdca26"
             ],
             [
              1,
              "#f0f921"
             ]
            ],
            "type": "histogram2d"
           }
          ],
          "histogram2dcontour": [
           {
            "colorbar": {
             "outlinewidth": 0,
             "ticks": ""
            },
            "colorscale": [
             [
              0,
              "#0d0887"
             ],
             [
              0.1111111111111111,
              "#46039f"
             ],
             [
              0.2222222222222222,
              "#7201a8"
             ],
             [
              0.3333333333333333,
              "#9c179e"
             ],
             [
              0.4444444444444444,
              "#bd3786"
             ],
             [
              0.5555555555555556,
              "#d8576b"
             ],
             [
              0.6666666666666666,
              "#ed7953"
             ],
             [
              0.7777777777777778,
              "#fb9f3a"
             ],
             [
              0.8888888888888888,
              "#fdca26"
             ],
             [
              1,
              "#f0f921"
             ]
            ],
            "type": "histogram2dcontour"
           }
          ],
          "mesh3d": [
           {
            "colorbar": {
             "outlinewidth": 0,
             "ticks": ""
            },
            "type": "mesh3d"
           }
          ],
          "parcoords": [
           {
            "line": {
             "colorbar": {
              "outlinewidth": 0,
              "ticks": ""
             }
            },
            "type": "parcoords"
           }
          ],
          "pie": [
           {
            "automargin": true,
            "type": "pie"
           }
          ],
          "scatter": [
           {
            "fillpattern": {
             "fillmode": "overlay",
             "size": 10,
             "solidity": 0.2
            },
            "type": "scatter"
           }
          ],
          "scatter3d": [
           {
            "line": {
             "colorbar": {
              "outlinewidth": 0,
              "ticks": ""
             }
            },
            "marker": {
             "colorbar": {
              "outlinewidth": 0,
              "ticks": ""
             }
            },
            "type": "scatter3d"
           }
          ],
          "scattercarpet": [
           {
            "marker": {
             "colorbar": {
              "outlinewidth": 0,
              "ticks": ""
             }
            },
            "type": "scattercarpet"
           }
          ],
          "scattergeo": [
           {
            "marker": {
             "colorbar": {
              "outlinewidth": 0,
              "ticks": ""
             }
            },
            "type": "scattergeo"
           }
          ],
          "scattergl": [
           {
            "marker": {
             "colorbar": {
              "outlinewidth": 0,
              "ticks": ""
             }
            },
            "type": "scattergl"
           }
          ],
          "scattermap": [
           {
            "marker": {
             "colorbar": {
              "outlinewidth": 0,
              "ticks": ""
             }
            },
            "type": "scattermap"
           }
          ],
          "scattermapbox": [
           {
            "marker": {
             "colorbar": {
              "outlinewidth": 0,
              "ticks": ""
             }
            },
            "type": "scattermapbox"
           }
          ],
          "scatterpolar": [
           {
            "marker": {
             "colorbar": {
              "outlinewidth": 0,
              "ticks": ""
             }
            },
            "type": "scatterpolar"
           }
          ],
          "scatterpolargl": [
           {
            "marker": {
             "colorbar": {
              "outlinewidth": 0,
              "ticks": ""
             }
            },
            "type": "scatterpolargl"
           }
          ],
          "scatterternary": [
           {
            "marker": {
             "colorbar": {
              "outlinewidth": 0,
              "ticks": ""
             }
            },
            "type": "scatterternary"
           }
          ],
          "surface": [
           {
            "colorbar": {
             "outlinewidth": 0,
             "ticks": ""
            },
            "colorscale": [
             [
              0,
              "#0d0887"
             ],
             [
              0.1111111111111111,
              "#46039f"
             ],
             [
              0.2222222222222222,
              "#7201a8"
             ],
             [
              0.3333333333333333,
              "#9c179e"
             ],
             [
              0.4444444444444444,
              "#bd3786"
             ],
             [
              0.5555555555555556,
              "#d8576b"
             ],
             [
              0.6666666666666666,
              "#ed7953"
             ],
             [
              0.7777777777777778,
              "#fb9f3a"
             ],
             [
              0.8888888888888888,
              "#fdca26"
             ],
             [
              1,
              "#f0f921"
             ]
            ],
            "type": "surface"
           }
          ],
          "table": [
           {
            "cells": {
             "fill": {
              "color": "#EBF0F8"
             },
             "line": {
              "color": "white"
             }
            },
            "header": {
             "fill": {
              "color": "#C8D4E3"
             },
             "line": {
              "color": "white"
             }
            },
            "type": "table"
           }
          ]
         },
         "layout": {
          "annotationdefaults": {
           "arrowcolor": "#2a3f5f",
           "arrowhead": 0,
           "arrowwidth": 1
          },
          "autotypenumbers": "strict",
          "coloraxis": {
           "colorbar": {
            "outlinewidth": 0,
            "ticks": ""
           }
          },
          "colorscale": {
           "diverging": [
            [
             0,
             "#8e0152"
            ],
            [
             0.1,
             "#c51b7d"
            ],
            [
             0.2,
             "#de77ae"
            ],
            [
             0.3,
             "#f1b6da"
            ],
            [
             0.4,
             "#fde0ef"
            ],
            [
             0.5,
             "#f7f7f7"
            ],
            [
             0.6,
             "#e6f5d0"
            ],
            [
             0.7,
             "#b8e186"
            ],
            [
             0.8,
             "#7fbc41"
            ],
            [
             0.9,
             "#4d9221"
            ],
            [
             1,
             "#276419"
            ]
           ],
           "sequential": [
            [
             0,
             "#0d0887"
            ],
            [
             0.1111111111111111,
             "#46039f"
            ],
            [
             0.2222222222222222,
             "#7201a8"
            ],
            [
             0.3333333333333333,
             "#9c179e"
            ],
            [
             0.4444444444444444,
             "#bd3786"
            ],
            [
             0.5555555555555556,
             "#d8576b"
            ],
            [
             0.6666666666666666,
             "#ed7953"
            ],
            [
             0.7777777777777778,
             "#fb9f3a"
            ],
            [
             0.8888888888888888,
             "#fdca26"
            ],
            [
             1,
             "#f0f921"
            ]
           ],
           "sequentialminus": [
            [
             0,
             "#0d0887"
            ],
            [
             0.1111111111111111,
             "#46039f"
            ],
            [
             0.2222222222222222,
             "#7201a8"
            ],
            [
             0.3333333333333333,
             "#9c179e"
            ],
            [
             0.4444444444444444,
             "#bd3786"
            ],
            [
             0.5555555555555556,
             "#d8576b"
            ],
            [
             0.6666666666666666,
             "#ed7953"
            ],
            [
             0.7777777777777778,
             "#fb9f3a"
            ],
            [
             0.8888888888888888,
             "#fdca26"
            ],
            [
             1,
             "#f0f921"
            ]
           ]
          },
          "colorway": [
           "#636efa",
           "#EF553B",
           "#00cc96",
           "#ab63fa",
           "#FFA15A",
           "#19d3f3",
           "#FF6692",
           "#B6E880",
           "#FF97FF",
           "#FECB52"
          ],
          "font": {
           "color": "#2a3f5f"
          },
          "geo": {
           "bgcolor": "white",
           "lakecolor": "white",
           "landcolor": "#E5ECF6",
           "showlakes": true,
           "showland": true,
           "subunitcolor": "white"
          },
          "hoverlabel": {
           "align": "left"
          },
          "hovermode": "closest",
          "mapbox": {
           "style": "light"
          },
          "paper_bgcolor": "white",
          "plot_bgcolor": "#E5ECF6",
          "polar": {
           "angularaxis": {
            "gridcolor": "white",
            "linecolor": "white",
            "ticks": ""
           },
           "bgcolor": "#E5ECF6",
           "radialaxis": {
            "gridcolor": "white",
            "linecolor": "white",
            "ticks": ""
           }
          },
          "scene": {
           "xaxis": {
            "backgroundcolor": "#E5ECF6",
            "gridcolor": "white",
            "gridwidth": 2,
            "linecolor": "white",
            "showbackground": true,
            "ticks": "",
            "zerolinecolor": "white"
           },
           "yaxis": {
            "backgroundcolor": "#E5ECF6",
            "gridcolor": "white",
            "gridwidth": 2,
            "linecolor": "white",
            "showbackground": true,
            "ticks": "",
            "zerolinecolor": "white"
           },
           "zaxis": {
            "backgroundcolor": "#E5ECF6",
            "gridcolor": "white",
            "gridwidth": 2,
            "linecolor": "white",
            "showbackground": true,
            "ticks": "",
            "zerolinecolor": "white"
           }
          },
          "shapedefaults": {
           "line": {
            "color": "#2a3f5f"
           }
          },
          "ternary": {
           "aaxis": {
            "gridcolor": "white",
            "linecolor": "white",
            "ticks": ""
           },
           "baxis": {
            "gridcolor": "white",
            "linecolor": "white",
            "ticks": ""
           },
           "bgcolor": "#E5ECF6",
           "caxis": {
            "gridcolor": "white",
            "linecolor": "white",
            "ticks": ""
           }
          },
          "title": {
           "x": 0.05
          },
          "xaxis": {
           "automargin": true,
           "gridcolor": "white",
           "linecolor": "white",
           "ticks": "",
           "title": {
            "standoff": 15
           },
           "zerolinecolor": "white",
           "zerolinewidth": 2
          },
          "yaxis": {
           "automargin": true,
           "gridcolor": "white",
           "linecolor": "white",
           "ticks": "",
           "title": {
            "standoff": 15
           },
           "zerolinecolor": "white",
           "zerolinewidth": 2
          }
         }
        },
        "title": {
         "text": "Интерактивная карта средних цен и количества квартир в Днепре"
        }
       }
      }
     },
     "metadata": {},
     "output_type": "display_data"
    }
   ],
   "source": [
    "# Plotly scatter mapbox с данными по районам\n",
    "fig_map = px.scatter_mapbox(\n",
    "    district_summary,\n",
    "    lat='lat',\n",
    "    lon='lon',\n",
    "    size='count',\n",
    "    color='avg_price',\n",
    "    hover_name='district',\n",
    "    hover_data={\n",
    "        'avg_price': ':,.0f',\n",
    "        'count': True,\n",
    "        'lat': False,\n",
    "        'lon': False\n",
    "    },\n",
    "    color_continuous_scale='Viridis',\n",
    "    size_max=30,\n",
    "    zoom=11,\n",
    "    title='Интерактивная карта средних цен и количества квартир в Днепре',\n",
    "    labels={\n",
    "        'avg_price': 'Средняя цена (грн)',\n",
    "        'count': 'Количество объявлений'\n",
    "    },\n",
    "    height=700\n",
    ")\n",
    "\n",
    "fig_map.update_layout(\n",
    "    mapbox_style='open-street-map',\n",
    "    mapbox_center={'lat': 48.4647, 'lon': 35.0462},\n",
    "    margin={'r': 0, 't': 50, 'l': 0, 'b': 0}\n",
    ")\n",
    "\n",
    "fig_map.show()"
   ]
  },
  {
   "cell_type": "markdown",
   "id": "cfcfe29f",
   "metadata": {},
   "source": [
    "## 7. Дополнительные продвинутые визуализации"
   ]
  },
  {
   "cell_type": "code",
   "execution_count": 15,
   "id": "8ab94a48",
   "metadata": {},
   "outputs": [
    {
     "data": {
      "application/vnd.plotly.v1+json": {
       "config": {
        "plotlyServerURL": "https://plot.ly"
       },
       "data": [
        {
         "branchvalues": "total",
         "customdata": {
          "bdata": "A0+35oe3w0DtFn41prrGQAAAAADY8c5AAAAAAABAz0BNWVPWlP/EQAzDMAzDEMdAAAAAAAB21kAAAAAAAPnlQFVVVVVV/b5Aip3YiZ0IxUAAAAAAAPDEQAAAAAAAWMtAip3YiZ0mwEBVVVVVVYnAQAAAAACAtMZAdNFFF13Jy0BCCCGEUA3RQAAAAADg7thAzczMzMz340BudUYq5h/IQBzHcRz3MNBAkiRJkiR5z0AAAAAAAPnVQAAAAAAAjtJAyiabbDIBxEDHcRzH8ZXGQAAAAACAxtNAAAAAAAAL00BYYyI9UAvFQGqE5Z7GPc1AUV5DeY2t00AAAAAAAFjbQLmsGChhJ8ZAt23btm1IyECdgpdT8MLBQBaykIUsZMFAxU7sxA4u0UC+9957P8PMQA3sHVODKsdAvcWQzlv0ykA=",
          "dtype": "f8",
          "shape": "40, 1"
         },
         "domain": {
          "x": [
           0,
           1
          ],
          "y": [
           0,
           1
          ]
         },
         "hovertemplate": "labels=%{label}<br>Количество=%{value}<br>parent=%{parent}<br>id=%{id}<br>Средняя цена (грн)=%{color}<extra></extra>",
         "ids": [
          "Індустріальний/1 комн.",
          "Індустріальний/2 комн.",
          "Індустріальний/3 комн.",
          "Індустріальний/4 комн.",
          "Амур-Нижньодніпровський/1 комн.",
          "Амур-Нижньодніпровський/2 комн.",
          "Амур-Нижньодніпровський/3 комн.",
          "Амур-Нижньодніпровський/4 комн.",
          "Новокодацький/1 комн.",
          "Новокодацький/2 комн.",
          "Новокодацький/3 комн.",
          "Новокодацький/4 комн.",
          "Самарський/1 комн.",
          "Самарський/2 комн.",
          "Самарський/3 комн.",
          "Соборний/1 комн.",
          "Соборний/2 комн.",
          "Соборний/3 комн.",
          "Соборний/4 комн.",
          "Центральний/1 комн.",
          "Центральний/2 комн.",
          "Центральний/3 комн.",
          "Центральний/4 комн.",
          "Центральний/5 комн.",
          "Чечелівський/1 комн.",
          "Чечелівський/2 комн.",
          "Чечелівський/3 комн.",
          "Чечелівський/4 комн.",
          "Шевченківський/1 комн.",
          "Шевченківський/2 комн.",
          "Шевченківський/3 комн.",
          "Шевченківський/4 комн.",
          "Індустріальний",
          "Амур-Нижньодніпровський",
          "Новокодацький",
          "Самарський",
          "Соборний",
          "Центральний",
          "Чечелівський",
          "Шевченківський"
         ],
         "labels": [
          "1 комн.",
          "2 комн.",
          "3 комн.",
          "4 комн.",
          "1 комн.",
          "2 комн.",
          "3 комн.",
          "4 комн.",
          "1 комн.",
          "2 комн.",
          "3 комн.",
          "4 комн.",
          "1 комн.",
          "2 комн.",
          "3 комн.",
          "1 комн.",
          "2 комн.",
          "3 комн.",
          "4 комн.",
          "1 комн.",
          "2 комн.",
          "3 комн.",
          "4 комн.",
          "5 комн.",
          "1 комн.",
          "2 комн.",
          "3 комн.",
          "4 комн.",
          "1 комн.",
          "2 комн.",
          "3 комн.",
          "4 комн.",
          "Індустріальний",
          "Амур-Нижньодніпровський",
          "Новокодацький",
          "Самарський",
          "Соборний",
          "Центральний",
          "Чечелівський",
          "Шевченківський"
         ],
         "marker": {
          "coloraxis": "coloraxis",
          "colors": {
           "bdata": "A0+35oe3w0DtFn41prrGQAAAAADY8c5AAAAAAABAz0BNWVPWlP/EQAzDMAzDEMdAAAAAAAB21kAAAAAAAPnlQFVVVVVV/b5Aip3YiZ0IxUAAAAAAAPDEQAAAAAAAWMtAip3YiZ0mwEBVVVVVVYnAQAAAAACAtMZAdNFFF13Jy0BCCCGEUA3RQAAAAADg7thAzczMzMz340BudUYq5h/IQBzHcRz3MNBAkiRJkiR5z0AAAAAAAPnVQAAAAAAAjtJAyiabbDIBxEDHcRzH8ZXGQAAAAACAxtNAAAAAAAAL00BYYyI9UAvFQGqE5Z7GPc1AUV5DeY2t00AAAAAAAFjbQLmsGChhJ8ZAt23btm1IyECdgpdT8MLBQBaykIUsZMFAxU7sxA4u0UC+9957P8PMQA3sHVODKsdAvcWQzlv0ykA=",
           "dtype": "f8"
          }
         },
         "name": "",
         "parents": [
          "Індустріальний",
          "Індустріальний",
          "Індустріальний",
          "Індустріальний",
          "Амур-Нижньодніпровський",
          "Амур-Нижньодніпровський",
          "Амур-Нижньодніпровський",
          "Амур-Нижньодніпровський",
          "Новокодацький",
          "Новокодацький",
          "Новокодацький",
          "Новокодацький",
          "Самарський",
          "Самарський",
          "Самарський",
          "Соборний",
          "Соборний",
          "Соборний",
          "Соборний",
          "Центральний",
          "Центральний",
          "Центральний",
          "Центральний",
          "Центральний",
          "Чечелівський",
          "Чечелівський",
          "Чечелівський",
          "Чечелівський",
          "Шевченківський",
          "Шевченківський",
          "Шевченківський",
          "Шевченківський",
          "",
          "",
          "",
          "",
          "",
          "",
          "",
          ""
         ],
         "type": "sunburst",
         "values": {
          "bdata": "AAAAAABAVEAAAAAAAMBQQAAAAAAAADBAAAAAAAAAAEAAAAAAAIBFQAAAAAAAADVAAAAAAAAAFEAAAAAAAADwPwAAAAAAAD5AAAAAAAAAKkAAAAAAAAAUQAAAAAAAAPA/AAAAAAAAKkAAAAAAAAAYQAAAAAAAABBAAAAAAACAW0AAAAAAAABfQAAAAAAAAEFAAAAAAAAAFEAAAAAAAEBbQAAAAAAAAFtAAAAAAAAAPEAAAAAAAAAAQAAAAAAAAPA/AAAAAACAQEAAAAAAAABCQAAAAAAAABBAAAAAAAAAEEAAAAAAAMBQQAAAAAAAAE1AAAAAAAAAM0AAAAAAAADwPwAAAAAAwGRAAAAAAACAUUAAAAAAAIBIQAAAAAAAADdAAAAAAAAQcUAAAAAAAABvQAAAAAAAQFNAAAAAAAAgYkA=",
          "dtype": "f8"
         }
        }
       ],
       "layout": {
        "coloraxis": {
         "colorbar": {
          "title": {
           "text": "Средняя цена (грн)"
          }
         },
         "colorscale": [
          [
           0,
           "rgb(0,104,55)"
          ],
          [
           0.1,
           "rgb(26,152,80)"
          ],
          [
           0.2,
           "rgb(102,189,99)"
          ],
          [
           0.3,
           "rgb(166,217,106)"
          ],
          [
           0.4,
           "rgb(217,239,139)"
          ],
          [
           0.5,
           "rgb(255,255,191)"
          ],
          [
           0.6,
           "rgb(254,224,139)"
          ],
          [
           0.7,
           "rgb(253,174,97)"
          ],
          [
           0.8,
           "rgb(244,109,67)"
          ],
          [
           0.9,
           "rgb(215,48,39)"
          ],
          [
           1,
           "rgb(165,0,38)"
          ]
         ]
        },
        "height": 700,
        "legend": {
         "tracegroupgap": 0
        },
        "template": {
         "data": {
          "bar": [
           {
            "error_x": {
             "color": "#2a3f5f"
            },
            "error_y": {
             "color": "#2a3f5f"
            },
            "marker": {
             "line": {
              "color": "white",
              "width": 0.5
             },
             "pattern": {
              "fillmode": "overlay",
              "size": 10,
              "solidity": 0.2
             }
            },
            "type": "bar"
           }
          ],
          "barpolar": [
           {
            "marker": {
             "line": {
              "color": "white",
              "width": 0.5
             },
             "pattern": {
              "fillmode": "overlay",
              "size": 10,
              "solidity": 0.2
             }
            },
            "type": "barpolar"
           }
          ],
          "carpet": [
           {
            "aaxis": {
             "endlinecolor": "#2a3f5f",
             "gridcolor": "#C8D4E3",
             "linecolor": "#C8D4E3",
             "minorgridcolor": "#C8D4E3",
             "startlinecolor": "#2a3f5f"
            },
            "baxis": {
             "endlinecolor": "#2a3f5f",
             "gridcolor": "#C8D4E3",
             "linecolor": "#C8D4E3",
             "minorgridcolor": "#C8D4E3",
             "startlinecolor": "#2a3f5f"
            },
            "type": "carpet"
           }
          ],
          "choropleth": [
           {
            "colorbar": {
             "outlinewidth": 0,
             "ticks": ""
            },
            "type": "choropleth"
           }
          ],
          "contour": [
           {
            "colorbar": {
             "outlinewidth": 0,
             "ticks": ""
            },
            "colorscale": [
             [
              0,
              "#0d0887"
             ],
             [
              0.1111111111111111,
              "#46039f"
             ],
             [
              0.2222222222222222,
              "#7201a8"
             ],
             [
              0.3333333333333333,
              "#9c179e"
             ],
             [
              0.4444444444444444,
              "#bd3786"
             ],
             [
              0.5555555555555556,
              "#d8576b"
             ],
             [
              0.6666666666666666,
              "#ed7953"
             ],
             [
              0.7777777777777778,
              "#fb9f3a"
             ],
             [
              0.8888888888888888,
              "#fdca26"
             ],
             [
              1,
              "#f0f921"
             ]
            ],
            "type": "contour"
           }
          ],
          "contourcarpet": [
           {
            "colorbar": {
             "outlinewidth": 0,
             "ticks": ""
            },
            "type": "contourcarpet"
           }
          ],
          "heatmap": [
           {
            "colorbar": {
             "outlinewidth": 0,
             "ticks": ""
            },
            "colorscale": [
             [
              0,
              "#0d0887"
             ],
             [
              0.1111111111111111,
              "#46039f"
             ],
             [
              0.2222222222222222,
              "#7201a8"
             ],
             [
              0.3333333333333333,
              "#9c179e"
             ],
             [
              0.4444444444444444,
              "#bd3786"
             ],
             [
              0.5555555555555556,
              "#d8576b"
             ],
             [
              0.6666666666666666,
              "#ed7953"
             ],
             [
              0.7777777777777778,
              "#fb9f3a"
             ],
             [
              0.8888888888888888,
              "#fdca26"
             ],
             [
              1,
              "#f0f921"
             ]
            ],
            "type": "heatmap"
           }
          ],
          "histogram": [
           {
            "marker": {
             "pattern": {
              "fillmode": "overlay",
              "size": 10,
              "solidity": 0.2
             }
            },
            "type": "histogram"
           }
          ],
          "histogram2d": [
           {
            "colorbar": {
             "outlinewidth": 0,
             "ticks": ""
            },
            "colorscale": [
             [
              0,
              "#0d0887"
             ],
             [
              0.1111111111111111,
              "#46039f"
             ],
             [
              0.2222222222222222,
              "#7201a8"
             ],
             [
              0.3333333333333333,
              "#9c179e"
             ],
             [
              0.4444444444444444,
              "#bd3786"
             ],
             [
              0.5555555555555556,
              "#d8576b"
             ],
             [
              0.6666666666666666,
              "#ed7953"
             ],
             [
              0.7777777777777778,
              "#fb9f3a"
             ],
             [
              0.8888888888888888,
              "#fdca26"
             ],
             [
              1,
              "#f0f921"
             ]
            ],
            "type": "histogram2d"
           }
          ],
          "histogram2dcontour": [
           {
            "colorbar": {
             "outlinewidth": 0,
             "ticks": ""
            },
            "colorscale": [
             [
              0,
              "#0d0887"
             ],
             [
              0.1111111111111111,
              "#46039f"
             ],
             [
              0.2222222222222222,
              "#7201a8"
             ],
             [
              0.3333333333333333,
              "#9c179e"
             ],
             [
              0.4444444444444444,
              "#bd3786"
             ],
             [
              0.5555555555555556,
              "#d8576b"
             ],
             [
              0.6666666666666666,
              "#ed7953"
             ],
             [
              0.7777777777777778,
              "#fb9f3a"
             ],
             [
              0.8888888888888888,
              "#fdca26"
             ],
             [
              1,
              "#f0f921"
             ]
            ],
            "type": "histogram2dcontour"
           }
          ],
          "mesh3d": [
           {
            "colorbar": {
             "outlinewidth": 0,
             "ticks": ""
            },
            "type": "mesh3d"
           }
          ],
          "parcoords": [
           {
            "line": {
             "colorbar": {
              "outlinewidth": 0,
              "ticks": ""
             }
            },
            "type": "parcoords"
           }
          ],
          "pie": [
           {
            "automargin": true,
            "type": "pie"
           }
          ],
          "scatter": [
           {
            "fillpattern": {
             "fillmode": "overlay",
             "size": 10,
             "solidity": 0.2
            },
            "type": "scatter"
           }
          ],
          "scatter3d": [
           {
            "line": {
             "colorbar": {
              "outlinewidth": 0,
              "ticks": ""
             }
            },
            "marker": {
             "colorbar": {
              "outlinewidth": 0,
              "ticks": ""
             }
            },
            "type": "scatter3d"
           }
          ],
          "scattercarpet": [
           {
            "marker": {
             "colorbar": {
              "outlinewidth": 0,
              "ticks": ""
             }
            },
            "type": "scattercarpet"
           }
          ],
          "scattergeo": [
           {
            "marker": {
             "colorbar": {
              "outlinewidth": 0,
              "ticks": ""
             }
            },
            "type": "scattergeo"
           }
          ],
          "scattergl": [
           {
            "marker": {
             "colorbar": {
              "outlinewidth": 0,
              "ticks": ""
             }
            },
            "type": "scattergl"
           }
          ],
          "scattermap": [
           {
            "marker": {
             "colorbar": {
              "outlinewidth": 0,
              "ticks": ""
             }
            },
            "type": "scattermap"
           }
          ],
          "scattermapbox": [
           {
            "marker": {
             "colorbar": {
              "outlinewidth": 0,
              "ticks": ""
             }
            },
            "type": "scattermapbox"
           }
          ],
          "scatterpolar": [
           {
            "marker": {
             "colorbar": {
              "outlinewidth": 0,
              "ticks": ""
             }
            },
            "type": "scatterpolar"
           }
          ],
          "scatterpolargl": [
           {
            "marker": {
             "colorbar": {
              "outlinewidth": 0,
              "ticks": ""
             }
            },
            "type": "scatterpolargl"
           }
          ],
          "scatterternary": [
           {
            "marker": {
             "colorbar": {
              "outlinewidth": 0,
              "ticks": ""
             }
            },
            "type": "scatterternary"
           }
          ],
          "surface": [
           {
            "colorbar": {
             "outlinewidth": 0,
             "ticks": ""
            },
            "colorscale": [
             [
              0,
              "#0d0887"
             ],
             [
              0.1111111111111111,
              "#46039f"
             ],
             [
              0.2222222222222222,
              "#7201a8"
             ],
             [
              0.3333333333333333,
              "#9c179e"
             ],
             [
              0.4444444444444444,
              "#bd3786"
             ],
             [
              0.5555555555555556,
              "#d8576b"
             ],
             [
              0.6666666666666666,
              "#ed7953"
             ],
             [
              0.7777777777777778,
              "#fb9f3a"
             ],
             [
              0.8888888888888888,
              "#fdca26"
             ],
             [
              1,
              "#f0f921"
             ]
            ],
            "type": "surface"
           }
          ],
          "table": [
           {
            "cells": {
             "fill": {
              "color": "#EBF0F8"
             },
             "line": {
              "color": "white"
             }
            },
            "header": {
             "fill": {
              "color": "#C8D4E3"
             },
             "line": {
              "color": "white"
             }
            },
            "type": "table"
           }
          ]
         },
         "layout": {
          "annotationdefaults": {
           "arrowcolor": "#2a3f5f",
           "arrowhead": 0,
           "arrowwidth": 1
          },
          "autotypenumbers": "strict",
          "coloraxis": {
           "colorbar": {
            "outlinewidth": 0,
            "ticks": ""
           }
          },
          "colorscale": {
           "diverging": [
            [
             0,
             "#8e0152"
            ],
            [
             0.1,
             "#c51b7d"
            ],
            [
             0.2,
             "#de77ae"
            ],
            [
             0.3,
             "#f1b6da"
            ],
            [
             0.4,
             "#fde0ef"
            ],
            [
             0.5,
             "#f7f7f7"
            ],
            [
             0.6,
             "#e6f5d0"
            ],
            [
             0.7,
             "#b8e186"
            ],
            [
             0.8,
             "#7fbc41"
            ],
            [
             0.9,
             "#4d9221"
            ],
            [
             1,
             "#276419"
            ]
           ],
           "sequential": [
            [
             0,
             "#0d0887"
            ],
            [
             0.1111111111111111,
             "#46039f"
            ],
            [
             0.2222222222222222,
             "#7201a8"
            ],
            [
             0.3333333333333333,
             "#9c179e"
            ],
            [
             0.4444444444444444,
             "#bd3786"
            ],
            [
             0.5555555555555556,
             "#d8576b"
            ],
            [
             0.6666666666666666,
             "#ed7953"
            ],
            [
             0.7777777777777778,
             "#fb9f3a"
            ],
            [
             0.8888888888888888,
             "#fdca26"
            ],
            [
             1,
             "#f0f921"
            ]
           ],
           "sequentialminus": [
            [
             0,
             "#0d0887"
            ],
            [
             0.1111111111111111,
             "#46039f"
            ],
            [
             0.2222222222222222,
             "#7201a8"
            ],
            [
             0.3333333333333333,
             "#9c179e"
            ],
            [
             0.4444444444444444,
             "#bd3786"
            ],
            [
             0.5555555555555556,
             "#d8576b"
            ],
            [
             0.6666666666666666,
             "#ed7953"
            ],
            [
             0.7777777777777778,
             "#fb9f3a"
            ],
            [
             0.8888888888888888,
             "#fdca26"
            ],
            [
             1,
             "#f0f921"
            ]
           ]
          },
          "colorway": [
           "#636efa",
           "#EF553B",
           "#00cc96",
           "#ab63fa",
           "#FFA15A",
           "#19d3f3",
           "#FF6692",
           "#B6E880",
           "#FF97FF",
           "#FECB52"
          ],
          "font": {
           "color": "#2a3f5f"
          },
          "geo": {
           "bgcolor": "white",
           "lakecolor": "white",
           "landcolor": "white",
           "showlakes": true,
           "showland": true,
           "subunitcolor": "#C8D4E3"
          },
          "hoverlabel": {
           "align": "left"
          },
          "hovermode": "closest",
          "mapbox": {
           "style": "light"
          },
          "paper_bgcolor": "white",
          "plot_bgcolor": "white",
          "polar": {
           "angularaxis": {
            "gridcolor": "#EBF0F8",
            "linecolor": "#EBF0F8",
            "ticks": ""
           },
           "bgcolor": "white",
           "radialaxis": {
            "gridcolor": "#EBF0F8",
            "linecolor": "#EBF0F8",
            "ticks": ""
           }
          },
          "scene": {
           "xaxis": {
            "backgroundcolor": "white",
            "gridcolor": "#DFE8F3",
            "gridwidth": 2,
            "linecolor": "#EBF0F8",
            "showbackground": true,
            "ticks": "",
            "zerolinecolor": "#EBF0F8"
           },
           "yaxis": {
            "backgroundcolor": "white",
            "gridcolor": "#DFE8F3",
            "gridwidth": 2,
            "linecolor": "#EBF0F8",
            "showbackground": true,
            "ticks": "",
            "zerolinecolor": "#EBF0F8"
           },
           "zaxis": {
            "backgroundcolor": "white",
            "gridcolor": "#DFE8F3",
            "gridwidth": 2,
            "linecolor": "#EBF0F8",
            "showbackground": true,
            "ticks": "",
            "zerolinecolor": "#EBF0F8"
           }
          },
          "shapedefaults": {
           "line": {
            "color": "#2a3f5f"
           }
          },
          "ternary": {
           "aaxis": {
            "gridcolor": "#DFE8F3",
            "linecolor": "#A2B1C6",
            "ticks": ""
           },
           "baxis": {
            "gridcolor": "#DFE8F3",
            "linecolor": "#A2B1C6",
            "ticks": ""
           },
           "bgcolor": "white",
           "caxis": {
            "gridcolor": "#DFE8F3",
            "linecolor": "#A2B1C6",
            "ticks": ""
           }
          },
          "title": {
           "x": 0.05
          },
          "xaxis": {
           "automargin": true,
           "gridcolor": "#EBF0F8",
           "linecolor": "#EBF0F8",
           "ticks": "",
           "title": {
            "standoff": 15
           },
           "zerolinecolor": "#EBF0F8",
           "zerolinewidth": 2
          },
          "yaxis": {
           "automargin": true,
           "gridcolor": "#EBF0F8",
           "linecolor": "#EBF0F8",
           "ticks": "",
           "title": {
            "standoff": 15
           },
           "zerolinecolor": "#EBF0F8",
           "zerolinewidth": 2
          }
         }
        },
        "title": {
         "text": "Распределение квартир по районам и количеству комнат"
        }
       }
      }
     },
     "metadata": {},
     "output_type": "display_data"
    }
   ],
   "source": [
    "# Sunburst диаграмма: иерархия цен по районам и количеству комнат\n",
    "df_sunburst = df_clean.groupby(['district', 'rooms']).agg({\n",
    "    'price': 'mean',\n",
    "    'post_id': 'count'\n",
    "}).reset_index()\n",
    "\n",
    "df_sunburst['rooms_str'] = df_sunburst['rooms'].astype(int).astype(str) + ' комн.'\n",
    "\n",
    "fig_sunburst = px.sunburst(\n",
    "    df_sunburst,\n",
    "    path=['district', 'rooms_str'],\n",
    "    values='post_id',\n",
    "    color='price',\n",
    "    color_continuous_scale='RdYlGn_r',\n",
    "    title='Распределение квартир по районам и количеству комнат',\n",
    "    labels={'post_id': 'Количество', 'price': 'Средняя цена (грн)'},\n",
    "    height=700\n",
    ")\n",
    "\n",
    "fig_sunburst.update_layout(template='plotly_white')\n",
    "fig_sunburst.show()"
   ]
  },
  {
   "cell_type": "code",
   "execution_count": 16,
   "id": "8ef1dca5",
   "metadata": {},
   "outputs": [
    {
     "data": {
      "application/vnd.plotly.v1+json": {
       "config": {
        "plotlyServerURL": "https://plot.ly"
       },
       "data": [
        {
         "hovertemplate": "Район=Шевченківський<br>Площадь (м²)=%{x}<br>Количество комнат=%{y}<br>Цена (грн)=%{z}<extra></extra>",
         "legendgroup": "Шевченківський",
         "marker": {
          "color": "#636efa",
          "opacity": 0.7,
          "symbol": "circle"
         },
         "mode": "markers",
         "name": "Шевченківський",
         "scene": "scene",
         "showlegend": true,
         "type": "scatter3d",
         "x": {
          "bdata": "AAAAAABAUEAAAAAAAIBGQAAAAAAAAERAAAAAAAAAQ0AAAAAAAAA2QAAAAAAAAERAAAAAAACARkAAAAAAAABJQAAAAAAAQFBAAAAAAAAATkAAAAAAAABZQAAAAAAAAERAAAAAAADAUkAAAAAAAIBHQAAAAAAAAEtAAAAAAAAAREAAAAAAAABQQAAAAAAAAEFAAAAAAAAATkAAAAAAAABJQAAAAAAAADZAAAAAAAAAREAAAAAAAABNQAAAAAAAAEpAAAAAAAAARkAAAAAAAABOQAAAAAAAAEdAAAAAAACARkAAAAAAAABDQAAAAAAAAEtAAAAAAACAVkAAAAAAAABFQAAAAAAAgEJAAAAAAACAQUAAAAAAAABKQAAAAAAAgFtAAAAAAACAR0AAAAAAAABOQAAAAAAAgEZAAAAAAACAS0AAAAAAAABAQAAAAAAAADpAAAAAAACATEAAAAAAAIBBQAAAAAAAAEJAAAAAAAAAO0AAAAAAAABCQAAAAAAAwFdAAAAAAAAASEAAAAAAAIBDQAAAAAAAgEJAAAAAAAAAQUAAAAAAAAA3QAAAAAAAAERAAAAAAADAUEAAAAAAAABIQAAAAAAAQGBAAAAAAACAUUBmZmZmZmZJQAAAAAAAAEhAAAAAAAAAUEBmZmZmZiZHQAAAAAAAgEFAAAAAAAAASEAAAAAAAABIQAAAAAAAgEZAAAAAAAAATkAAAAAAAABIQAAAAAAAAElAAAAAAABAU0AAAAAAAABDQAAAAAAAgEpAAAAAAAAAS0AAAAAAAABKQAAAAAAAAElAMzMzMzNzQ0AAAAAAAABOQAAAAAAAAEZAAAAAAAAAO0AAAAAAAIBEQAAAAAAAAFBAAAAAAACAR0AAAAAAAABEQAAAAAAAgExAAAAAAAAAQUAAAAAAAABIQAAAAAAAADRAAAAAAAAAREAAAAAAAIBCQAAAAAAAAElAAAAAAACAQkAAAAAAAABHQAAAAAAAAENAAAAAAAAASkAAAAAAAABOQAAAAAAAgEZAAAAAAAAAXkAAAAAAAABOQAAAAAAAQFJAAAAAAAAANkAAAAAAAIBGQAAAAAAAAEdAAAAAAAAAQkAAAAAAAIBDQAAAAAAAgENAAAAAAAAAPkAAAAAAAABJQAAAAAAAgEJAAAAAAAAAUUAAAAAAAABIQAAAAAAAwFBAAAAAAACARUAAAAAAAABEQAAAAAAAAEZAAAAAAAAAPkAAAAAAAABOQGZmZmZmJkdAAAAAAAAASUAAAAAAAABCQAAAAAAAADZAAAAAAAAAO0AAAAAAAIBAQAAAAAAAgEtAAAAAAACARkAAAAAAAABDQAAAAAAAAElAAAAAAAAAR0AAAAAAAIBEQAAAAAAAAEVAAAAAAAAARkAAAAAAAABEQAAAAAAAADZAAAAAAACARUAAAAAAAIBWQAAAAAAAgENAAAAAAAAASkA=",
          "dtype": "f8"
         },
         "y": {
          "bdata": "AwIBAQEBAgICAgMCAgEBAQMBAwIBAQICAQIBAgECAwEBAQIDAgICAQEBAgEBAQEDAgEBAQEBAwIEAwICAgIBAgEBAgICAQECAgICAQMBAQEDAgEDAQIBAQECAQEBAgIBAwMDAQICAQEBAQIBAwICAgEBAQICAgEBAQECAgECAgICAQIBAgMBAg==",
          "dtype": "i1"
         },
         "z": {
          "bdata": "AAAAAABAz0AAAAAAAFjLQAAAAAAAiMNAAAAAAACIw0AAAAAAAHy1QAAAAAAAQL9AAAAAAACI00AAAAAAAI7CQAAAAAAAiNNAAAAAAABeykAAAAAAIDDoQAAAAAAAQM9AAAAAAABYy0AAAAAAAGrYQAAAAAAAashAAAAAAACUwUAAAAAAAEDPQAAAAAAAWLtAAAAAAABk2UAAAAAAAIjDQAAAAAAAfLVAAAAAAACawEAAAAAAICDgQAAAAAAgIOBAAAAAAABq2EAAAAAAAEzNQAAAAAAAmtBAAAAAAABwx0AAAAAAAEC/QAAAAAAAlNFAAAAAACAw6EAAAAAAAGTJQAAAAAAAZMlAAAAAAABwx0AAAAAAAJTBQAAAAAAATM1AAAAAAAB81UAAAAAAAB3gQAAAAAAAjtJAAAAAAABkyUAAAAAAAEy9QAAAAAAA8sJAAAAAAACOwkAAAAAAAHDHQAAAAAAAWMtAAAAAAABYu0AAAAAAAIjDQAAAAAAAathAAAAAAABkyUAAAAAAAJTBQAAAAAAAcMdAAAAAAABkyUAAAAAAAJrAQAAAAAAAlMFAAAAAAABwx0AAAAAAAFi7QAAAAAAAWNtAAAAAAABkyUAAAAAAAJTBQAAAAAAAZMlAAAAAAABAz0AAAAAAAIjDQAAAAAAAHdBAAAAAAABMzUAAAAAAAFi7QAAAAAAAdsZAAAAAAABM3UAAAAAAAJTBQAAAAAAAmsBAAAAAAADovEAAAAAAAILEQAAAAAAAQL9AAAAAAACIw0AAAAAAAFjLQAAAAAAAiNNAAAAAAACawEAAAAAAgEvNQAAAAAAAmtBAAAAAAADywkAAAAAAAJTBQAAAAAAAlMFAAAAAAABwx0AAAAAAAJTBQAAAAAAAQL9AAAAAAABwt0AAAAAAAEC/QAAAAAAAiLNAAAAAAABAv0AAAAAAAIjDQAAAAAAAiMNAAAAAAABAv0AAAAAAAFLMQAAAAAAAiMNAAAAAAABMzUAAAAAAAJTRQAAAAAAAHdBAAAAAACAo5EAAAAAAAF7KQAAAAAAAcMdAAAAAAABAr0AAAAAAAEzNQAAAAAAATL1AAAAAAABkyUAAAAAAAHDHQAAAAAAAWLtAAAAAAACCxEAAAAAAAEzdQAAAAAAAZLlAAAAAAABAz0AAAAAAAJTBQAAAAAAARs5AAAAAAACCxEAAAAAAAMi5QAAAAAAABdRAAAAAAABwx0AAAAAAAJrQQAAAAAAAAMlAAAAAAABwx0AAAAAAAIjDQAAAAAAAfLVAAAAAAACCxEAAAAAAAGTJQAAAAAAATM1AAAAAAACUwUAAAAAAAIjDQAAAAAAAcNdAAAAAAABYy0AAAAAAAJTRQAAAAAAAWMtAAAAAAAB81UAAAAAAAJrQQAAAAAAAcLdAAAAAAABAv0AAAAAAAIjTQAAAAAAAiMNAAAAAAACUwUA=",
          "dtype": "f8"
         }
        },
        {
         "hovertemplate": "Район=Індустріальний<br>Площадь (м²)=%{x}<br>Количество комнат=%{y}<br>Цена (грн)=%{z}<extra></extra>",
         "legendgroup": "Індустріальний",
         "marker": {
          "color": "#EF553B",
          "opacity": 0.7,
          "symbol": "circle"
         },
         "mode": "markers",
         "name": "Індустріальний",
         "scene": "scene",
         "showlegend": true,
         "type": "scatter3d",
         "x": {
          "bdata": "AAAAAAAAREAAAAAAAAA2QAAAAAAAAEVAAAAAAAAAQUAAAAAAAEBQQAAAAAAAAEZAAAAAAABAUEAAAAAAAIBGQAAAAAAAADdAAAAAAAAASkAAAAAAAIBGQAAAAAAAgEZAAAAAAAAAQkAAAAAAAABVQAAAAAAAAERAAAAAAAAAREAAAAAAAABQQAAAAAAAgERAAAAAAACASkAAAAAAAABNQAAAAAAAAEJAAAAAAAAAQEAAAAAAAAA5QAAAAAAAgEBAAAAAAAAATkAAAAAAAIBGQAAAAAAAgEZAAAAAAAAAP0AAAAAAAABOQAAAAAAAAEdAAAAAAABAUEAAAAAAAIBGQAAAAAAAAFBAAAAAAAAAPkAAAAAAAAA8QAAAAAAAgFFAAAAAAACAQ0AAAAAAAABCQAAAAAAAQFBAAAAAAAAAR0AAAAAAAABCQAAAAAAAAE1AAAAAAACAREAAAAAAAIBHQAAAAAAAAERAAAAAAACAUUAAAAAAAIBHQAAAAAAAAEhAAAAAAACARkAAAAAAAABEQAAAAAAAgEJAAAAAAACAQEAAAAAAAABOQAAAAAAAgENAAAAAAACAR0AAAAAAAIBGQAAAAAAAAEdAAAAAAAAAT0AAAAAAAIBGQAAAAAAAAElAAAAAAAAAS0DNzMzMzAxIQAAAAAAAAERAAAAAAAAAQEAAAAAAAABNQAAAAAAAAEdAAAAAAAAASEAAAAAAAIBEQAAAAAAAAD9AAAAAAAAAREAAAAAAAABJQAAAAAAAADtAAAAAAAAARkAAAAAAAABEQAAAAAAAAERAAAAAAAAAR0AAAAAAAAA+QAAAAAAAgEhAAAAAAAAAQEAAAAAAAABPQAAAAAAAAEFAAAAAAAAARkAAAAAAAAA8QAAAAAAAgEZAAAAAAAAAPkAAAAAAAIBBQAAAAAAAAEVAAAAAAACASEAAAAAAAAA+QAAAAAAAgEdAAAAAAACARkAAAAAAAABGQAAAAAAAgERAAAAAAAAAQkAAAAAAAIBGQAAAAAAAgEZAAAAAAAAAUEAAAAAAAABEQAAAAAAAAEBAAAAAAACAQkAAAAAAAIBGQAAAAAAAAERAAAAAAAAAQUAAAAAAAAA5QAAAAAAAAEtAAAAAAAAAQEAAAAAAAAA5QAAAAAAAgEFAAAAAAAAAPEAAAAAAAABEQAAAAAAAAEpAAAAAAAAAP0AAAAAAAIBDQAAAAAAAAERAAAAAAACAQUAAAAAAAABOQAAAAAAAgEZAAAAAAAAAUEAAAAAAAABEQAAAAAAAgFFAAAAAAAAAQ0AAAAAAAABCQAAAAAAAAElAAAAAAAAAQEAAAAAAAAA3QAAAAAAAAERAAAAAAACAR0AAAAAAAMBUQAAAAAAAAFBAAAAAAAAARUAAAAAAAIBRQAAAAAAAAD9AAAAAAACASkAAAAAAAABAQAAAAAAAAERAAAAAAAAAR0AAAAAAAIBGQAAAAAAAAD9AAAAAAAAAREAAAAAAAIBCQAAAAAAAgEhAAAAAAAAAPkAAAAAAAABOQAAAAAAAAEFAAAAAAAAAQUAAAAAAAABJQAAAAAAAAERAAAAAAABAUEAAAAAAAABHQAAAAAAAgEhAAAAAAAAATUAAAAAAAABEQAAAAAAAgEZAAAAAAAAAQ0AAAAAAAABEQAAAAAAAADlAAAAAAACAQ0AAAAAAAABDQAAAAAAAAFRAAAAAAAAATEAAAAAAAIBJQA==",
          "dtype": "f8"
         },
         "y": {
          "bdata": "AQEBAQICAwIBAgICAQQBAQMBAgIBAQEBAgICAQMCAwIDAQEDAQEDAgEDAQIBAgICAgIBAQIBAgICAwICAgIBAQICAgEBAgEBAgEBAgECAQEBAgECAQEBAgECAgIBAQICAwEBAQIBAQECAQEBAQICAQEBAQMCAwICAQECAQECAgIDAgMBAgEBAgIBAQECAQMBAQEBAwECAgECAQEBAQEEAgI=",
          "dtype": "i1"
         },
         "z": {
          "bdata": "AAAAAACawEAAAAAAAHy1QAAAAAAAiMNAAAAAAABwx0AAAAAAAJTRQAAAAAAAXspAAAAAAABAz0AAAAAAAIjDQAAAAAAAWLtAAAAAAABYy0AAAAAAAJTBQAAAAAAAfMVAAAAAAAAX0UAAAAAAAGTJQAAAAAAAfMVAAAAAAACawEAAAAAAABfRQAAAAAAAXspAAAAAAABYu0AAAAAAAFjLQAAAAAAAashAAAAAAACUwUAAAAAAAHzFQAAAAAAAWLtAAAAAAABqyEAAAAAAAIjDQAAAAAAAlMFAAAAAAACUwUAAAAAAABfRQAAAAAAAZMlAAAAAAABAz0AAAAAAAIjDQAAAAAAAcMdAAAAAAABAv0AAAAAAAEy9QAAAAAAAEdJAAAAAAACUwUAAAAAAAHzFQAAAAAAAWMtAAAAAAACOwkAAAAAAAEC/QAAAAAAAQM9AAAAAAACUwUAAAAAAAFbTQAAAAAAAjsJAAAAAAABqyEAAAAAAAI7CQAAAAAAAQL9AAAAAAABwx0AAAAAAAFi7QAAAAAAAiMNAAAAAAAB2xkAAAAAAAHDHQAAAAAAAiMNAAAAAAABYy0AAAAAAAIjDQAAAAAAAlNFAAAAAAABGzkAAAAAAAIjDQAAAAAAAdsZAAAAAAACIw0AAAAAAAFjLQAAAAAAAcMdAAAAAAABwt0AAAAAAAEDPQAAAAAAAmsBAAAAAAACUwUAAAAAAAGTJQAAAAAAAcLdAAAAAAABwx0AAAAAAAGTJQAAAAAAAfMVAAAAAAABwx0AAAAAAAEy9QAAAAAAAiMNAAAAAAACIs0AAAAAAAFjLQAAAAAAAcMdAAAAAAABAv0AAAAAAACbLQAAAAAAAXspAAAAAAACUwUAAAAAAAIjDQAAAAAAAcMdAAAAAAACawEAAAAAAAEC/QAAAAAAAashAAAAAAABwx0AAAAAAABfRQAAAAAAAZMlAAAAAAABkyUAAAAAAAHDHQAAAAAAAlMFAAAAAAABAv0AAAAAAAEy9QAAAAAAAmtBAAAAAAABkyUAAAAAAAIjDQAAAAAAAcMdAAAAAAABwx0AAAAAAAI7CQAAAAAAAcMdAAAAAAACIw0AAAAAAAEy9QAAAAAAAiNNAAAAAAAB8xUAAAAAAAJTBQAAAAAAAfMVAAAAAAABAv0AAAAAAAFi7QAAAAAAAiMNAAAAAAAB8xUAAAAAAAHDHQAAAAAAAWLtAAAAAAABAv0AAAAAAABfRQAAAAAAAcMdAAAAAAACI00AAAAAAAEzNQAAAAAAAcMdAAAAAAAB8xUAAAAAAAHzFQAAAAAAAlMFAAAAAAACIw0AAAAAAAFi7QAAAAAAAQL9AAAAAAAB8xUAAAAAAAIjTQAAAAAAAQM9AAAAAAACUwUAAAAAAwIfTQAAAAAAAWLtAAAAAAABiwUAAAAAAAIS8QAAAAAAATL1AAAAAAACIw0AAAAAAAHDHQAAAAAAAjsJAAAAAAAB8xUAAAAAAAFi7QAAAAAAAcMdAAAAAAACOwkAAAAAAAJTBQAAAAAAAmsBAAAAAAACUwUAAAAAAAHzVQAAAAAAAcMdAAAAAAABMzUAAAAAAAEDPQAAAAAAAQL9AAAAAAABMzUAAAAAAAHDHQAAAAAAAcMdAAAAAAABAv0AAAAAAAJTBQAAAAAAATL1AAAAAAABkyUAAAAAAAJTBQAAAAAAAjtJAAAAAAAB2xkAAAAAAgGPJQA==",
          "dtype": "f8"
         }
        },
        {
         "hovertemplate": "Район=Соборний<br>Площадь (м²)=%{x}<br>Количество комнат=%{y}<br>Цена (грн)=%{z}<extra></extra>",
         "legendgroup": "Соборний",
         "marker": {
          "color": "#00cc96",
          "opacity": 0.7,
          "symbol": "circle"
         },
         "mode": "markers",
         "name": "Соборний",
         "scene": "scene",
         "showlegend": true,
         "type": "scatter3d",
         "x": {
          "bdata": "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",
          "dtype": "f8"
         },
         "y": {
          "bdata": "AgMBAgIBAQIBAgEBAQICAQEDAQMCAgECAQEEAQIBAgECAQICAwICAgMCAgECAgECAQEDAgIBAgIBAgIBAgICAQIBAwIBAgEBAQICAgMDAwEDAgECAgICAQEDAQMDAgECAQIDAQEEAgICAgIDAQIEAQECAQMDAwMBAgEBAQIBAgECAwECAgICAgICAgECAQECAQIBAgIEAQEBAQECAQECAQEDAQICAgIBAQEBAgEBAgECAgECAQMCAgIBAwIBAQICAgEBAwEBAgECAQIBAgICAQIDAwIBAwECAgEBAgECBAEBAgMCAgECAQEBAgECAgIBAgICAQECAgMDAQMCAQICAQIB",
          "dtype": "i1"
         },
         "z": {
          "bdata": "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",
          "dtype": "f8"
         }
        },
        {
         "hovertemplate": "Район=Центральний<br>Площадь (м²)=%{x}<br>Количество комнат=%{y}<br>Цена (грн)=%{z}<extra></extra>",
         "legendgroup": "Центральний",
         "marker": {
          "color": "#ab63fa",
          "opacity": 0.7,
          "symbol": "circle"
         },
         "mode": "markers",
         "name": "Центральний",
         "scene": "scene",
         "showlegend": true,
         "type": "scatter3d",
         "x": {
          "bdata": "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",
          "dtype": "f8"
         },
         "y": {
          "bdata": "AgICAgEBAQMBAQEBAQECAQECAQECAQIBAQECAwECAQIBAwIBAgICAwIBAgMBAgEBAgECAQIBAQICAgQCAgMBAgMCAgEBAQEBAwEBAgEDAgIBAwIBAgEBAQIBAQIBAQIBAwEBAgECAQECAQICAgMBAgIDAgICAgEBAgICAQIBAQIBAQMCAQUBAgMBAQIDAgIBAQECAQECAwEBAQEDAgIDAgIBAgIDAQICAgEEAgECAgEBAgECAQICAQEDAQMCAgECAQICAgIBAQICAwICAQECAwIDAQICAgEBAgICAQMBAgECAgMCAgEBAQECAgEBAQI=",
          "dtype": "i1"
         },
         "z": {
          "bdata": "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",
          "dtype": "f8"
         }
        },
        {
         "hovertemplate": "Район=Новокодацький<br>Площадь (м²)=%{x}<br>Количество комнат=%{y}<br>Цена (грн)=%{z}<extra></extra>",
         "legendgroup": "Новокодацький",
         "marker": {
          "color": "#FFA15A",
          "opacity": 0.7,
          "symbol": "circle"
         },
         "mode": "markers",
         "name": "Новокодацький",
         "scene": "scene",
         "showlegend": true,
         "type": "scatter3d",
         "x": {
          "bdata": "AAAAAAAAR0AAAAAAAIBAQAAAAAAAADZAAAAAAAAAQUAAAAAAAABDQAAAAAAAgEBAAAAAAAAANEAAAAAAAAA3QAAAAAAAAE5AAAAAAAAAM0AAAAAAAIBBQAAAAAAAgEdAAAAAAAAAP0AAAAAAAIBHQAAAAAAAAEJAAAAAAAAASUAAAAAAAAA6QAAAAAAAADFAAAAAAAAAQkAAAAAAAABJQAAAAAAAQFBAAAAAAACAQkAAAAAAAIBFQAAAAAAAADRAAAAAAACARkAAAAAAAIBKQAAAAAAAAD5AAAAAAAAAR0AAAAAAAIBBQAAAAAAAAChAAAAAAACAUUAAAAAAAABUQAAAAAAAAD9AAAAAAACAQEAAAAAAAABVQAAAAAAAgEZAAAAAAAAAR0AAAAAAAAA2QAAAAAAAgEBAAAAAAAAAQEAAAAAAAABEQAAAAAAAAFFAAAAAAAAAQEAAAAAAAIBCQAAAAAAAAD5AAAAAAACARkA=",
          "dtype": "f8"
         },
         "y": {
          "bdata": "AgEBAQEBAQEDAQECAQIBAgEBAQIDAQEBAgIBAgEBAwMBAQQCAgEBAQEDAQEBAg==",
          "dtype": "i1"
         },
         "z": {
          "bdata": "AAAAAAAd0EAAAAAAAJTBQAAAAAAAQL9AAAAAAABwx0AAAAAAAHDHQAAAAAAAmsBAAAAAAABwt0AAAAAAAFi7QAAAAAAAiMNAAAAAAACIs0AAAAAAAHC3QAAAAAAAlMFAAAAAAACUwUAAAAAAAILEQAAAAAAAcMdAAAAAAACCxEAAAAAAAEC/QAAAAAAAWLtAAAAAAACUwUAAAAAAAJTBQAAAAAAAmsBAAAAAAABYu0AAAAAAAJTBQAAAAAAAiLNAAAAAAAB2xkAAAAAAAEy9QAAAAAAAcLdAAAAAAABwx0AAAAAAAEC/QAAAAAAAiLNAAAAAAABwx0AAAAAAAGrIQAAAAAAAWLtAAAAAAACUwUAAAAAAAFjLQAAAAAAAlMFAAAAAAACUwUAAAAAAAHy1QAAAAAAAlMFAAAAAAACawEAAAAAAAJrAQAAAAAAAtMRAAAAAAABYu0AAAAAAAFi7QAAAAAAAcLdAAAAAAAB2xkA=",
          "dtype": "f8"
         }
        },
        {
         "hovertemplate": "Район=Чечелівський<br>Площадь (м²)=%{x}<br>Количество комнат=%{y}<br>Цена (грн)=%{z}<extra></extra>",
         "legendgroup": "Чечелівський",
         "marker": {
          "color": "#19d3f3",
          "opacity": 0.7,
          "symbol": "circle"
         },
         "mode": "markers",
         "name": "Чечелівський",
         "scene": "scene",
         "showlegend": true,
         "type": "scatter3d",
         "x": {
          "bdata": "AAAAAAAASUAAAAAAAABDQAAAAAAAgEtAAAAAAAAASEAAAAAAAKBfQAAAAAAAAElAAAAAAAAAREAzMzMzMwNiQAAAAAAAgFNAAAAAAAAAREAAAAAAAABOQAAAAAAAAEtAAAAAAAAARUAAAAAAAIBHQAAAAAAAwFFAAAAAAAAAQEAAAAAAAABOQAAAAAAAQFBAAAAAAAAAMUAAAAAAAEBQQAAAAAAAgEVAAAAAAAAASkAAAAAAAABCQAAAAAAAAD5AAAAAAACAQ0AAAAAAAIBbQAAAAAAAAD9AAAAAAABAUEAAAAAAAIBGQAAAAAAAAENAAAAAAAAAP0AAAAAAAIBLQAAAAAAAgFFAAAAAAACATEAAAAAAAABLQAAAAAAAAEBAAAAAAADAUkAAAAAAAABJQAAAAAAAAElAAAAAAABAV0AAAAAAAABCQAAAAAAAgENAAAAAAACAQkAAAAAAAABDQAAAAAAAAElAAAAAAAAASEAAAAAAAAA/QAAAAAAAAE5AAAAAAAAATEAAAAAAAABIQAAAAAAAAEJAAAAAAAAAUEAAAAAAAIBLQGZmZmZmZkdAAAAAAAAAQEAAAAAAAABAQAAAAAAAAElAAAAAAAAAQkAAAAAAAABDQAAAAAAAgEFAAAAAAAAAR0AAAAAAAABAQAAAAAAAAEJAAAAAAAAAREAAAAAAAAA5QAAAAAAAAElAAAAAAAAAOUAAAAAAAEBQQAAAAAAAAEJAAAAAAAAAQkAAAAAAAMBSQAAAAAAAgENAAAAAAAAARkA=",
          "dtype": "f8"
         },
         "y": {
          "bdata": "AgEBAQMCAQMDAgICAQICAQICAQICAgEBAQQBAgIBAQIDAgIBAQICBAECAgECAgECAgICBAICAQECAQEBAgEBAgEBAQQBAQIBAg==",
          "dtype": "i1"
         },
         "z": {
          "bdata": "AAAAAACIw0AAAAAAAHDHQAAAAACAh8NAAAAAAABMzUAAAAAAAEzdQAAAAAAAjsJAAAAAAACIw0AAAAAAAHzVQAAAAAAAQM9AAAAAAACIw0AAAAAAAF7KQAAAAAAAjsJAAAAAAABAv0AAAAAAAIjDQAAAAAAAdsZAAAAAAABYy0AAAAAAAHDHQAAAAAAAdsZAAAAAAABYu0AAAAAAAGLRQAAAAAAAiMNAAAAAAABMzUAAAAAAAI7CQAAAAAAAmsBAAAAAAABYu0AAAAAAAGrYQAAAAAAAQL9AAAAAAABYy0AAAAAAAJrAQAAAAAAAmsBAAAAAAACOwkAAAAAAAHbGQAAAAAAAZMlAAAAAAABYy0AAAAAAAI7CQAAAAAAAZMlAAAAAAABwx0AAAAAAAFjLQAAAAAAAUsxAAAAAAABwx0AAAAAAAIjDQAAAAAAAWLtAAAAAAABwx0AAAAAAAJTBQAAAAAAAWLtAAAAAAABYu0AAAAAAAFi7QAAAAAAAHdBAAAAAAABAv0AAAAAAAHbGQAAAAAAAjsJAAAAAAACI00AAAAAAAEC/QAAAAAAAfMVAAAAAAAB8xUAAAAAAAJTBQAAAAAAAlNFAAAAAAABwx0AAAAAAAIjDQAAAAAAAQL9AAAAAAAB2xkAAAAAAAILEQAAAAAAAjsJAAAAAAABAv0AAAAAAAFi7QAAAAAAAiNNAAAAAAACawEAAAAAAAILUQAAAAAAAfMVAAAAAAABkyUAAAAAAAEDPQAAAAAAAiMNAAAAAAACIw0A=",
          "dtype": "f8"
         }
        },
        {
         "hovertemplate": "Район=Амур-Нижньодніпровський<br>Площадь (м²)=%{x}<br>Количество комнат=%{y}<br>Цена (грн)=%{z}<extra></extra>",
         "legendgroup": "Амур-Нижньодніпровський",
         "marker": {
          "color": "#FF6692",
          "opacity": 0.7,
          "symbol": "circle"
         },
         "mode": "markers",
         "name": "Амур-Нижньодніпровський",
         "scene": "scene",
         "showlegend": true,
         "type": "scatter3d",
         "x": {
          "bdata": "AAAAAAAAQUAAAAAAAIBKQAAAAAAAADJAAAAAAACAQUAAAAAAAIBIQAAAAAAAAEVAAAAAAACAS0AAAAAAAAAyQAAAAAAAgEFAAAAAAAAAPUAAAAAAAABIQAAAAAAAAE1AAAAAAACARkAAAAAAAIBAQAAAAAAAAEJAAAAAAACAVUAAAAAAAABKQAAAAAAAgEJAAAAAAAAAKEAAAAAAAABDQAAAAAAAgEBAAAAAAACARkAAAAAAAABEQAAAAAAAAE5AAAAAAAAAREAAAAAAAABFQAAAAAAAQEBAAAAAAAAATkAAAAAAAABHQAAAAAAAgERAAAAAAAAAS0AAAAAAAABFQAAAAAAAAElAAAAAAABAU0AAAAAAAABEQAAAAAAAAERAAAAAAACARkAAAAAAAAA7QJqZmZmZWUVAAAAAAAAASEAAAAAAAABDQAAAAAAAgFFAAAAAAAAAR0AAAAAAAIBHQAAAAAAAgElAAAAAAAAATUAAAAAAAAA+QAAAAAAAAERAAAAAAACAQUAAAAAAAIBBQAAAAAAAgEFAAAAAAACAWkAAAAAAAABEQAAAAAAAAE1AAAAAAAAAREAAAAAAAAA+QAAAAAAAAEBAAAAAAAAAPkAAAAAAAABeQAAAAAAAAF5AAAAAAACARkAAAAAAAIBCQAAAAAAAgFpAAAAAAAAAREAAAAAAAEBQQAAAAAAAAD5A",
          "dtype": "f8"
         },
         "y": {
          "bdata": "AQIBAQICAgEBAQECAgEBAgIBAQEBAQECAQIBAgIBAgICAwEBAQEBAgEDAgEBAgEBAQEBBAECAQEBAQEDAgEDAQMB",
          "dtype": "i1"
         },
         "z": {
          "bdata": "AAAAAAB2xkAAAAAAAEy9QAAAAAAAZLlAAAAAAABYy0AAAAAAAJTBQAAAAAAAlNFAAAAAAACIw0AAAAAAAHzFQAAAAAAAmsBAAAAAAACOwkAAAAAAAJTRQAAAAAAAcMdAAAAAAACOwkAAAAAAAIjDQAAAAAAAjsJAAAAAAAB8xUAAAAAAAIjDQAAAAAAAiMNAAAAAAADIqUAAAAAAAJTBQAAAAAAAiMNAAAAAAACCxEAAAAAAAJTBQAAAAAAAcMdAAAAAAACCxEAAAAAAAHDHQAAAAAAAlMFAAAAAAACIw0AAAAAAAFjLQAAAAAAAcMdAAAAAAACO0kAAAAAAAIjDQAAAAAAAZMlAAAAAAABkyUAAAAAAAGTJQAAAAAAAfMVAAAAAAABSzEAAAAAAAHy1QAAAAAAAlNFAAAAAAACIw0AAAAAAAIjDQAAAAAAAjtJAAAAAAACCxEAAAAAAAIjDQAAAAAAAWMtAAAAAAABYy0AAAAAAABfRQAAAAAAAZMlAAAAAAABYu0AAAAAAAFi7QAAAAAAAWMtAAAAAAAD55UAAAAAAAJTBQAAAAAAAWMtAAAAAAABwx0AAAAAAAFi7QAAAAAAAZMlAAAAAAACIw0AAAAAAAIjTQAAAAAAAiNNAAAAAAACOwkAAAAAAAEC/QAAAAAAA+eVAAAAAAABMvUAAAAAAAJTRQAAAAAAAiMNA",
          "dtype": "f8"
         }
        },
        {
         "hovertemplate": "Район=Самарський<br>Площадь (м²)=%{x}<br>Количество комнат=%{y}<br>Цена (грн)=%{z}<extra></extra>",
         "legendgroup": "Самарський",
         "marker": {
          "color": "#B6E880",
          "opacity": 0.7,
          "symbol": "circle"
         },
         "mode": "markers",
         "name": "Самарський",
         "scene": "scene",
         "showlegend": true,
         "type": "scatter3d",
         "x": {
          "bdata": "AAAAAAAAPkAAAAAAAIBGQAAAAAAAgEZAAAAAAAAAPkAAAAAAAIBHQAAAAAAAAEJAAAAAAAAATUAAAAAAAABIQAAAAAAAAEdAAAAAAACAUUAAAAAAAABOQAAAAAAAgEJAAAAAAAAAPkAAAAAAAAA/QAAAAAAAgEFAAAAAAACAQEAAAAAAAAA2QAAAAAAAAD9AAAAAAAAAN0BmZmZmZiZYQAAAAAAAAE1A",
          "dtype": "f8"
         },
         "y": {
          "bdata": "AQICAQIBAwICAwMBAQEBAQEBAQMB",
          "dtype": "i1"
         },
         "z": {
          "bdata": "AAAAAABSzEAAAAAAAFi7QAAAAAAAnLhAAAAAAABqyEAAAAAAAHzFQAAAAAAAcLdAAAAAAABYu0AAAAAAAJTBQAAAAAAAQL9AAAAAAACIw0AAAAAAAFi7QAAAAAAAQL9AAAAAAABAv0AAAAAAAHy1QAAAAAAAcLdAAAAAAABAv0AAAAAAAHC3QAAAAAAAZLlAAAAAAABkuUAAAAAAAPnVQAAAAAAAcMdA",
          "dtype": "f8"
         }
        }
       ],
       "layout": {
        "height": 700,
        "legend": {
         "title": {
          "text": "Район"
         },
         "tracegroupgap": 0
        },
        "scene": {
         "domain": {
          "x": [
           0,
           1
          ],
          "y": [
           0,
           1
          ]
         },
         "xaxis": {
          "title": {
           "text": "Площадь (м²)"
          }
         },
         "yaxis": {
          "title": {
           "text": "Количество комнат"
          }
         },
         "zaxis": {
          "title": {
           "text": "Цена (грн)"
          }
         }
        },
        "template": {
         "data": {
          "bar": [
           {
            "error_x": {
             "color": "#2a3f5f"
            },
            "error_y": {
             "color": "#2a3f5f"
            },
            "marker": {
             "line": {
              "color": "white",
              "width": 0.5
             },
             "pattern": {
              "fillmode": "overlay",
              "size": 10,
              "solidity": 0.2
             }
            },
            "type": "bar"
           }
          ],
          "barpolar": [
           {
            "marker": {
             "line": {
              "color": "white",
              "width": 0.5
             },
             "pattern": {
              "fillmode": "overlay",
              "size": 10,
              "solidity": 0.2
             }
            },
            "type": "barpolar"
           }
          ],
          "carpet": [
           {
            "aaxis": {
             "endlinecolor": "#2a3f5f",
             "gridcolor": "#C8D4E3",
             "linecolor": "#C8D4E3",
             "minorgridcolor": "#C8D4E3",
             "startlinecolor": "#2a3f5f"
            },
            "baxis": {
             "endlinecolor": "#2a3f5f",
             "gridcolor": "#C8D4E3",
             "linecolor": "#C8D4E3",
             "minorgridcolor": "#C8D4E3",
             "startlinecolor": "#2a3f5f"
            },
            "type": "carpet"
           }
          ],
          "choropleth": [
           {
            "colorbar": {
             "outlinewidth": 0,
             "ticks": ""
            },
            "type": "choropleth"
           }
          ],
          "contour": [
           {
            "colorbar": {
             "outlinewidth": 0,
             "ticks": ""
            },
            "colorscale": [
             [
              0,
              "#0d0887"
             ],
             [
              0.1111111111111111,
              "#46039f"
             ],
             [
              0.2222222222222222,
              "#7201a8"
             ],
             [
              0.3333333333333333,
              "#9c179e"
             ],
             [
              0.4444444444444444,
              "#bd3786"
             ],
             [
              0.5555555555555556,
              "#d8576b"
             ],
             [
              0.6666666666666666,
              "#ed7953"
             ],
             [
              0.7777777777777778,
              "#fb9f3a"
             ],
             [
              0.8888888888888888,
              "#fdca26"
             ],
             [
              1,
              "#f0f921"
             ]
            ],
            "type": "contour"
           }
          ],
          "contourcarpet": [
           {
            "colorbar": {
             "outlinewidth": 0,
             "ticks": ""
            },
            "type": "contourcarpet"
           }
          ],
          "heatmap": [
           {
            "colorbar": {
             "outlinewidth": 0,
             "ticks": ""
            },
            "colorscale": [
             [
              0,
              "#0d0887"
             ],
             [
              0.1111111111111111,
              "#46039f"
             ],
             [
              0.2222222222222222,
              "#7201a8"
             ],
             [
              0.3333333333333333,
              "#9c179e"
             ],
             [
              0.4444444444444444,
              "#bd3786"
             ],
             [
              0.5555555555555556,
              "#d8576b"
             ],
             [
              0.6666666666666666,
              "#ed7953"
             ],
             [
              0.7777777777777778,
              "#fb9f3a"
             ],
             [
              0.8888888888888888,
              "#fdca26"
             ],
             [
              1,
              "#f0f921"
             ]
            ],
            "type": "heatmap"
           }
          ],
          "histogram": [
           {
            "marker": {
             "pattern": {
              "fillmode": "overlay",
              "size": 10,
              "solidity": 0.2
             }
            },
            "type": "histogram"
           }
          ],
          "histogram2d": [
           {
            "colorbar": {
             "outlinewidth": 0,
             "ticks": ""
            },
            "colorscale": [
             [
              0,
              "#0d0887"
             ],
             [
              0.1111111111111111,
              "#46039f"
             ],
             [
              0.2222222222222222,
              "#7201a8"
             ],
             [
              0.3333333333333333,
              "#9c179e"
             ],
             [
              0.4444444444444444,
              "#bd3786"
             ],
             [
              0.5555555555555556,
              "#d8576b"
             ],
             [
              0.6666666666666666,
              "#ed7953"
             ],
             [
              0.7777777777777778,
              "#fb9f3a"
             ],
             [
              0.8888888888888888,
              "#fdca26"
             ],
             [
              1,
              "#f0f921"
             ]
            ],
            "type": "histogram2d"
           }
          ],
          "histogram2dcontour": [
           {
            "colorbar": {
             "outlinewidth": 0,
             "ticks": ""
            },
            "colorscale": [
             [
              0,
              "#0d0887"
             ],
             [
              0.1111111111111111,
              "#46039f"
             ],
             [
              0.2222222222222222,
              "#7201a8"
             ],
             [
              0.3333333333333333,
              "#9c179e"
             ],
             [
              0.4444444444444444,
              "#bd3786"
             ],
             [
              0.5555555555555556,
              "#d8576b"
             ],
             [
              0.6666666666666666,
              "#ed7953"
             ],
             [
              0.7777777777777778,
              "#fb9f3a"
             ],
             [
              0.8888888888888888,
              "#fdca26"
             ],
             [
              1,
              "#f0f921"
             ]
            ],
            "type": "histogram2dcontour"
           }
          ],
          "mesh3d": [
           {
            "colorbar": {
             "outlinewidth": 0,
             "ticks": ""
            },
            "type": "mesh3d"
           }
          ],
          "parcoords": [
           {
            "line": {
             "colorbar": {
              "outlinewidth": 0,
              "ticks": ""
             }
            },
            "type": "parcoords"
           }
          ],
          "pie": [
           {
            "automargin": true,
            "type": "pie"
           }
          ],
          "scatter": [
           {
            "fillpattern": {
             "fillmode": "overlay",
             "size": 10,
             "solidity": 0.2
            },
            "type": "scatter"
           }
          ],
          "scatter3d": [
           {
            "line": {
             "colorbar": {
              "outlinewidth": 0,
              "ticks": ""
             }
            },
            "marker": {
             "colorbar": {
              "outlinewidth": 0,
              "ticks": ""
             }
            },
            "type": "scatter3d"
           }
          ],
          "scattercarpet": [
           {
            "marker": {
             "colorbar": {
              "outlinewidth": 0,
              "ticks": ""
             }
            },
            "type": "scattercarpet"
           }
          ],
          "scattergeo": [
           {
            "marker": {
             "colorbar": {
              "outlinewidth": 0,
              "ticks": ""
             }
            },
            "type": "scattergeo"
           }
          ],
          "scattergl": [
           {
            "marker": {
             "colorbar": {
              "outlinewidth": 0,
              "ticks": ""
             }
            },
            "type": "scattergl"
           }
          ],
          "scattermap": [
           {
            "marker": {
             "colorbar": {
              "outlinewidth": 0,
              "ticks": ""
             }
            },
            "type": "scattermap"
           }
          ],
          "scattermapbox": [
           {
            "marker": {
             "colorbar": {
              "outlinewidth": 0,
              "ticks": ""
             }
            },
            "type": "scattermapbox"
           }
          ],
          "scatterpolar": [
           {
            "marker": {
             "colorbar": {
              "outlinewidth": 0,
              "ticks": ""
             }
            },
            "type": "scatterpolar"
           }
          ],
          "scatterpolargl": [
           {
            "marker": {
             "colorbar": {
              "outlinewidth": 0,
              "ticks": ""
             }
            },
            "type": "scatterpolargl"
           }
          ],
          "scatterternary": [
           {
            "marker": {
             "colorbar": {
              "outlinewidth": 0,
              "ticks": ""
             }
            },
            "type": "scatterternary"
           }
          ],
          "surface": [
           {
            "colorbar": {
             "outlinewidth": 0,
             "ticks": ""
            },
            "colorscale": [
             [
              0,
              "#0d0887"
             ],
             [
              0.1111111111111111,
              "#46039f"
             ],
             [
              0.2222222222222222,
              "#7201a8"
             ],
             [
              0.3333333333333333,
              "#9c179e"
             ],
             [
              0.4444444444444444,
              "#bd3786"
             ],
             [
              0.5555555555555556,
              "#d8576b"
             ],
             [
              0.6666666666666666,
              "#ed7953"
             ],
             [
              0.7777777777777778,
              "#fb9f3a"
             ],
             [
              0.8888888888888888,
              "#fdca26"
             ],
             [
              1,
              "#f0f921"
             ]
            ],
            "type": "surface"
           }
          ],
          "table": [
           {
            "cells": {
             "fill": {
              "color": "#EBF0F8"
             },
             "line": {
              "color": "white"
             }
            },
            "header": {
             "fill": {
              "color": "#C8D4E3"
             },
             "line": {
              "color": "white"
             }
            },
            "type": "table"
           }
          ]
         },
         "layout": {
          "annotationdefaults": {
           "arrowcolor": "#2a3f5f",
           "arrowhead": 0,
           "arrowwidth": 1
          },
          "autotypenumbers": "strict",
          "coloraxis": {
           "colorbar": {
            "outlinewidth": 0,
            "ticks": ""
           }
          },
          "colorscale": {
           "diverging": [
            [
             0,
             "#8e0152"
            ],
            [
             0.1,
             "#c51b7d"
            ],
            [
             0.2,
             "#de77ae"
            ],
            [
             0.3,
             "#f1b6da"
            ],
            [
             0.4,
             "#fde0ef"
            ],
            [
             0.5,
             "#f7f7f7"
            ],
            [
             0.6,
             "#e6f5d0"
            ],
            [
             0.7,
             "#b8e186"
            ],
            [
             0.8,
             "#7fbc41"
            ],
            [
             0.9,
             "#4d9221"
            ],
            [
             1,
             "#276419"
            ]
           ],
           "sequential": [
            [
             0,
             "#0d0887"
            ],
            [
             0.1111111111111111,
             "#46039f"
            ],
            [
             0.2222222222222222,
             "#7201a8"
            ],
            [
             0.3333333333333333,
             "#9c179e"
            ],
            [
             0.4444444444444444,
             "#bd3786"
            ],
            [
             0.5555555555555556,
             "#d8576b"
            ],
            [
             0.6666666666666666,
             "#ed7953"
            ],
            [
             0.7777777777777778,
             "#fb9f3a"
            ],
            [
             0.8888888888888888,
             "#fdca26"
            ],
            [
             1,
             "#f0f921"
            ]
           ],
           "sequentialminus": [
            [
             0,
             "#0d0887"
            ],
            [
             0.1111111111111111,
             "#46039f"
            ],
            [
             0.2222222222222222,
             "#7201a8"
            ],
            [
             0.3333333333333333,
             "#9c179e"
            ],
            [
             0.4444444444444444,
             "#bd3786"
            ],
            [
             0.5555555555555556,
             "#d8576b"
            ],
            [
             0.6666666666666666,
             "#ed7953"
            ],
            [
             0.7777777777777778,
             "#fb9f3a"
            ],
            [
             0.8888888888888888,
             "#fdca26"
            ],
            [
             1,
             "#f0f921"
            ]
           ]
          },
          "colorway": [
           "#636efa",
           "#EF553B",
           "#00cc96",
           "#ab63fa",
           "#FFA15A",
           "#19d3f3",
           "#FF6692",
           "#B6E880",
           "#FF97FF",
           "#FECB52"
          ],
          "font": {
           "color": "#2a3f5f"
          },
          "geo": {
           "bgcolor": "white",
           "lakecolor": "white",
           "landcolor": "white",
           "showlakes": true,
           "showland": true,
           "subunitcolor": "#C8D4E3"
          },
          "hoverlabel": {
           "align": "left"
          },
          "hovermode": "closest",
          "mapbox": {
           "style": "light"
          },
          "paper_bgcolor": "white",
          "plot_bgcolor": "white",
          "polar": {
           "angularaxis": {
            "gridcolor": "#EBF0F8",
            "linecolor": "#EBF0F8",
            "ticks": ""
           },
           "bgcolor": "white",
           "radialaxis": {
            "gridcolor": "#EBF0F8",
            "linecolor": "#EBF0F8",
            "ticks": ""
           }
          },
          "scene": {
           "xaxis": {
            "backgroundcolor": "white",
            "gridcolor": "#DFE8F3",
            "gridwidth": 2,
            "linecolor": "#EBF0F8",
            "showbackground": true,
            "ticks": "",
            "zerolinecolor": "#EBF0F8"
           },
           "yaxis": {
            "backgroundcolor": "white",
            "gridcolor": "#DFE8F3",
            "gridwidth": 2,
            "linecolor": "#EBF0F8",
            "showbackground": true,
            "ticks": "",
            "zerolinecolor": "#EBF0F8"
           },
           "zaxis": {
            "backgroundcolor": "white",
            "gridcolor": "#DFE8F3",
            "gridwidth": 2,
            "linecolor": "#EBF0F8",
            "showbackground": true,
            "ticks": "",
            "zerolinecolor": "#EBF0F8"
           }
          },
          "shapedefaults": {
           "line": {
            "color": "#2a3f5f"
           }
          },
          "ternary": {
           "aaxis": {
            "gridcolor": "#DFE8F3",
            "linecolor": "#A2B1C6",
            "ticks": ""
           },
           "baxis": {
            "gridcolor": "#DFE8F3",
            "linecolor": "#A2B1C6",
            "ticks": ""
           },
           "bgcolor": "white",
           "caxis": {
            "gridcolor": "#DFE8F3",
            "linecolor": "#A2B1C6",
            "ticks": ""
           }
          },
          "title": {
           "x": 0.05
          },
          "xaxis": {
           "automargin": true,
           "gridcolor": "#EBF0F8",
           "linecolor": "#EBF0F8",
           "ticks": "",
           "title": {
            "standoff": 15
           },
           "zerolinecolor": "#EBF0F8",
           "zerolinewidth": 2
          },
          "yaxis": {
           "automargin": true,
           "gridcolor": "#EBF0F8",
           "linecolor": "#EBF0F8",
           "ticks": "",
           "title": {
            "standoff": 15
           },
           "zerolinecolor": "#EBF0F8",
           "zerolinewidth": 2
          }
         }
        },
        "title": {
         "text": "3D визуализация: Площадь, Количество комнат и Цена"
        }
       }
      }
     },
     "metadata": {},
     "output_type": "display_data"
    }
   ],
   "source": [
    "# 3D scatter plot: цена vs площадь vs количество комнат\n",
    "fig_3d = px.scatter_3d(\n",
    "    df_clean.sample(min(1000, len(df_clean))),  # берем выборку для производительности\n",
    "    x='total_area',\n",
    "    y='rooms',\n",
    "    z='price',\n",
    "    color='district',\n",
    "    title='3D визуализация: Площадь, Количество комнат и Цена',\n",
    "    labels={\n",
    "        'total_area': 'Площадь (м²)',\n",
    "        'rooms': 'Количество комнат',\n",
    "        'price': 'Цена (грн)',\n",
    "        'district': 'Район'\n",
    "    },\n",
    "    height=700,\n",
    "    opacity=0.7\n",
    ")\n",
    "\n",
    "fig_3d.update_layout(template='plotly_white')\n",
    "fig_3d.show()"
   ]
  },
  {
   "cell_type": "code",
   "execution_count": 17,
   "id": "ec1be0ee",
   "metadata": {},
   "outputs": [
    {
     "data": {
      "application/vnd.plotly.v1+json": {
       "config": {
        "plotlyServerURL": "https://plot.ly"
       },
       "data": [
        {
         "alignmentgroup": "True",
         "box": {
          "visible": true
         },
         "hovertemplate": "Район=%{x}<br>Цена (грн)=%{y}<extra></extra>",
         "legendgroup": "Соборний",
         "marker": {
          "color": "#636efa"
         },
         "name": "Соборний",
         "offsetgroup": "Соборний",
         "orientation": "v",
         "points": "outliers",
         "scalegroup": "True",
         "showlegend": true,
         "type": "violin",
         "x": [
          "Соборний",
          "Соборний",
          "Соборний",
          "Соборний",
          "Соборний",
          "Соборний",
          "Соборний",
          "Соборний",
          "Соборний",
          "Соборний",
          "Соборний",
          "Соборний",
          "Соборний",
          "Соборний",
          "Соборний",
          "Соборний",
          "Соборний",
          "Соборний",
          "Соборний",
          "Соборний",
          "Соборний",
          "Соборний",
          "Соборний",
          "Соборний",
          "Соборний",
          "Соборний",
          "Соборний",
          "Соборний",
          "Соборний",
          "Соборний",
          "Соборний",
          "Соборний",
          "Соборний",
          "Соборний",
          "Соборний",
          "Соборний",
          "Соборний",
          "Соборний",
          "Соборний",
          "Соборний",
          "Соборний",
          "Соборний",
          "Соборний",
          "Соборний",
          "Соборний",
          "Соборний",
          "Соборний",
          "Соборний",
          "Соборний",
          "Соборний",
          "Соборний",
          "Соборний",
          "Соборний",
          "Соборний",
          "Соборний",
          "Соборний",
          "Соборний",
          "Соборний",
          "Соборний",
          "Соборний",
          "Соборний",
          "Соборний",
          "Соборний",
          "Соборний",
          "Соборний",
          "Соборний",
          "Соборний",
          "Соборний",
          "Соборний",
          "Соборний",
          "Соборний",
          "Соборний",
          "Соборний",
          "Соборний",
          "Соборний",
          "Соборний",
          "Соборний",
          "Соборний",
          "Соборний",
          "Соборний",
          "Соборний",
          "Соборний",
          "Соборний",
          "Соборний",
          "Соборний",
          "Соборний",
          "Соборний",
          "Соборний",
          "Соборний",
          "Соборний",
          "Соборний",
          "Соборний",
          "Соборний",
          "Соборний",
          "Соборний",
          "Соборний",
          "Соборний",
          "Соборний",
          "Соборний",
          "Соборний",
          "Соборний",
          "Соборний",
          "Соборний",
          "Соборний",
          "Соборний",
          "Соборний",
          "Соборний",
          "Соборний",
          "Соборний",
          "Соборний",
          "Соборний",
          "Соборний",
          "Соборний",
          "Соборний",
          "Соборний",
          "Соборний",
          "Соборний",
          "Соборний",
          "Соборний",
          "Соборний",
          "Соборний",
          "Соборний",
          "Соборний",
          "Соборний",
          "Соборний",
          "Соборний",
          "Соборний",
          "Соборний",
          "Соборний",
          "Соборний",
          "Соборний",
          "Соборний",
          "Соборний",
          "Соборний",
          "Соборний",
          "Соборний",
          "Соборний",
          "Соборний",
          "Соборний",
          "Соборний",
          "Соборний",
          "Соборний",
          "Соборний",
          "Соборний",
          "Соборний",
          "Соборний",
          "Соборний",
          "Соборний",
          "Соборний",
          "Соборний",
          "Соборний",
          "Соборний",
          "Соборний",
          "Соборний",
          "Соборний",
          "Соборний",
          "Соборний",
          "Соборний",
          "Соборний",
          "Соборний",
          "Соборний",
          "Соборний",
          "Соборний",
          "Соборний",
          "Соборний",
          "Соборний",
          "Соборний",
          "Соборний",
          "Соборний",
          "Соборний",
          "Соборний",
          "Соборний",
          "Соборний",
          "Соборний",
          "Соборний",
          "Соборний",
          "Соборний",
          "Соборний",
          "Соборний",
          "Соборний",
          "Соборний",
          "Соборний",
          "Соборний",
          "Соборний",
          "Соборний",
          "Соборний",
          "Соборний",
          "Соборний",
          "Соборний",
          "Соборний",
          "Соборний",
          "Соборний",
          "Соборний",
          "Соборний",
          "Соборний",
          "Соборний",
          "Соборний",
          "Соборний",
          "Соборний",
          "Соборний",
          "Соборний",
          "Соборний",
          "Соборний",
          "Соборний",
          "Соборний",
          "Соборний",
          "Соборний",
          "Соборний",
          "Соборний",
          "Соборний",
          "Соборний",
          "Соборний",
          "Соборний",
          "Соборний",
          "Соборний",
          "Соборний",
          "Соборний",
          "Соборний",
          "Соборний",
          "Соборний",
          "Соборний",
          "Соборний",
          "Соборний",
          "Соборний",
          "Соборний",
          "Соборний",
          "Соборний",
          "Соборний",
          "Соборний",
          "Соборний",
          "Соборний",
          "Соборний",
          "Соборний",
          "Соборний",
          "Соборний",
          "Соборний",
          "Соборний",
          "Соборний",
          "Соборний",
          "Соборний",
          "Соборний",
          "Соборний",
          "Соборний",
          "Соборний",
          "Соборний",
          "Соборний",
          "Соборний",
          "Соборний",
          "Соборний",
          "Соборний",
          "Соборний",
          "Соборний",
          "Соборний",
          "Соборний",
          "Соборний",
          "Соборний",
          "Соборний",
          "Соборний",
          "Соборний",
          "Соборний",
          "Соборний",
          "Соборний",
          "Соборний",
          "Соборний",
          "Соборний",
          "Соборний",
          "Соборний",
          "Соборний",
          "Соборний",
          "Соборний",
          "Соборний",
          "Соборний",
          "Соборний"
         ],
         "x0": " ",
         "xaxis": "x",
         "y": {
          "bdata": "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",
          "dtype": "f8"
         },
         "y0": " ",
         "yaxis": "y"
        },
        {
         "alignmentgroup": "True",
         "box": {
          "visible": true
         },
         "hovertemplate": "Район=%{x}<br>Цена (грн)=%{y}<extra></extra>",
         "legendgroup": "Шевченківський",
         "marker": {
          "color": "#EF553B"
         },
         "name": "Шевченківський",
         "offsetgroup": "Шевченківський",
         "orientation": "v",
         "points": "outliers",
         "scalegroup": "True",
         "showlegend": true,
         "type": "violin",
         "x": [
          "Шевченківський",
          "Шевченківський",
          "Шевченківський",
          "Шевченківський",
          "Шевченківський",
          "Шевченківський",
          "Шевченківський",
          "Шевченківський",
          "Шевченківський",
          "Шевченківський",
          "Шевченківський",
          "Шевченківський",
          "Шевченківський",
          "Шевченківський",
          "Шевченківський",
          "Шевченківський",
          "Шевченківський",
          "Шевченківський",
          "Шевченківський",
          "Шевченківський",
          "Шевченківський",
          "Шевченківський",
          "Шевченківський",
          "Шевченківський",
          "Шевченківський",
          "Шевченківський",
          "Шевченківський",
          "Шевченківський",
          "Шевченківський",
          "Шевченківський",
          "Шевченківський",
          "Шевченківський",
          "Шевченківський",
          "Шевченківський",
          "Шевченківський",
          "Шевченківський",
          "Шевченківський",
          "Шевченківський",
          "Шевченківський",
          "Шевченківський",
          "Шевченківський",
          "Шевченківський",
          "Шевченківський",
          "Шевченківський",
          "Шевченківський",
          "Шевченківський",
          "Шевченківський",
          "Шевченківський",
          "Шевченківський",
          "Шевченківський",
          "Шевченківський",
          "Шевченківський",
          "Шевченківський",
          "Шевченківський",
          "Шевченківський",
          "Шевченківський",
          "Шевченківський",
          "Шевченківський",
          "Шевченківський",
          "Шевченківський",
          "Шевченківський",
          "Шевченківський",
          "Шевченківський",
          "Шевченківський",
          "Шевченківський",
          "Шевченківський",
          "Шевченківський",
          "Шевченківський",
          "Шевченківський",
          "Шевченківський",
          "Шевченківський",
          "Шевченківський",
          "Шевченківський",
          "Шевченківський",
          "Шевченківський",
          "Шевченківський",
          "Шевченківський",
          "Шевченківський",
          "Шевченківський",
          "Шевченківський",
          "Шевченківський",
          "Шевченківський",
          "Шевченківський",
          "Шевченківський",
          "Шевченківський",
          "Шевченківський",
          "Шевченківський",
          "Шевченківський",
          "Шевченківський",
          "Шевченківський",
          "Шевченківський",
          "Шевченківський",
          "Шевченківський",
          "Шевченківський",
          "Шевченківський",
          "Шевченківський",
          "Шевченківський",
          "Шевченківський",
          "Шевченківський",
          "Шевченківський",
          "Шевченківський",
          "Шевченківський",
          "Шевченківський",
          "Шевченківський",
          "Шевченківський",
          "Шевченківський",
          "Шевченківський",
          "Шевченківський",
          "Шевченківський",
          "Шевченківський",
          "Шевченківський",
          "Шевченківський",
          "Шевченківський",
          "Шевченківський",
          "Шевченківський",
          "Шевченківський",
          "Шевченківський",
          "Шевченківський",
          "Шевченківський",
          "Шевченківський",
          "Шевченківський",
          "Шевченківський",
          "Шевченківський",
          "Шевченківський",
          "Шевченківський",
          "Шевченківський",
          "Шевченківський",
          "Шевченківський",
          "Шевченківський",
          "Шевченківський",
          "Шевченківський",
          "Шевченківський",
          "Шевченківський",
          "Шевченківський",
          "Шевченківський",
          "Шевченківський",
          "Шевченківський",
          "Шевченківський",
          "Шевченківський",
          "Шевченківський",
          "Шевченківський",
          "Шевченківський",
          "Шевченківський",
          "Шевченківський",
          "Шевченківський"
         ],
         "x0": " ",
         "xaxis": "x",
         "y": {
          "bdata": "AAAAAABkyUAAAAAAAJrQQAAAAAAATL1AAAAAAACI00AAAAAAAFi7QAAAAAAAQL9AAAAAAABkyUAAAAAAAIjDQAAAAAAAiMNAAAAAAABwx0AAAAAAAFjLQAAAAAAgMOhAAAAAAABkyUAAAAAAAPLCQAAAAACAS81AAAAAAAB81UAAAAAAAOi8QAAAAAAgKORAAAAAAACI00AAAAAAAB3gQAAAAAAAathAAAAAAAB81UAAAAAAAHDHQAAAAAAAQM9AAAAAAABq2EAAAAAAAFjLQAAAAAAAlNFAAAAAAAB8tUAAAAAAAGTJQAAAAAAAcLdAAAAAAABwx0AAAAAAAFi7QAAAAAAAiMNAAAAAAACawEAAAAAAAJTBQAAAAAAAlMFAAAAAAACIw0AAAAAAAFjLQAAAAAAAfLVAAAAAAABwt0AAAAAAAJTBQAAAAAAAlMFAAAAAAABq2EAAAAAAAEzdQAAAAAAAgsRAAAAAAABMzUAAAAAAAMi5QAAAAAAAfMVAAAAAAACIw0AAAAAAAIizQAAAAAAAQL9AAAAAAABYu0AAAAAAAGTJQAAAAAAAjsJAAAAAAACa0EAAAAAAAJTBQAAAAAAAashAAAAAAABkuUAAAAAAAIjTQAAAAAAAZMlAAAAAAACIw0AAAAAAAJrAQAAAAAAAcMdAAAAAAABw10AAAAAAAEDPQAAAAAAAQK9AAAAAAABkyUAAAAAAAPLCQAAAAAAAiMNAAAAAAACUwUAAAAAAAJTBQAAAAAAAfNVAAAAAAABAv0AAAAAAAGTJQAAAAAAAZMlAAAAAAACIw0AAAAAAAJTBQAAAAAAAgsRAAAAAAACUwUAAAAAAAJTRQAAAAAAAQL9AAAAAAABMzUAAAAAAAF7KQAAAAAAAWMtAAAAAAACIw0AAAAAAAFjLQAAAAAAAgsRAAAAAAAB8tUAAAAAAAADJQAAAAAAAcMdAAAAAAABGzkAAAAAAAFjLQAAAAAAAmtBAAAAAACAg4EAAAAAAAEDPQAAAAAAAHdBAAAAAAABAv0AAAAAAAI7SQAAAAAAATM1AAAAAAABwx0AAAAAAAEDPQAAAAAAAmsBAAAAAAABSzEAAAAAAAHDHQAAAAAAAWNtAAAAAAACI00AAAAAAAB3QQAAAAAAgMOhAAAAAAACIw0AAAAAAAFi7QAAAAAAAiMNAAAAAAABMzUAAAAAAAI7CQAAAAAAAlMFAAAAAAABMzUAAAAAAAFi7QAAAAAAATM1AAAAAAACawEAAAAAAAGTZQAAAAAAATL1AAAAAAACUwUAAAAAAAHbGQAAAAAAAlMFAAAAAACAg4EAAAAAAAILEQAAAAAAAQL9AAAAAAABYu0AAAAAAAF7KQAAAAAAABdRAAAAAAACUwUAAAAAAAHDHQAAAAAAAQM9AAAAAAABAv0AAAAAAAEzdQAAAAAAAmtBAAAAAAABAv0AAAAAAAIjTQAAAAAAAlNFAAAAAAACIw0AAAAAAAGTJQAAAAAAAcMdAAAAAAABwx0AAAAAAAJTBQAAAAAAAZMlAAAAAAABwx0A=",
          "dtype": "f8"
         },
         "y0": " ",
         "yaxis": "y"
        },
        {
         "alignmentgroup": "True",
         "box": {
          "visible": true
         },
         "hovertemplate": "Район=%{x}<br>Цена (грн)=%{y}<extra></extra>",
         "legendgroup": "Амур-Нижньодніпровський",
         "marker": {
          "color": "#00cc96"
         },
         "name": "Амур-Нижньодніпровський",
         "offsetgroup": "Амур-Нижньодніпровський",
         "orientation": "v",
         "points": "outliers",
         "scalegroup": "True",
         "showlegend": true,
         "type": "violin",
         "x": [
          "Амур-Нижньодніпровський",
          "Амур-Нижньодніпровський",
          "Амур-Нижньодніпровський",
          "Амур-Нижньодніпровський",
          "Амур-Нижньодніпровський",
          "Амур-Нижньодніпровський",
          "Амур-Нижньодніпровський",
          "Амур-Нижньодніпровський",
          "Амур-Нижньодніпровський",
          "Амур-Нижньодніпровський",
          "Амур-Нижньодніпровський",
          "Амур-Нижньодніпровський",
          "Амур-Нижньодніпровський",
          "Амур-Нижньодніпровський",
          "Амур-Нижньодніпровський",
          "Амур-Нижньодніпровський",
          "Амур-Нижньодніпровський",
          "Амур-Нижньодніпровський",
          "Амур-Нижньодніпровський",
          "Амур-Нижньодніпровський",
          "Амур-Нижньодніпровський",
          "Амур-Нижньодніпровський",
          "Амур-Нижньодніпровський",
          "Амур-Нижньодніпровський",
          "Амур-Нижньодніпровський",
          "Амур-Нижньодніпровський",
          "Амур-Нижньодніпровський",
          "Амур-Нижньодніпровський",
          "Амур-Нижньодніпровський",
          "Амур-Нижньодніпровський",
          "Амур-Нижньодніпровський",
          "Амур-Нижньодніпровський",
          "Амур-Нижньодніпровський",
          "Амур-Нижньодніпровський",
          "Амур-Нижньодніпровський",
          "Амур-Нижньодніпровський",
          "Амур-Нижньодніпровський",
          "Амур-Нижньодніпровський",
          "Амур-Нижньодніпровський",
          "Амур-Нижньодніпровський",
          "Амур-Нижньодніпровський",
          "Амур-Нижньодніпровський",
          "Амур-Нижньодніпровський",
          "Амур-Нижньодніпровський",
          "Амур-Нижньодніпровський",
          "Амур-Нижньодніпровський",
          "Амур-Нижньодніпровський",
          "Амур-Нижньодніпровський",
          "Амур-Нижньодніпровський",
          "Амур-Нижньодніпровський",
          "Амур-Нижньодніпровський",
          "Амур-Нижньодніпровський",
          "Амур-Нижньодніпровський",
          "Амур-Нижньодніпровський",
          "Амур-Нижньодніпровський",
          "Амур-Нижньодніпровський",
          "Амур-Нижньодніпровський",
          "Амур-Нижньодніпровський",
          "Амур-Нижньодніпровський",
          "Амур-Нижньодніпровський",
          "Амур-Нижньодніпровський",
          "Амур-Нижньодніпровський",
          "Амур-Нижньодніпровський",
          "Амур-Нижньодніпровський",
          "Амур-Нижньодніпровський",
          "Амур-Нижньодніпровський",
          "Амур-Нижньодніпровський",
          "Амур-Нижньодніпровський",
          "Амур-Нижньодніпровський",
          "Амур-Нижньодніпровський"
         ],
         "x0": " ",
         "xaxis": "x",
         "y": {
          "bdata": "AAAAAAD55UAAAAAAAPnlQAAAAAAAiMNAAAAAAACU0UAAAAAAAJTRQAAAAAAAWMtAAAAAAABYy0AAAAAAAHbGQAAAAAAAcMdAAAAAAACO0kAAAAAAAIjDQAAAAAAAiMNAAAAAAACIw0AAAAAAAIjDQAAAAAAAcMdAAAAAAABwt0AAAAAAAHDHQAAAAAAAlMFAAAAAAACIw0AAAAAAAFjLQAAAAAAAcMdAAAAAAABkyUAAAAAAAIjDQAAAAAAAiMNAAAAAAACOwkAAAAAAAFi7QAAAAAAAyKlAAAAAAACU0UAAAAAAAIjDQAAAAAAAiMNAAAAAAAB8xUAAAAAAAGS5QAAAAAAAlMFAAAAAAABYy0AAAAAAAFjLQAAAAAAAQL9AAAAAAACUwUAAAAAAAGTJQAAAAAAAWMtAAAAAAACU0UAAAAAAAI7CQAAAAAAAgsRAAAAAAACCxEAAAAAAAJTBQAAAAAAAjtJAAAAAAACOwkAAAAAAAFi7QAAAAAAAF9FAAAAAAABkyUAAAAAAAHy1QAAAAAAAjsJAAAAAAABSzEAAAAAAAGTJQAAAAAAAZMlAAAAAAAB8xUAAAAAAAIjDQAAAAAAAfMVAAAAAAABwx0AAAAAAAFi7QAAAAAAAgsRAAAAAAACOwkAAAAAAAIjTQAAAAAAAlMFAAAAAAACIw0AAAAAAAGTJQAAAAAAATL1AAAAAAABYy0AAAAAAAEy9QAAAAAAAmsBAAAAAAACI00A=",
          "dtype": "f8"
         },
         "y0": " ",
         "yaxis": "y"
        },
        {
         "alignmentgroup": "True",
         "box": {
          "visible": true
         },
         "hovertemplate": "Район=%{x}<br>Цена (грн)=%{y}<extra></extra>",
         "legendgroup": "Самарський",
         "marker": {
          "color": "#ab63fa"
         },
         "name": "Самарський",
         "offsetgroup": "Самарський",
         "orientation": "v",
         "points": "outliers",
         "scalegroup": "True",
         "showlegend": true,
         "type": "violin",
         "x": [
          "Самарський",
          "Самарський",
          "Самарський",
          "Самарський",
          "Самарський",
          "Самарський",
          "Самарський",
          "Самарський",
          "Самарський",
          "Самарський",
          "Самарський",
          "Самарський",
          "Самарський",
          "Самарський",
          "Самарський",
          "Самарський",
          "Самарський",
          "Самарський",
          "Самарський",
          "Самарський",
          "Самарський",
          "Самарський",
          "Самарський"
         ],
         "x0": " ",
         "xaxis": "x",
         "y": {
          "bdata": "AAAAAABYu0AAAAAAAEC/QAAAAAAAashAAAAAAACcuEAAAAAAAFLMQAAAAAAAcLdAAAAAAABkuUAAAAAAAHC3QAAAAAAA+dVAAAAAAABYu0AAAAAAAHDHQAAAAAAAQL9AAAAAAAB8tUAAAAAAAHC3QAAAAAAAjsJAAAAAAABYu0AAAAAAAHzFQAAAAAAAiMNAAAAAAABkuUAAAAAAAEC/QAAAAAAAQL9AAAAAAABAv0AAAAAAAJTBQA==",
          "dtype": "f8"
         },
         "y0": " ",
         "yaxis": "y"
        },
        {
         "alignmentgroup": "True",
         "box": {
          "visible": true
         },
         "hovertemplate": "Район=%{x}<br>Цена (грн)=%{y}<extra></extra>",
         "legendgroup": "Чечелівський",
         "marker": {
          "color": "#FFA15A"
         },
         "name": "Чечелівський",
         "offsetgroup": "Чечелівський",
         "orientation": "v",
         "points": "outliers",
         "scalegroup": "True",
         "showlegend": true,
         "type": "violin",
         "x": [
          "Чечелівський",
          "Чечелівський",
          "Чечелівський",
          "Чечелівський",
          "Чечелівський",
          "Чечелівський",
          "Чечелівський",
          "Чечелівський",
          "Чечелівський",
          "Чечелівський",
          "Чечелівський",
          "Чечелівський",
          "Чечелівський",
          "Чечелівський",
          "Чечелівський",
          "Чечелівський",
          "Чечелівський",
          "Чечелівський",
          "Чечелівський",
          "Чечелівський",
          "Чечелівський",
          "Чечелівський",
          "Чечелівський",
          "Чечелівський",
          "Чечелівський",
          "Чечелівський",
          "Чечелівський",
          "Чечелівський",
          "Чечелівський",
          "Чечелівський",
          "Чечелівський",
          "Чечелівський",
          "Чечелівський",
          "Чечелівський",
          "Чечелівський",
          "Чечелівський",
          "Чечелівський",
          "Чечелівський",
          "Чечелівський",
          "Чечелівський",
          "Чечелівський",
          "Чечелівський",
          "Чечелівський",
          "Чечелівський",
          "Чечелівський",
          "Чечелівський",
          "Чечелівський",
          "Чечелівський",
          "Чечелівський",
          "Чечелівський",
          "Чечелівський",
          "Чечелівський",
          "Чечелівський",
          "Чечелівський",
          "Чечелівський",
          "Чечелівський",
          "Чечелівський",
          "Чечелівський",
          "Чечелівський",
          "Чечелівський",
          "Чечелівський",
          "Чечелівський",
          "Чечелівський",
          "Чечелівський",
          "Чечелівський",
          "Чечелівський",
          "Чечелівський",
          "Чечелівський",
          "Чечелівський",
          "Чечелівський",
          "Чечелівський",
          "Чечелівський",
          "Чечелівський",
          "Чечелівський",
          "Чечелівський",
          "Чечелівський",
          "Чечелівський"
         ],
         "x0": " ",
         "xaxis": "x",
         "y": {
          "bdata": "AAAAAABM3UAAAAAAAIjDQAAAAAAAmsBAAAAAAABwx0AAAAAAAEC/QAAAAAAAlNFAAAAAAAAd0EAAAAAAAIjDQAAAAAAAfNVAAAAAAACIw0AAAAAAAEC/QAAAAAAAZMlAAAAAAAB8xUAAAAAAAEC/QAAAAAAAdsZAAAAAAACC1EAAAAAAAHDHQAAAAAAAWMtAAAAAAABYu0AAAAAAAEC/QAAAAAAAathAAAAAAACUwUAAAAAAAIjDQAAAAAAAdsZAAAAAAACOwkAAAAAAAJrAQAAAAAAAjsJAAAAAAABAz0AAAAAAAFi7QAAAAAAAWMtAAAAAAABYu0AAAAAAAEC/QAAAAAAAfMVAAAAAAACOwkAAAAAAAILEQAAAAAAAjsJAAAAAAACawEAAAAAAAIjDQAAAAAAAUsxAAAAAAACIw0AAAAAAAIjDQAAAAAAAQL9AAAAAAACOwkAAAAAAAFi7QAAAAAAAiNNAAAAAAABAv0AAAAAAAJTBQAAAAAAAZMlAAAAAAAB2xkAAAAAAAHDHQAAAAAAAQM9AAAAAAABYu0AAAAAAAHDHQAAAAAAAjsJAAAAAAACOwkAAAAAAAFjLQAAAAAAAdsZAAAAAAABkyUAAAAAAAHDHQAAAAAAATM1AAAAAAABMzUAAAAAAAF7KQAAAAAAAmsBAAAAAAABqyEAAAAAAAFjLQAAAAAAAiMNAAAAAAACIw0AAAAAAAHzFQAAAAAAAiNNAAAAAAABi0UAAAAAAAHDHQAAAAAAATM1AAAAAAABYy0AAAAAAAFi7QAAAAACAh8NAAAAAAAB2xkAAAAAAAFi7QA==",
          "dtype": "f8"
         },
         "y0": " ",
         "yaxis": "y"
        },
        {
         "alignmentgroup": "True",
         "box": {
          "visible": true
         },
         "hovertemplate": "Район=%{x}<br>Цена (грн)=%{y}<extra></extra>",
         "legendgroup": "Центральний",
         "marker": {
          "color": "#19d3f3"
         },
         "name": "Центральний",
         "offsetgroup": "Центральний",
         "orientation": "v",
         "points": "outliers",
         "scalegroup": "True",
         "showlegend": true,
         "type": "violin",
         "x": [
          "Центральний",
          "Центральний",
          "Центральний",
          "Центральний",
          "Центральний",
          "Центральний",
          "Центральний",
          "Центральний",
          "Центральний",
          "Центральний",
          "Центральний",
          "Центральний",
          "Центральний",
          "Центральний",
          "Центральний",
          "Центральний",
          "Центральний",
          "Центральний",
          "Центральний",
          "Центральний",
          "Центральний",
          "Центральний",
          "Центральний",
          "Центральний",
          "Центральний",
          "Центральний",
          "Центральний",
          "Центральний",
          "Центральний",
          "Центральний",
          "Центральний",
          "Центральний",
          "Центральний",
          "Центральний",
          "Центральний",
          "Центральний",
          "Центральний",
          "Центральний",
          "Центральний",
          "Центральний",
          "Центральний",
          "Центральний",
          "Центральний",
          "Центральний",
          "Центральний",
          "Центральний",
          "Центральний",
          "Центральний",
          "Центральний",
          "Центральний",
          "Центральний",
          "Центральний",
          "Центральний",
          "Центральний",
          "Центральний",
          "Центральний",
          "Центральний",
          "Центральний",
          "Центральний",
          "Центральний",
          "Центральний",
          "Центральний",
          "Центральний",
          "Центральний",
          "Центральний",
          "Центральний",
          "Центральний",
          "Центральний",
          "Центральний",
          "Центральний",
          "Центральний",
          "Центральний",
          "Центральний",
          "Центральний",
          "Центральний",
          "Центральний",
          "Центральний",
          "Центральний",
          "Центральний",
          "Центральний",
          "Центральний",
          "Центральний",
          "Центральний",
          "Центральний",
          "Центральний",
          "Центральний",
          "Центральний",
          "Центральний",
          "Центральний",
          "Центральний",
          "Центральний",
          "Центральний",
          "Центральний",
          "Центральний",
          "Центральний",
          "Центральний",
          "Центральний",
          "Центральний",
          "Центральний",
          "Центральний",
          "Центральний",
          "Центральний",
          "Центральний",
          "Центральний",
          "Центральний",
          "Центральний",
          "Центральний",
          "Центральний",
          "Центральний",
          "Центральний",
          "Центральний",
          "Центральний",
          "Центральний",
          "Центральний",
          "Центральний",
          "Центральний",
          "Центральний",
          "Центральний",
          "Центральний",
          "Центральний",
          "Центральний",
          "Центральний",
          "Центральний",
          "Центральний",
          "Центральний",
          "Центральний",
          "Центральний",
          "Центральний",
          "Центральний",
          "Центральний",
          "Центральний",
          "Центральний",
          "Центральний",
          "Центральний",
          "Центральний",
          "Центральний",
          "Центральний",
          "Центральний",
          "Центральний",
          "Центральний",
          "Центральний",
          "Центральний",
          "Центральний",
          "Центральний",
          "Центральний",
          "Центральний",
          "Центральний",
          "Центральний",
          "Центральний",
          "Центральний",
          "Центральний",
          "Центральний",
          "Центральний",
          "Центральний",
          "Центральний",
          "Центральний",
          "Центральний",
          "Центральний",
          "Центральний",
          "Центральний",
          "Центральний",
          "Центральний",
          "Центральний",
          "Центральний",
          "Центральний",
          "Центральний",
          "Центральний",
          "Центральний",
          "Центральний",
          "Центральний",
          "Центральний",
          "Центральний",
          "Центральний",
          "Центральний",
          "Центральний",
          "Центральний",
          "Центральний",
          "Центральний",
          "Центральний",
          "Центральний",
          "Центральний",
          "Центральний",
          "Центральний",
          "Центральний",
          "Центральний",
          "Центральний",
          "Центральний",
          "Центральний",
          "Центральний",
          "Центральний",
          "Центральний",
          "Центральний",
          "Центральний",
          "Центральний",
          "Центральний",
          "Центральний",
          "Центральний",
          "Центральний",
          "Центральний",
          "Центральний",
          "Центральний",
          "Центральний",
          "Центральний",
          "Центральний",
          "Центральний",
          "Центральний",
          "Центральний",
          "Центральний",
          "Центральний",
          "Центральний",
          "Центральний",
          "Центральний",
          "Центральний",
          "Центральний",
          "Центральний",
          "Центральний",
          "Центральний",
          "Центральний",
          "Центральний",
          "Центральний",
          "Центральний",
          "Центральний",
          "Центральний",
          "Центральний",
          "Центральний",
          "Центральний",
          "Центральний",
          "Центральний",
          "Центральний",
          "Центральний",
          "Центральний",
          "Центральний",
          "Центральний",
          "Центральний",
          "Центральний",
          "Центральний",
          "Центральний",
          "Центральний",
          "Центральний",
          "Центральний",
          "Центральний",
          "Центральний",
          "Центральний",
          "Центральний",
          "Центральний",
          "Центральний",
          "Центральний",
          "Центральний"
         ],
         "x0": " ",
         "xaxis": "x",
         "y": {
          "bdata": "AAAAAABAz0AAAAAAAJTRQAAAAAAAlNFAAAAAAABYy0AAAAAAAIjTQAAAAAAAathAAAAAAABYy0AAAAAAAFLMQAAAAAAA4dlAAAAAAACUwUAAAAAAAEzNQAAAAAAAcMdAAAAAAACa0EAAAAAAAEzdQAAAAAAAathAAAAAAABMzUAAAAAAAJrQQAAAAAAAZMlAAAAAAACawEAAAAAAAIjTQAAAAAAATM1AAAAAAADh2UAAAAAAAGrYQAAAAAAAXtpAAAAAAABYy0AAAAAAAIS8QAAAAABAOOxAAAAAAABe2kAAAAAAAJrQQAAAAACAe8VAAAAAAABMzUAAAAAAAIjDQAAAAAAAdtZAAAAAAACIw0AAAAAAAEzNQAAAAAAAZLlAAAAAAABAv0AAAAAAAJTBQAAAAAAAiMNAAAAAAABMzUAAAAAAAHDHQAAAAAAAWMtAAAAAAACUwUAAAAAAAIjTQAAAAAAAWMtAAAAAAAB8xUAAAAAAAEzNQAAAAAAATM1AAAAAAABAz0AAAAAAAEzNQAAAAAAAcMdAAAAAAAB8xUAAAAAAAIjDQAAAAAAAfMVAAAAAAABAv0AAAAAAAJTBQAAAAAAAQL9AAAAAAACOwkAAAAAAAEDPQAAAAAAAiMNAAAAAAABkyUAAAAAAACvWQAAAAAAAdsZAAAAAAABAv0AAAAAAAHzFQAAAAAAAiMNAAAAAAABkyUAAAAAAAEzNQAAAAAAATL1AAAAAAABwt0AAAAAAAGrIQAAAAAAAQK9AAAAAAABYy0AAAAAAAJrQQAAAAAAAWMtAAAAAAACa0EAAAAAAAEzNQAAAAAAAlMFAAAAAAACOwkAAAAAAAFi7QAAAAAAAcMdAAAAAAABkyUAAAAAAAEzNQAAAAAAAQM9AAAAAAABwx0AAAAAAAEzNQAAAAAAAZMlAAAAAAACIw0AAAAAAAIjDQAAAAAAAcMdAAAAAAABYy0AAAAAAAEDPQAAAAAAAfMVAAAAAAACOwkAAAAAAAGrIQAAAAAAAcMdAAAAAAABAz0AAAAAAAEDPQAAAAAAAmsBAAAAAAACO0kAAAAAAAFjbQAAAAAAAathAAAAAAABYu0AAAAAAAHDHQAAAAAAAcLdAAAAAAABYy0AAAAAAAEDPQAAAAAAAjtJAAAAAAAAL00AAAAAAAHDHQAAAAAAAcLdAAAAAAABAz0AAAAAAAJTBQAAAAAAAXspAAAAAAABYy0AAAAAAAHbGQAAAAAAAjsJAAAAAAABkuUAAAAAAAEzNQAAAAAAATM1AAAAAAACIw0AAAAAAAFjLQAAAAAAAmtBAAAAAAABkyUAAAAAAAGTJQAAAAAAAdsZAAAAAAACUwUAAAAAAAJrAQAAAAAAAWMtAAAAAAABkyUAAAAAAAILUQAAAAAAAcMdAAAAAAABkyUAAAAAAABHSQAAAAAAAfMVAAAAAAACUwUAAAAAAAHzFQAAAAAAAUsxAAAAAAABkyUAAAAAAAHzFQAAAAAAAiMNAAAAAAABwx0AAAAAAAI7CQAAAAAAAfNVAAAAAAABwx0AAAAAAAEzNQAAAAAAATM1AAAAAAABwt0AAAAAAAJTRQAAAAAAAcNdAAAAAAABkyUAAAAAAAHDHQAAAAAAAathAAAAAAACCxEAAAAAAAEzNQAAAAAAAcMdAAAAAAAB2xkAAAAAAAI7CQAAAAAAAlMFAAAAAAAAd0EAAAAAAAIjTQAAAAAAAXspAAAAAAABM3UAAAAAAAHDXQAAAAAAAdsZAAAAAAACIw0AAAAAAAIjDQAAAAAAAQM9AAAAAAAB8xUAAAAAAAIjTQAAAAAAAfMVAAAAAAACawEAAAAAAAGrYQAAAAAAAdtZAAAAAAACO0kAAAAAAAEDPQAAAAAAAcNdAAAAAAACU0UAAAAAAAGrIQAAAAAAAfMVAAAAAAACI00AAAAAAAHDHQAAAAAAATM1AAAAAAABq2EAAAAAAAEC/QAAAAAAAlMFAAAAAAABwx0AAAAAAAGTJQAAAAADAh9NAAAAAAABwx0AAAAAAAGTJQAAAAAAATM1AAAAAAABYy0AAAAAAAGTJQAAAAAAAcNdAAAAAAAB2xkAAAAAAAIjDQAAAAAAAWMtAAAAAAABwx0AAAAAAAEzNQAAAAAAAiLNAAAAAAAB2xkAAAAAAAI7SQAAAAAAAcMdAAAAAAACUwUAAAAAAAFjLQAAAAAAAcMdAAAAAAABwx0AAAAAAACDQQAAAAABAPO5AAAAAAACIw0AAAAAAAGTJQAAAAAAAiNNAAAAAAABAv0AAAAAAAHDHQAAAAABAONxAAAAAAACa0EAAAAAAICDgQAAAAAAAlNFAAAAAAAB81UAAAAAAAGrIQAAAAAAAZMlAAAAAAABe2kAAAAAAAEDPQAAAAAAAfMVAAAAAAABYu0AAAAAAAEzdQAAAAAAAcMdAAAAAAACIw0AAAAAAABHSQAAAAAAAfMVAAAAAAABAz0AAAAAAAFi7QAAAAAAgIOBAAAAAAABM3UAAAAAAAGTJQAAAAAAAiMNAAAAAAABwx0AAAAAAAHzFQAAAAACAe8VAAAAAAIB7xUAAAAAAAHDHQAAAAAAAdsZAAAAAAACU0UAAAAAAAIjDQAAAAAAAlNFAAAAAAABk2UAAAAAAAEC/QA==",
          "dtype": "f8"
         },
         "y0": " ",
         "yaxis": "y"
        },
        {
         "alignmentgroup": "True",
         "box": {
          "visible": true
         },
         "hovertemplate": "Район=%{x}<br>Цена (грн)=%{y}<extra></extra>",
         "legendgroup": "Індустріальний",
         "marker": {
          "color": "#FF6692"
         },
         "name": "Індустріальний",
         "offsetgroup": "Індустріальний",
         "orientation": "v",
         "points": "outliers",
         "scalegroup": "True",
         "showlegend": true,
         "type": "violin",
         "x": [
          "Індустріальний",
          "Індустріальний",
          "Індустріальний",
          "Індустріальний",
          "Індустріальний",
          "Індустріальний",
          "Індустріальний",
          "Індустріальний",
          "Індустріальний",
          "Індустріальний",
          "Індустріальний",
          "Індустріальний",
          "Індустріальний",
          "Індустріальний",
          "Індустріальний",
          "Індустріальний",
          "Індустріальний",
          "Індустріальний",
          "Індустріальний",
          "Індустріальний",
          "Індустріальний",
          "Індустріальний",
          "Індустріальний",
          "Індустріальний",
          "Індустріальний",
          "Індустріальний",
          "Індустріальний",
          "Індустріальний",
          "Індустріальний",
          "Індустріальний",
          "Індустріальний",
          "Індустріальний",
          "Індустріальний",
          "Індустріальний",
          "Індустріальний",
          "Індустріальний",
          "Індустріальний",
          "Індустріальний",
          "Індустріальний",
          "Індустріальний",
          "Індустріальний",
          "Індустріальний",
          "Індустріальний",
          "Індустріальний",
          "Індустріальний",
          "Індустріальний",
          "Індустріальний",
          "Індустріальний",
          "Індустріальний",
          "Індустріальний",
          "Індустріальний",
          "Індустріальний",
          "Індустріальний",
          "Індустріальний",
          "Індустріальний",
          "Індустріальний",
          "Індустріальний",
          "Індустріальний",
          "Індустріальний",
          "Індустріальний",
          "Індустріальний",
          "Індустріальний",
          "Індустріальний",
          "Індустріальний",
          "Індустріальний",
          "Індустріальний",
          "Індустріальний",
          "Індустріальний",
          "Індустріальний",
          "Індустріальний",
          "Індустріальний",
          "Індустріальний",
          "Індустріальний",
          "Індустріальний",
          "Індустріальний",
          "Індустріальний",
          "Індустріальний",
          "Індустріальний",
          "Індустріальний",
          "Індустріальний",
          "Індустріальний",
          "Індустріальний",
          "Індустріальний",
          "Індустріальний",
          "Індустріальний",
          "Індустріальний",
          "Індустріальний",
          "Індустріальний",
          "Індустріальний",
          "Індустріальний",
          "Індустріальний",
          "Індустріальний",
          "Індустріальний",
          "Індустріальний",
          "Індустріальний",
          "Індустріальний",
          "Індустріальний",
          "Індустріальний",
          "Індустріальний",
          "Індустріальний",
          "Індустріальний",
          "Індустріальний",
          "Індустріальний",
          "Індустріальний",
          "Індустріальний",
          "Індустріальний",
          "Індустріальний",
          "Індустріальний",
          "Індустріальний",
          "Індустріальний",
          "Індустріальний",
          "Індустріальний",
          "Індустріальний",
          "Індустріальний",
          "Індустріальний",
          "Індустріальний",
          "Індустріальний",
          "Індустріальний",
          "Індустріальний",
          "Індустріальний",
          "Індустріальний",
          "Індустріальний",
          "Індустріальний",
          "Індустріальний",
          "Індустріальний",
          "Індустріальний",
          "Індустріальний",
          "Індустріальний",
          "Індустріальний",
          "Індустріальний",
          "Індустріальний",
          "Індустріальний",
          "Індустріальний",
          "Індустріальний",
          "Індустріальний",
          "Індустріальний",
          "Індустріальний",
          "Індустріальний",
          "Індустріальний",
          "Індустріальний",
          "Індустріальний",
          "Індустріальний",
          "Індустріальний",
          "Індустріальний",
          "Індустріальний",
          "Індустріальний",
          "Індустріальний",
          "Індустріальний",
          "Індустріальний",
          "Індустріальний",
          "Індустріальний",
          "Індустріальний",
          "Індустріальний",
          "Індустріальний",
          "Індустріальний",
          "Індустріальний",
          "Індустріальний",
          "Індустріальний",
          "Індустріальний",
          "Індустріальний",
          "Індустріальний",
          "Індустріальний",
          "Індустріальний",
          "Індустріальний",
          "Індустріальний",
          "Індустріальний"
         ],
         "x0": " ",
         "xaxis": "x",
         "y": {
          "bdata": "AAAAAABAv0AAAAAAAJTRQAAAAAAAQL9AAAAAAABMvUAAAAAAAIjTQAAAAAAAiMNAAAAAAACI00AAAAAAAHzFQAAAAAAAashAAAAAAABMzUAAAAAAAHDHQAAAAAAAiMNAAAAAAAB81UAAAAAAAIjDQAAAAAAAcMdAAAAAAABwx0AAAAAAAHzFQAAAAAAAfMVAAAAAAABAv0AAAAAAAJTBQAAAAAAAlMFAAAAAAACUwUAAAAAAAJTBQAAAAAAAlMFAAAAAAABkyUAAAAAAAIjTQAAAAAAAWMtAAAAAAACUwUAAAAAAAFi7QAAAAAAAlMFAAAAAAABYu0AAAAAAAEy9QAAAAAAAiMNAAAAAAABAv0AAAAAAAIjDQAAAAAAAiMNAAAAAAABwx0AAAAAAAJTBQAAAAAAAfLVAAAAAAABGzkAAAAAAAHC3QAAAAAAAcMdAAAAAAABwx0AAAAAAAEy9QAAAAAAAjsJAAAAAAACawEAAAAAAAIjDQAAAAAAAcMdAAAAAAACa0EAAAAAAAFbTQAAAAAAAfMVAAAAAAABYu0AAAAAAAHzFQAAAAAAAWMtAAAAAAAAX0UAAAAAAAIjDQAAAAAAATL1AAAAAAABwx0AAAAAAAHzFQAAAAAAAiMNAAAAAAACawEAAAAAAAEDPQAAAAAAAlMFAAAAAAABAv0AAAAAAAHDHQAAAAAAAashAAAAAAABwx0AAAAAAAEDPQAAAAAAAWLtAAAAAAABwx0AAAAAAAIjDQAAAAAAAiLNAAAAAAABYy0AAAAAAAI7CQAAAAAAAfMVAAAAAAABYu0AAAAAAAI7CQAAAAAAAZMlAAAAAAABAv0AAAAAAAHbGQAAAAAAAcMdAAAAAAABkyUAAAAAAAFi7QAAAAAAAQL9AAAAAAACUwUAAAAAAAFi7QAAAAAAATL1AAAAAAABwx0AAAAAAwIfTQAAAAAAAQL9AAAAAAABYu0AAAAAAAGrIQAAAAAAAQL9AAAAAAACUwUAAAAAAAJrAQAAAAAAAZMlAAAAAAACOwkAAAAAAAJrAQAAAAAAAdsZAAAAAAABwx0AAAAAAAHDHQAAAAAAAfMVAAAAAAABYu0AAAAAAAEzNQAAAAAAAjsJAAAAAAACawEAAAAAAACbLQAAAAAAAQL9AAAAAAACUwUAAAAAAAHC3QAAAAAAAXspAAAAAAACO0kAAAAAAAGrIQAAAAAAAWMtAAAAAAABkyUAAAAAAgGPJQAAAAAAAlNFAAAAAAACUwUAAAAAAABHSQAAAAAAAfMVAAAAAAABYy0AAAAAAAEDPQAAAAAAAXspAAAAAAABkyUAAAAAAAEzNQAAAAAAAlMFAAAAAAABwx0AAAAAAAIjDQAAAAAAAhLxAAAAAAAAX0UAAAAAAAGTJQAAAAAAAfMVAAAAAAABwx0AAAAAAAIjDQAAAAAAAfMVAAAAAAABwx0AAAAAAAEy9QAAAAAAAdsZAAAAAAABkyUAAAAAAAJrAQAAAAAAAWMtAAAAAAABAz0AAAAAAAEDPQAAAAAAAfMVAAAAAAAAX0UAAAAAAAGTJQAAAAAAAcMdAAAAAAACUwUAAAAAAAJTBQAAAAAAAXspAAAAAAABiwUAAAAAAAHDHQAAAAAAAF9FAAAAAAACIw0AAAAAAAIjDQAAAAAAAcMdAAAAAAABwx0AAAAAAAHzFQAAAAAAAQM9AAAAAAACIw0AAAAAAAI7CQAAAAAAAiMNAAAAAAAAX0UAAAAAAAHDHQAAAAAAAQL9AAAAAAABAv0A=",
          "dtype": "f8"
         },
         "y0": " ",
         "yaxis": "y"
        },
        {
         "alignmentgroup": "True",
         "box": {
          "visible": true
         },
         "hovertemplate": "Район=%{x}<br>Цена (грн)=%{y}<extra></extra>",
         "legendgroup": "Новокодацький",
         "marker": {
          "color": "#B6E880"
         },
         "name": "Новокодацький",
         "offsetgroup": "Новокодацький",
         "orientation": "v",
         "points": "outliers",
         "scalegroup": "True",
         "showlegend": true,
         "type": "violin",
         "x": [
          "Новокодацький",
          "Новокодацький",
          "Новокодацький",
          "Новокодацький",
          "Новокодацький",
          "Новокодацький",
          "Новокодацький",
          "Новокодацький",
          "Новокодацький",
          "Новокодацький",
          "Новокодацький",
          "Новокодацький",
          "Новокодацький",
          "Новокодацький",
          "Новокодацький",
          "Новокодацький",
          "Новокодацький",
          "Новокодацький",
          "Новокодацький",
          "Новокодацький",
          "Новокодацький",
          "Новокодацький",
          "Новокодацький",
          "Новокодацький",
          "Новокодацький",
          "Новокодацький",
          "Новокодацький",
          "Новокодацький",
          "Новокодацький",
          "Новокодацький",
          "Новокодацький",
          "Новокодацький",
          "Новокодацький",
          "Новокодацький",
          "Новокодацький",
          "Новокодацький",
          "Новокодацький",
          "Новокодацький",
          "Новокодацький",
          "Новокодацький",
          "Новокодацький",
          "Новокодацький",
          "Новокодацький",
          "Новокодацький",
          "Новокодацький",
          "Новокодацький",
          "Новокодацький",
          "Новокодацький",
          "Новокодацький"
         ],
         "x0": " ",
         "xaxis": "x",
         "y": {
          "bdata": "AAAAAAB2xkAAAAAAAEC/QAAAAAAAWMtAAAAAAAB8tUAAAAAAAILEQAAAAAAAlMFAAAAAAACUwUAAAAAAAIjDQAAAAAAAmsBAAAAAAACUwUAAAAAAAEC/QAAAAAAAlMFAAAAAAABwx0AAAAAAAFi7QAAAAAAAlMFAAAAAAABYu0AAAAAAAJTBQAAAAAAAcMdAAAAAAABMvUAAAAAAAIizQAAAAAAAcLdAAAAAAACUwUAAAAAAAHC3QAAAAAAAcMdAAAAAAABwx0AAAAAAAHDHQAAAAAAAlMFAAAAAAABAv0AAAAAAAJTBQAAAAAAAiLNAAAAAAABYu0AAAAAAAGrIQAAAAAAAcLdAAAAAAACawEAAAAAAAIizQAAAAAAAmsBAAAAAAABwx0AAAAAAAJrAQAAAAAAAtMRAAAAAAABwx0AAAAAAAFi7QAAAAAAAcLdAAAAAAABwx0AAAAAAAFi7QAAAAAAAdsZAAAAAAABYu0AAAAAAAILEQAAAAAAAlMFAAAAAAAAd0EA=",
          "dtype": "f8"
         },
         "y0": " ",
         "yaxis": "y"
        }
       ],
       "layout": {
        "height": 600,
        "legend": {
         "title": {
          "text": "Район"
         },
         "tracegroupgap": 0
        },
        "showlegend": false,
        "template": {
         "data": {
          "bar": [
           {
            "error_x": {
             "color": "#2a3f5f"
            },
            "error_y": {
             "color": "#2a3f5f"
            },
            "marker": {
             "line": {
              "color": "white",
              "width": 0.5
             },
             "pattern": {
              "fillmode": "overlay",
              "size": 10,
              "solidity": 0.2
             }
            },
            "type": "bar"
           }
          ],
          "barpolar": [
           {
            "marker": {
             "line": {
              "color": "white",
              "width": 0.5
             },
             "pattern": {
              "fillmode": "overlay",
              "size": 10,
              "solidity": 0.2
             }
            },
            "type": "barpolar"
           }
          ],
          "carpet": [
           {
            "aaxis": {
             "endlinecolor": "#2a3f5f",
             "gridcolor": "#C8D4E3",
             "linecolor": "#C8D4E3",
             "minorgridcolor": "#C8D4E3",
             "startlinecolor": "#2a3f5f"
            },
            "baxis": {
             "endlinecolor": "#2a3f5f",
             "gridcolor": "#C8D4E3",
             "linecolor": "#C8D4E3",
             "minorgridcolor": "#C8D4E3",
             "startlinecolor": "#2a3f5f"
            },
            "type": "carpet"
           }
          ],
          "choropleth": [
           {
            "colorbar": {
             "outlinewidth": 0,
             "ticks": ""
            },
            "type": "choropleth"
           }
          ],
          "contour": [
           {
            "colorbar": {
             "outlinewidth": 0,
             "ticks": ""
            },
            "colorscale": [
             [
              0,
              "#0d0887"
             ],
             [
              0.1111111111111111,
              "#46039f"
             ],
             [
              0.2222222222222222,
              "#7201a8"
             ],
             [
              0.3333333333333333,
              "#9c179e"
             ],
             [
              0.4444444444444444,
              "#bd3786"
             ],
             [
              0.5555555555555556,
              "#d8576b"
             ],
             [
              0.6666666666666666,
              "#ed7953"
             ],
             [
              0.7777777777777778,
              "#fb9f3a"
             ],
             [
              0.8888888888888888,
              "#fdca26"
             ],
             [
              1,
              "#f0f921"
             ]
            ],
            "type": "contour"
           }
          ],
          "contourcarpet": [
           {
            "colorbar": {
             "outlinewidth": 0,
             "ticks": ""
            },
            "type": "contourcarpet"
           }
          ],
          "heatmap": [
           {
            "colorbar": {
             "outlinewidth": 0,
             "ticks": ""
            },
            "colorscale": [
             [
              0,
              "#0d0887"
             ],
             [
              0.1111111111111111,
              "#46039f"
             ],
             [
              0.2222222222222222,
              "#7201a8"
             ],
             [
              0.3333333333333333,
              "#9c179e"
             ],
             [
              0.4444444444444444,
              "#bd3786"
             ],
             [
              0.5555555555555556,
              "#d8576b"
             ],
             [
              0.6666666666666666,
              "#ed7953"
             ],
             [
              0.7777777777777778,
              "#fb9f3a"
             ],
             [
              0.8888888888888888,
              "#fdca26"
             ],
             [
              1,
              "#f0f921"
             ]
            ],
            "type": "heatmap"
           }
          ],
          "histogram": [
           {
            "marker": {
             "pattern": {
              "fillmode": "overlay",
              "size": 10,
              "solidity": 0.2
             }
            },
            "type": "histogram"
           }
          ],
          "histogram2d": [
           {
            "colorbar": {
             "outlinewidth": 0,
             "ticks": ""
            },
            "colorscale": [
             [
              0,
              "#0d0887"
             ],
             [
              0.1111111111111111,
              "#46039f"
             ],
             [
              0.2222222222222222,
              "#7201a8"
             ],
             [
              0.3333333333333333,
              "#9c179e"
             ],
             [
              0.4444444444444444,
              "#bd3786"
             ],
             [
              0.5555555555555556,
              "#d8576b"
             ],
             [
              0.6666666666666666,
              "#ed7953"
             ],
             [
              0.7777777777777778,
              "#fb9f3a"
             ],
             [
              0.8888888888888888,
              "#fdca26"
             ],
             [
              1,
              "#f0f921"
             ]
            ],
            "type": "histogram2d"
           }
          ],
          "histogram2dcontour": [
           {
            "colorbar": {
             "outlinewidth": 0,
             "ticks": ""
            },
            "colorscale": [
             [
              0,
              "#0d0887"
             ],
             [
              0.1111111111111111,
              "#46039f"
             ],
             [
              0.2222222222222222,
              "#7201a8"
             ],
             [
              0.3333333333333333,
              "#9c179e"
             ],
             [
              0.4444444444444444,
              "#bd3786"
             ],
             [
              0.5555555555555556,
              "#d8576b"
             ],
             [
              0.6666666666666666,
              "#ed7953"
             ],
             [
              0.7777777777777778,
              "#fb9f3a"
             ],
             [
              0.8888888888888888,
              "#fdca26"
             ],
             [
              1,
              "#f0f921"
             ]
            ],
            "type": "histogram2dcontour"
           }
          ],
          "mesh3d": [
           {
            "colorbar": {
             "outlinewidth": 0,
             "ticks": ""
            },
            "type": "mesh3d"
           }
          ],
          "parcoords": [
           {
            "line": {
             "colorbar": {
              "outlinewidth": 0,
              "ticks": ""
             }
            },
            "type": "parcoords"
           }
          ],
          "pie": [
           {
            "automargin": true,
            "type": "pie"
           }
          ],
          "scatter": [
           {
            "fillpattern": {
             "fillmode": "overlay",
             "size": 10,
             "solidity": 0.2
            },
            "type": "scatter"
           }
          ],
          "scatter3d": [
           {
            "line": {
             "colorbar": {
              "outlinewidth": 0,
              "ticks": ""
             }
            },
            "marker": {
             "colorbar": {
              "outlinewidth": 0,
              "ticks": ""
             }
            },
            "type": "scatter3d"
           }
          ],
          "scattercarpet": [
           {
            "marker": {
             "colorbar": {
              "outlinewidth": 0,
              "ticks": ""
             }
            },
            "type": "scattercarpet"
           }
          ],
          "scattergeo": [
           {
            "marker": {
             "colorbar": {
              "outlinewidth": 0,
              "ticks": ""
             }
            },
            "type": "scattergeo"
           }
          ],
          "scattergl": [
           {
            "marker": {
             "colorbar": {
              "outlinewidth": 0,
              "ticks": ""
             }
            },
            "type": "scattergl"
           }
          ],
          "scattermap": [
           {
            "marker": {
             "colorbar": {
              "outlinewidth": 0,
              "ticks": ""
             }
            },
            "type": "scattermap"
           }
          ],
          "scattermapbox": [
           {
            "marker": {
             "colorbar": {
              "outlinewidth": 0,
              "ticks": ""
             }
            },
            "type": "scattermapbox"
           }
          ],
          "scatterpolar": [
           {
            "marker": {
             "colorbar": {
              "outlinewidth": 0,
              "ticks": ""
             }
            },
            "type": "scatterpolar"
           }
          ],
          "scatterpolargl": [
           {
            "marker": {
             "colorbar": {
              "outlinewidth": 0,
              "ticks": ""
             }
            },
            "type": "scatterpolargl"
           }
          ],
          "scatterternary": [
           {
            "marker": {
             "colorbar": {
              "outlinewidth": 0,
              "ticks": ""
             }
            },
            "type": "scatterternary"
           }
          ],
          "surface": [
           {
            "colorbar": {
             "outlinewidth": 0,
             "ticks": ""
            },
            "colorscale": [
             [
              0,
              "#0d0887"
             ],
             [
              0.1111111111111111,
              "#46039f"
             ],
             [
              0.2222222222222222,
              "#7201a8"
             ],
             [
              0.3333333333333333,
              "#9c179e"
             ],
             [
              0.4444444444444444,
              "#bd3786"
             ],
             [
              0.5555555555555556,
              "#d8576b"
             ],
             [
              0.6666666666666666,
              "#ed7953"
             ],
             [
              0.7777777777777778,
              "#fb9f3a"
             ],
             [
              0.8888888888888888,
              "#fdca26"
             ],
             [
              1,
              "#f0f921"
             ]
            ],
            "type": "surface"
           }
          ],
          "table": [
           {
            "cells": {
             "fill": {
              "color": "#EBF0F8"
             },
             "line": {
              "color": "white"
             }
            },
            "header": {
             "fill": {
              "color": "#C8D4E3"
             },
             "line": {
              "color": "white"
             }
            },
            "type": "table"
           }
          ]
         },
         "layout": {
          "annotationdefaults": {
           "arrowcolor": "#2a3f5f",
           "arrowhead": 0,
           "arrowwidth": 1
          },
          "autotypenumbers": "strict",
          "coloraxis": {
           "colorbar": {
            "outlinewidth": 0,
            "ticks": ""
           }
          },
          "colorscale": {
           "diverging": [
            [
             0,
             "#8e0152"
            ],
            [
             0.1,
             "#c51b7d"
            ],
            [
             0.2,
             "#de77ae"
            ],
            [
             0.3,
             "#f1b6da"
            ],
            [
             0.4,
             "#fde0ef"
            ],
            [
             0.5,
             "#f7f7f7"
            ],
            [
             0.6,
             "#e6f5d0"
            ],
            [
             0.7,
             "#b8e186"
            ],
            [
             0.8,
             "#7fbc41"
            ],
            [
             0.9,
             "#4d9221"
            ],
            [
             1,
             "#276419"
            ]
           ],
           "sequential": [
            [
             0,
             "#0d0887"
            ],
            [
             0.1111111111111111,
             "#46039f"
            ],
            [
             0.2222222222222222,
             "#7201a8"
            ],
            [
             0.3333333333333333,
             "#9c179e"
            ],
            [
             0.4444444444444444,
             "#bd3786"
            ],
            [
             0.5555555555555556,
             "#d8576b"
            ],
            [
             0.6666666666666666,
             "#ed7953"
            ],
            [
             0.7777777777777778,
             "#fb9f3a"
            ],
            [
             0.8888888888888888,
             "#fdca26"
            ],
            [
             1,
             "#f0f921"
            ]
           ],
           "sequentialminus": [
            [
             0,
             "#0d0887"
            ],
            [
             0.1111111111111111,
             "#46039f"
            ],
            [
             0.2222222222222222,
             "#7201a8"
            ],
            [
             0.3333333333333333,
             "#9c179e"
            ],
            [
             0.4444444444444444,
             "#bd3786"
            ],
            [
             0.5555555555555556,
             "#d8576b"
            ],
            [
             0.6666666666666666,
             "#ed7953"
            ],
            [
             0.7777777777777778,
             "#fb9f3a"
            ],
            [
             0.8888888888888888,
             "#fdca26"
            ],
            [
             1,
             "#f0f921"
            ]
           ]
          },
          "colorway": [
           "#636efa",
           "#EF553B",
           "#00cc96",
           "#ab63fa",
           "#FFA15A",
           "#19d3f3",
           "#FF6692",
           "#B6E880",
           "#FF97FF",
           "#FECB52"
          ],
          "font": {
           "color": "#2a3f5f"
          },
          "geo": {
           "bgcolor": "white",
           "lakecolor": "white",
           "landcolor": "white",
           "showlakes": true,
           "showland": true,
           "subunitcolor": "#C8D4E3"
          },
          "hoverlabel": {
           "align": "left"
          },
          "hovermode": "closest",
          "mapbox": {
           "style": "light"
          },
          "paper_bgcolor": "white",
          "plot_bgcolor": "white",
          "polar": {
           "angularaxis": {
            "gridcolor": "#EBF0F8",
            "linecolor": "#EBF0F8",
            "ticks": ""
           },
           "bgcolor": "white",
           "radialaxis": {
            "gridcolor": "#EBF0F8",
            "linecolor": "#EBF0F8",
            "ticks": ""
           }
          },
          "scene": {
           "xaxis": {
            "backgroundcolor": "white",
            "gridcolor": "#DFE8F3",
            "gridwidth": 2,
            "linecolor": "#EBF0F8",
            "showbackground": true,
            "ticks": "",
            "zerolinecolor": "#EBF0F8"
           },
           "yaxis": {
            "backgroundcolor": "white",
            "gridcolor": "#DFE8F3",
            "gridwidth": 2,
            "linecolor": "#EBF0F8",
            "showbackground": true,
            "ticks": "",
            "zerolinecolor": "#EBF0F8"
           },
           "zaxis": {
            "backgroundcolor": "white",
            "gridcolor": "#DFE8F3",
            "gridwidth": 2,
            "linecolor": "#EBF0F8",
            "showbackground": true,
            "ticks": "",
            "zerolinecolor": "#EBF0F8"
           }
          },
          "shapedefaults": {
           "line": {
            "color": "#2a3f5f"
           }
          },
          "ternary": {
           "aaxis": {
            "gridcolor": "#DFE8F3",
            "linecolor": "#A2B1C6",
            "ticks": ""
           },
           "baxis": {
            "gridcolor": "#DFE8F3",
            "linecolor": "#A2B1C6",
            "ticks": ""
           },
           "bgcolor": "white",
           "caxis": {
            "gridcolor": "#DFE8F3",
            "linecolor": "#A2B1C6",
            "ticks": ""
           }
          },
          "title": {
           "x": 0.05
          },
          "xaxis": {
           "automargin": true,
           "gridcolor": "#EBF0F8",
           "linecolor": "#EBF0F8",
           "ticks": "",
           "title": {
            "standoff": 15
           },
           "zerolinecolor": "#EBF0F8",
           "zerolinewidth": 2
          },
          "yaxis": {
           "automargin": true,
           "gridcolor": "#EBF0F8",
           "linecolor": "#EBF0F8",
           "ticks": "",
           "title": {
            "standoff": 15
           },
           "zerolinecolor": "#EBF0F8",
           "zerolinewidth": 2
          }
         }
        },
        "title": {
         "text": "Детальное распределение цен по районам (Violin Plot)"
        },
        "violinmode": "overlay",
        "xaxis": {
         "anchor": "y",
         "categoryarray": [
          "Соборний",
          "Шевченківський",
          "Амур-Нижньодніпровський",
          "Самарський",
          "Чечелівський",
          "Центральний",
          "Індустріальний",
          "Новокодацький"
         ],
         "categoryorder": "array",
         "domain": [
          0,
          1
         ],
         "tickangle": -45,
         "title": {
          "text": "Район"
         }
        },
        "yaxis": {
         "anchor": "x",
         "domain": [
          0,
          1
         ],
         "title": {
          "text": "Цена (грн)"
         }
        }
       }
      }
     },
     "metadata": {},
     "output_type": "display_data"
    }
   ],
   "source": [
    "# Violin plot - распределение цен с подробностями\n",
    "fig_violin = px.violin(\n",
    "    df_clean,\n",
    "    x='district',\n",
    "    y='price',\n",
    "    color='district',\n",
    "    box=True,\n",
    "    points='outliers',\n",
    "    title='Детальное распределение цен по районам (Violin Plot)',\n",
    "    labels={'district': 'Район', 'price': 'Цена (грн)'},\n",
    "    height=600\n",
    ")\n",
    "\n",
    "fig_violin.update_layout(\n",
    "    xaxis_tickangle=-45,\n",
    "    showlegend=False,\n",
    "    template='plotly_white'\n",
    ")\n",
    "\n",
    "fig_violin.show()"
   ]
  },
  {
   "cell_type": "code",
   "execution_count": 18,
   "id": "0973c410",
   "metadata": {},
   "outputs": [
    {
     "data": {
      "application/vnd.plotly.v1+json": {
       "config": {
        "plotlyServerURL": "https://plot.ly"
       },
       "data": [
        {
         "branchvalues": "total",
         "customdata": {
          "bdata": "A0+35oe3w0DtFn41prrGQAAAAADY8c5AAAAAAABAz0BNWVPWlP/EQAzDMAzDEMdAAAAAAAB21kAAAAAAAPnlQFVVVVVV/b5Aip3YiZ0IxUAAAAAAAPDEQAAAAAAAWMtAip3YiZ0mwEBVVVVVVYnAQAAAAACAtMZAdNFFF13Jy0BCCCGEUA3RQAAAAADg7thAzczMzMz340BudUYq5h/IQBzHcRz3MNBAkiRJkiR5z0AAAAAAAPnVQAAAAAAAjtJAyiabbDIBxEDHcRzH8ZXGQAAAAACAxtNAAAAAAAAL00BYYyI9UAvFQGqE5Z7GPc1AUV5DeY2t00AAAAAAAFjbQLmsGChhJ8ZAt23btm1IyECdgpdT8MLBQBaykIUsZMFAxU7sxA4u0UC+9957P8PMQA3sHVODKsdAvcWQzlv0ykBHQRxk/3PLQA==",
          "dtype": "f8",
          "shape": "41, 1"
         },
         "domain": {
          "x": [
           0,
           1
          ],
          "y": [
           0,
           1
          ]
         },
         "hovertemplate": "labels=%{label}<br>Количество=%{value}<br>parent=%{parent}<br>id=%{id}<br>Средняя цена=%{color}<extra></extra>",
         "ids": [
          "Днепр/Індустріальний/1 комн.",
          "Днепр/Індустріальний/2 комн.",
          "Днепр/Індустріальний/3 комн.",
          "Днепр/Індустріальний/4 комн.",
          "Днепр/Амур-Нижньодніпровський/1 комн.",
          "Днепр/Амур-Нижньодніпровський/2 комн.",
          "Днепр/Амур-Нижньодніпровський/3 комн.",
          "Днепр/Амур-Нижньодніпровський/4 комн.",
          "Днепр/Новокодацький/1 комн.",
          "Днепр/Новокодацький/2 комн.",
          "Днепр/Новокодацький/3 комн.",
          "Днепр/Новокодацький/4 комн.",
          "Днепр/Самарський/1 комн.",
          "Днепр/Самарський/2 комн.",
          "Днепр/Самарський/3 комн.",
          "Днепр/Соборний/1 комн.",
          "Днепр/Соборний/2 комн.",
          "Днепр/Соборний/3 комн.",
          "Днепр/Соборний/4 комн.",
          "Днепр/Центральний/1 комн.",
          "Днепр/Центральний/2 комн.",
          "Днепр/Центральний/3 комн.",
          "Днепр/Центральний/4 комн.",
          "Днепр/Центральний/5 комн.",
          "Днепр/Чечелівський/1 комн.",
          "Днепр/Чечелівський/2 комн.",
          "Днепр/Чечелівський/3 комн.",
          "Днепр/Чечелівський/4 комн.",
          "Днепр/Шевченківський/1 комн.",
          "Днепр/Шевченківський/2 комн.",
          "Днепр/Шевченківський/3 комн.",
          "Днепр/Шевченківський/4 комн.",
          "Днепр/Індустріальний",
          "Днепр/Амур-Нижньодніпровський",
          "Днепр/Новокодацький",
          "Днепр/Самарський",
          "Днепр/Соборний",
          "Днепр/Центральний",
          "Днепр/Чечелівський",
          "Днепр/Шевченківський",
          "Днепр"
         ],
         "labels": [
          "1 комн.",
          "2 комн.",
          "3 комн.",
          "4 комн.",
          "1 комн.",
          "2 комн.",
          "3 комн.",
          "4 комн.",
          "1 комн.",
          "2 комн.",
          "3 комн.",
          "4 комн.",
          "1 комн.",
          "2 комн.",
          "3 комн.",
          "1 комн.",
          "2 комн.",
          "3 комн.",
          "4 комн.",
          "1 комн.",
          "2 комн.",
          "3 комн.",
          "4 комн.",
          "5 комн.",
          "1 комн.",
          "2 комн.",
          "3 комн.",
          "4 комн.",
          "1 комн.",
          "2 комн.",
          "3 комн.",
          "4 комн.",
          "Індустріальний",
          "Амур-Нижньодніпровський",
          "Новокодацький",
          "Самарський",
          "Соборний",
          "Центральний",
          "Чечелівський",
          "Шевченківський",
          "Днепр"
         ],
         "marker": {
          "coloraxis": "coloraxis",
          "colors": {
           "bdata": "A0+35oe3w0DtFn41prrGQAAAAADY8c5AAAAAAABAz0BNWVPWlP/EQAzDMAzDEMdAAAAAAAB21kAAAAAAAPnlQFVVVVVV/b5Aip3YiZ0IxUAAAAAAAPDEQAAAAAAAWMtAip3YiZ0mwEBVVVVVVYnAQAAAAACAtMZAdNFFF13Jy0BCCCGEUA3RQAAAAADg7thAzczMzMz340BudUYq5h/IQBzHcRz3MNBAkiRJkiR5z0AAAAAAAPnVQAAAAAAAjtJAyiabbDIBxEDHcRzH8ZXGQAAAAACAxtNAAAAAAAAL00BYYyI9UAvFQGqE5Z7GPc1AUV5DeY2t00AAAAAAAFjbQLmsGChhJ8ZAt23btm1IyECdgpdT8MLBQBaykIUsZMFAxU7sxA4u0UC+9957P8PMQA3sHVODKsdAvcWQzlv0ykBHQRxk/3PLQA==",
           "dtype": "f8"
          }
         },
         "name": "",
         "parents": [
          "Днепр/Індустріальний",
          "Днепр/Індустріальний",
          "Днепр/Індустріальний",
          "Днепр/Індустріальний",
          "Днепр/Амур-Нижньодніпровський",
          "Днепр/Амур-Нижньодніпровський",
          "Днепр/Амур-Нижньодніпровський",
          "Днепр/Амур-Нижньодніпровський",
          "Днепр/Новокодацький",
          "Днепр/Новокодацький",
          "Днепр/Новокодацький",
          "Днепр/Новокодацький",
          "Днепр/Самарський",
          "Днепр/Самарський",
          "Днепр/Самарський",
          "Днепр/Соборний",
          "Днепр/Соборний",
          "Днепр/Соборний",
          "Днепр/Соборний",
          "Днепр/Центральний",
          "Днепр/Центральний",
          "Днепр/Центральний",
          "Днепр/Центральний",
          "Днепр/Центральний",
          "Днепр/Чечелівський",
          "Днепр/Чечелівський",
          "Днепр/Чечелівський",
          "Днепр/Чечелівський",
          "Днепр/Шевченківський",
          "Днепр/Шевченківський",
          "Днепр/Шевченківський",
          "Днепр/Шевченківський",
          "Днепр",
          "Днепр",
          "Днепр",
          "Днепр",
          "Днепр",
          "Днепр",
          "Днепр",
          "Днепр",
          ""
         ],
         "textinfo": "label+value",
         "type": "treemap",
         "values": {
          "bdata": "AAAAAABAVEAAAAAAAMBQQAAAAAAAADBAAAAAAAAAAEAAAAAAAIBFQAAAAAAAADVAAAAAAAAAFEAAAAAAAADwPwAAAAAAAD5AAAAAAAAAKkAAAAAAAAAUQAAAAAAAAPA/AAAAAAAAKkAAAAAAAAAYQAAAAAAAABBAAAAAAACAW0AAAAAAAABfQAAAAAAAAEFAAAAAAAAAFEAAAAAAAEBbQAAAAAAAAFtAAAAAAAAAPEAAAAAAAAAAQAAAAAAAAPA/AAAAAACAQEAAAAAAAABCQAAAAAAAABBAAAAAAAAAEEAAAAAAAMBQQAAAAAAAAE1AAAAAAAAAM0AAAAAAAADwPwAAAAAAwGRAAAAAAACAUUAAAAAAAIBIQAAAAAAAADdAAAAAAAAQcUAAAAAAAABvQAAAAAAAQFNAAAAAAAAgYkAAAAAAAGyQQA==",
          "dtype": "f8"
         }
        }
       ],
       "layout": {
        "coloraxis": {
         "colorbar": {
          "title": {
           "text": "Средняя цена"
          }
         },
         "colorscale": [
          [
           0,
           "#30123b"
          ],
          [
           0.07142857142857142,
           "#4145ab"
          ],
          [
           0.14285714285714285,
           "#4675ed"
          ],
          [
           0.21428571428571427,
           "#39a2fc"
          ],
          [
           0.2857142857142857,
           "#1bcfd4"
          ],
          [
           0.35714285714285715,
           "#24eca6"
          ],
          [
           0.42857142857142855,
           "#61fc6c"
          ],
          [
           0.5,
           "#a4fc3b"
          ],
          [
           0.5714285714285714,
           "#d1e834"
          ],
          [
           0.6428571428571429,
           "#f3c63a"
          ],
          [
           0.7142857142857143,
           "#fe9b2d"
          ],
          [
           0.7857142857142857,
           "#f36315"
          ],
          [
           0.8571428571428571,
           "#d93806"
          ],
          [
           0.9285714285714286,
           "#b11901"
          ],
          [
           1,
           "#7a0402"
          ]
         ]
        },
        "height": 700,
        "legend": {
         "tracegroupgap": 0
        },
        "template": {
         "data": {
          "bar": [
           {
            "error_x": {
             "color": "#2a3f5f"
            },
            "error_y": {
             "color": "#2a3f5f"
            },
            "marker": {
             "line": {
              "color": "white",
              "width": 0.5
             },
             "pattern": {
              "fillmode": "overlay",
              "size": 10,
              "solidity": 0.2
             }
            },
            "type": "bar"
           }
          ],
          "barpolar": [
           {
            "marker": {
             "line": {
              "color": "white",
              "width": 0.5
             },
             "pattern": {
              "fillmode": "overlay",
              "size": 10,
              "solidity": 0.2
             }
            },
            "type": "barpolar"
           }
          ],
          "carpet": [
           {
            "aaxis": {
             "endlinecolor": "#2a3f5f",
             "gridcolor": "#C8D4E3",
             "linecolor": "#C8D4E3",
             "minorgridcolor": "#C8D4E3",
             "startlinecolor": "#2a3f5f"
            },
            "baxis": {
             "endlinecolor": "#2a3f5f",
             "gridcolor": "#C8D4E3",
             "linecolor": "#C8D4E3",
             "minorgridcolor": "#C8D4E3",
             "startlinecolor": "#2a3f5f"
            },
            "type": "carpet"
           }
          ],
          "choropleth": [
           {
            "colorbar": {
             "outlinewidth": 0,
             "ticks": ""
            },
            "type": "choropleth"
           }
          ],
          "contour": [
           {
            "colorbar": {
             "outlinewidth": 0,
             "ticks": ""
            },
            "colorscale": [
             [
              0,
              "#0d0887"
             ],
             [
              0.1111111111111111,
              "#46039f"
             ],
             [
              0.2222222222222222,
              "#7201a8"
             ],
             [
              0.3333333333333333,
              "#9c179e"
             ],
             [
              0.4444444444444444,
              "#bd3786"
             ],
             [
              0.5555555555555556,
              "#d8576b"
             ],
             [
              0.6666666666666666,
              "#ed7953"
             ],
             [
              0.7777777777777778,
              "#fb9f3a"
             ],
             [
              0.8888888888888888,
              "#fdca26"
             ],
             [
              1,
              "#f0f921"
             ]
            ],
            "type": "contour"
           }
          ],
          "contourcarpet": [
           {
            "colorbar": {
             "outlinewidth": 0,
             "ticks": ""
            },
            "type": "contourcarpet"
           }
          ],
          "heatmap": [
           {
            "colorbar": {
             "outlinewidth": 0,
             "ticks": ""
            },
            "colorscale": [
             [
              0,
              "#0d0887"
             ],
             [
              0.1111111111111111,
              "#46039f"
             ],
             [
              0.2222222222222222,
              "#7201a8"
             ],
             [
              0.3333333333333333,
              "#9c179e"
             ],
             [
              0.4444444444444444,
              "#bd3786"
             ],
             [
              0.5555555555555556,
              "#d8576b"
             ],
             [
              0.6666666666666666,
              "#ed7953"
             ],
             [
              0.7777777777777778,
              "#fb9f3a"
             ],
             [
              0.8888888888888888,
              "#fdca26"
             ],
             [
              1,
              "#f0f921"
             ]
            ],
            "type": "heatmap"
           }
          ],
          "histogram": [
           {
            "marker": {
             "pattern": {
              "fillmode": "overlay",
              "size": 10,
              "solidity": 0.2
             }
            },
            "type": "histogram"
           }
          ],
          "histogram2d": [
           {
            "colorbar": {
             "outlinewidth": 0,
             "ticks": ""
            },
            "colorscale": [
             [
              0,
              "#0d0887"
             ],
             [
              0.1111111111111111,
              "#46039f"
             ],
             [
              0.2222222222222222,
              "#7201a8"
             ],
             [
              0.3333333333333333,
              "#9c179e"
             ],
             [
              0.4444444444444444,
              "#bd3786"
             ],
             [
              0.5555555555555556,
              "#d8576b"
             ],
             [
              0.6666666666666666,
              "#ed7953"
             ],
             [
              0.7777777777777778,
              "#fb9f3a"
             ],
             [
              0.8888888888888888,
              "#fdca26"
             ],
             [
              1,
              "#f0f921"
             ]
            ],
            "type": "histogram2d"
           }
          ],
          "histogram2dcontour": [
           {
            "colorbar": {
             "outlinewidth": 0,
             "ticks": ""
            },
            "colorscale": [
             [
              0,
              "#0d0887"
             ],
             [
              0.1111111111111111,
              "#46039f"
             ],
             [
              0.2222222222222222,
              "#7201a8"
             ],
             [
              0.3333333333333333,
              "#9c179e"
             ],
             [
              0.4444444444444444,
              "#bd3786"
             ],
             [
              0.5555555555555556,
              "#d8576b"
             ],
             [
              0.6666666666666666,
              "#ed7953"
             ],
             [
              0.7777777777777778,
              "#fb9f3a"
             ],
             [
              0.8888888888888888,
              "#fdca26"
             ],
             [
              1,
              "#f0f921"
             ]
            ],
            "type": "histogram2dcontour"
           }
          ],
          "mesh3d": [
           {
            "colorbar": {
             "outlinewidth": 0,
             "ticks": ""
            },
            "type": "mesh3d"
           }
          ],
          "parcoords": [
           {
            "line": {
             "colorbar": {
              "outlinewidth": 0,
              "ticks": ""
             }
            },
            "type": "parcoords"
           }
          ],
          "pie": [
           {
            "automargin": true,
            "type": "pie"
           }
          ],
          "scatter": [
           {
            "fillpattern": {
             "fillmode": "overlay",
             "size": 10,
             "solidity": 0.2
            },
            "type": "scatter"
           }
          ],
          "scatter3d": [
           {
            "line": {
             "colorbar": {
              "outlinewidth": 0,
              "ticks": ""
             }
            },
            "marker": {
             "colorbar": {
              "outlinewidth": 0,
              "ticks": ""
             }
            },
            "type": "scatter3d"
           }
          ],
          "scattercarpet": [
           {
            "marker": {
             "colorbar": {
              "outlinewidth": 0,
              "ticks": ""
             }
            },
            "type": "scattercarpet"
           }
          ],
          "scattergeo": [
           {
            "marker": {
             "colorbar": {
              "outlinewidth": 0,
              "ticks": ""
             }
            },
            "type": "scattergeo"
           }
          ],
          "scattergl": [
           {
            "marker": {
             "colorbar": {
              "outlinewidth": 0,
              "ticks": ""
             }
            },
            "type": "scattergl"
           }
          ],
          "scattermap": [
           {
            "marker": {
             "colorbar": {
              "outlinewidth": 0,
              "ticks": ""
             }
            },
            "type": "scattermap"
           }
          ],
          "scattermapbox": [
           {
            "marker": {
             "colorbar": {
              "outlinewidth": 0,
              "ticks": ""
             }
            },
            "type": "scattermapbox"
           }
          ],
          "scatterpolar": [
           {
            "marker": {
             "colorbar": {
              "outlinewidth": 0,
              "ticks": ""
             }
            },
            "type": "scatterpolar"
           }
          ],
          "scatterpolargl": [
           {
            "marker": {
             "colorbar": {
              "outlinewidth": 0,
              "ticks": ""
             }
            },
            "type": "scatterpolargl"
           }
          ],
          "scatterternary": [
           {
            "marker": {
             "colorbar": {
              "outlinewidth": 0,
              "ticks": ""
             }
            },
            "type": "scatterternary"
           }
          ],
          "surface": [
           {
            "colorbar": {
             "outlinewidth": 0,
             "ticks": ""
            },
            "colorscale": [
             [
              0,
              "#0d0887"
             ],
             [
              0.1111111111111111,
              "#46039f"
             ],
             [
              0.2222222222222222,
              "#7201a8"
             ],
             [
              0.3333333333333333,
              "#9c179e"
             ],
             [
              0.4444444444444444,
              "#bd3786"
             ],
             [
              0.5555555555555556,
              "#d8576b"
             ],
             [
              0.6666666666666666,
              "#ed7953"
             ],
             [
              0.7777777777777778,
              "#fb9f3a"
             ],
             [
              0.8888888888888888,
              "#fdca26"
             ],
             [
              1,
              "#f0f921"
             ]
            ],
            "type": "surface"
           }
          ],
          "table": [
           {
            "cells": {
             "fill": {
              "color": "#EBF0F8"
             },
             "line": {
              "color": "white"
             }
            },
            "header": {
             "fill": {
              "color": "#C8D4E3"
             },
             "line": {
              "color": "white"
             }
            },
            "type": "table"
           }
          ]
         },
         "layout": {
          "annotationdefaults": {
           "arrowcolor": "#2a3f5f",
           "arrowhead": 0,
           "arrowwidth": 1
          },
          "autotypenumbers": "strict",
          "coloraxis": {
           "colorbar": {
            "outlinewidth": 0,
            "ticks": ""
           }
          },
          "colorscale": {
           "diverging": [
            [
             0,
             "#8e0152"
            ],
            [
             0.1,
             "#c51b7d"
            ],
            [
             0.2,
             "#de77ae"
            ],
            [
             0.3,
             "#f1b6da"
            ],
            [
             0.4,
             "#fde0ef"
            ],
            [
             0.5,
             "#f7f7f7"
            ],
            [
             0.6,
             "#e6f5d0"
            ],
            [
             0.7,
             "#b8e186"
            ],
            [
             0.8,
             "#7fbc41"
            ],
            [
             0.9,
             "#4d9221"
            ],
            [
             1,
             "#276419"
            ]
           ],
           "sequential": [
            [
             0,
             "#0d0887"
            ],
            [
             0.1111111111111111,
             "#46039f"
            ],
            [
             0.2222222222222222,
             "#7201a8"
            ],
            [
             0.3333333333333333,
             "#9c179e"
            ],
            [
             0.4444444444444444,
             "#bd3786"
            ],
            [
             0.5555555555555556,
             "#d8576b"
            ],
            [
             0.6666666666666666,
             "#ed7953"
            ],
            [
             0.7777777777777778,
             "#fb9f3a"
            ],
            [
             0.8888888888888888,
             "#fdca26"
            ],
            [
             1,
             "#f0f921"
            ]
           ],
           "sequentialminus": [
            [
             0,
             "#0d0887"
            ],
            [
             0.1111111111111111,
             "#46039f"
            ],
            [
             0.2222222222222222,
             "#7201a8"
            ],
            [
             0.3333333333333333,
             "#9c179e"
            ],
            [
             0.4444444444444444,
             "#bd3786"
            ],
            [
             0.5555555555555556,
             "#d8576b"
            ],
            [
             0.6666666666666666,
             "#ed7953"
            ],
            [
             0.7777777777777778,
             "#fb9f3a"
            ],
            [
             0.8888888888888888,
             "#fdca26"
            ],
            [
             1,
             "#f0f921"
            ]
           ]
          },
          "colorway": [
           "#636efa",
           "#EF553B",
           "#00cc96",
           "#ab63fa",
           "#FFA15A",
           "#19d3f3",
           "#FF6692",
           "#B6E880",
           "#FF97FF",
           "#FECB52"
          ],
          "font": {
           "color": "#2a3f5f"
          },
          "geo": {
           "bgcolor": "white",
           "lakecolor": "white",
           "landcolor": "white",
           "showlakes": true,
           "showland": true,
           "subunitcolor": "#C8D4E3"
          },
          "hoverlabel": {
           "align": "left"
          },
          "hovermode": "closest",
          "mapbox": {
           "style": "light"
          },
          "paper_bgcolor": "white",
          "plot_bgcolor": "white",
          "polar": {
           "angularaxis": {
            "gridcolor": "#EBF0F8",
            "linecolor": "#EBF0F8",
            "ticks": ""
           },
           "bgcolor": "white",
           "radialaxis": {
            "gridcolor": "#EBF0F8",
            "linecolor": "#EBF0F8",
            "ticks": ""
           }
          },
          "scene": {
           "xaxis": {
            "backgroundcolor": "white",
            "gridcolor": "#DFE8F3",
            "gridwidth": 2,
            "linecolor": "#EBF0F8",
            "showbackground": true,
            "ticks": "",
            "zerolinecolor": "#EBF0F8"
           },
           "yaxis": {
            "backgroundcolor": "white",
            "gridcolor": "#DFE8F3",
            "gridwidth": 2,
            "linecolor": "#EBF0F8",
            "showbackground": true,
            "ticks": "",
            "zerolinecolor": "#EBF0F8"
           },
           "zaxis": {
            "backgroundcolor": "white",
            "gridcolor": "#DFE8F3",
            "gridwidth": 2,
            "linecolor": "#EBF0F8",
            "showbackground": true,
            "ticks": "",
            "zerolinecolor": "#EBF0F8"
           }
          },
          "shapedefaults": {
           "line": {
            "color": "#2a3f5f"
           }
          },
          "ternary": {
           "aaxis": {
            "gridcolor": "#DFE8F3",
            "linecolor": "#A2B1C6",
            "ticks": ""
           },
           "baxis": {
            "gridcolor": "#DFE8F3",
            "linecolor": "#A2B1C6",
            "ticks": ""
           },
           "bgcolor": "white",
           "caxis": {
            "gridcolor": "#DFE8F3",
            "linecolor": "#A2B1C6",
            "ticks": ""
           }
          },
          "title": {
           "x": 0.05
          },
          "xaxis": {
           "automargin": true,
           "gridcolor": "#EBF0F8",
           "linecolor": "#EBF0F8",
           "ticks": "",
           "title": {
            "standoff": 15
           },
           "zerolinecolor": "#EBF0F8",
           "zerolinewidth": 2
          },
          "yaxis": {
           "automargin": true,
           "gridcolor": "#EBF0F8",
           "linecolor": "#EBF0F8",
           "ticks": "",
           "title": {
            "standoff": 15
           },
           "zerolinecolor": "#EBF0F8",
           "zerolinewidth": 2
          }
         }
        },
        "title": {
         "text": "Treemap: Распределение квартир по районам и комнатам"
        }
       }
      }
     },
     "metadata": {},
     "output_type": "display_data"
    }
   ],
   "source": [
    "# Treemap - визуализация количества и цен\n",
    "df_treemap = df_clean.groupby(['district', 'rooms']).agg({\n",
    "    'price': 'mean',\n",
    "    'post_id': 'count'\n",
    "}).reset_index()\n",
    "\n",
    "df_treemap['rooms_label'] = df_treemap['rooms'].astype(int).astype(str) + ' комн.'\n",
    "df_treemap['label'] = df_treemap['district'] + '<br>' + df_treemap['rooms_label']\n",
    "\n",
    "fig_treemap = px.treemap(\n",
    "    df_treemap,\n",
    "    path=[px.Constant(\"Днепр\"), 'district', 'rooms_label'],\n",
    "    values='post_id',\n",
    "    color='price',\n",
    "    color_continuous_scale='Turbo',\n",
    "    title='Treemap: Распределение квартир по районам и комнатам',\n",
    "    labels={'post_id': 'Количество', 'price': 'Средняя цена'},\n",
    "    height=700\n",
    ")\n",
    "\n",
    "fig_treemap.update_traces(textinfo='label+value')\n",
    "fig_treemap.update_layout(template='plotly_white')\n",
    "fig_treemap.show()"
   ]
  },
  {
   "cell_type": "markdown",
   "id": "399558cc",
   "metadata": {},
   "source": [
    "## 8. Корреляционный анализ"
   ]
  },
  {
   "cell_type": "code",
   "execution_count": 19,
   "id": "31302614",
   "metadata": {},
   "outputs": [
    {
     "data": {
      "application/vnd.plotly.v1+json": {
       "config": {
        "plotlyServerURL": "https://plot.ly"
       },
       "data": [
        {
         "coloraxis": "coloraxis",
         "hovertemplate": "Параметры: %{x}<br>Параметры: %{y}<br>Корреляция: %{z}<extra></extra>",
         "name": "0",
         "texttemplate": "%{z:.2f}",
         "type": "heatmap",
         "x": [
          "price",
          "total_area",
          "floor",
          "total_floors",
          "rooms"
         ],
         "xaxis": "x",
         "y": [
          "price",
          "total_area",
          "floor",
          "total_floors",
          "rooms"
         ],
         "yaxis": "y",
         "z": {
          "bdata": "AAAAAAAA8D8XdAca8aDjP+Jou8xseNE/5xOgk3by2T+9VmfwWx7ZPxd0BxrxoOM/AAAAAAAA8D/h72eSkY/AP9KSVeiLcMo/3y8kpyat5z/iaLvMbHjRP+HvZ5KRj8A/AAAAAAAA8D+n7HYIFDTlP0Scxf+Kz4g/5xOgk3by2T/SklXoi3DKP6fsdggUNOU/AAAAAAAA8D+kSq9LwF+RP71WZ/BbHtk/3y8kpyat5z9EnMX/is+IP6RKr0vAX5E/AAAAAAAA8D8=",
          "dtype": "f8",
          "shape": "5, 5"
         }
        }
       ],
       "layout": {
        "coloraxis": {
         "colorbar": {
          "title": {
           "text": "Корреляция"
          }
         },
         "colorscale": [
          [
           0,
           "rgb(5,48,97)"
          ],
          [
           0.1,
           "rgb(33,102,172)"
          ],
          [
           0.2,
           "rgb(67,147,195)"
          ],
          [
           0.3,
           "rgb(146,197,222)"
          ],
          [
           0.4,
           "rgb(209,229,240)"
          ],
          [
           0.5,
           "rgb(247,247,247)"
          ],
          [
           0.6,
           "rgb(253,219,199)"
          ],
          [
           0.7,
           "rgb(244,165,130)"
          ],
          [
           0.8,
           "rgb(214,96,77)"
          ],
          [
           0.9,
           "rgb(178,24,43)"
          ],
          [
           1,
           "rgb(103,0,31)"
          ]
         ]
        },
        "height": 600,
        "template": {
         "data": {
          "bar": [
           {
            "error_x": {
             "color": "#2a3f5f"
            },
            "error_y": {
             "color": "#2a3f5f"
            },
            "marker": {
             "line": {
              "color": "white",
              "width": 0.5
             },
             "pattern": {
              "fillmode": "overlay",
              "size": 10,
              "solidity": 0.2
             }
            },
            "type": "bar"
           }
          ],
          "barpolar": [
           {
            "marker": {
             "line": {
              "color": "white",
              "width": 0.5
             },
             "pattern": {
              "fillmode": "overlay",
              "size": 10,
              "solidity": 0.2
             }
            },
            "type": "barpolar"
           }
          ],
          "carpet": [
           {
            "aaxis": {
             "endlinecolor": "#2a3f5f",
             "gridcolor": "#C8D4E3",
             "linecolor": "#C8D4E3",
             "minorgridcolor": "#C8D4E3",
             "startlinecolor": "#2a3f5f"
            },
            "baxis": {
             "endlinecolor": "#2a3f5f",
             "gridcolor": "#C8D4E3",
             "linecolor": "#C8D4E3",
             "minorgridcolor": "#C8D4E3",
             "startlinecolor": "#2a3f5f"
            },
            "type": "carpet"
           }
          ],
          "choropleth": [
           {
            "colorbar": {
             "outlinewidth": 0,
             "ticks": ""
            },
            "type": "choropleth"
           }
          ],
          "contour": [
           {
            "colorbar": {
             "outlinewidth": 0,
             "ticks": ""
            },
            "colorscale": [
             [
              0,
              "#0d0887"
             ],
             [
              0.1111111111111111,
              "#46039f"
             ],
             [
              0.2222222222222222,
              "#7201a8"
             ],
             [
              0.3333333333333333,
              "#9c179e"
             ],
             [
              0.4444444444444444,
              "#bd3786"
             ],
             [
              0.5555555555555556,
              "#d8576b"
             ],
             [
              0.6666666666666666,
              "#ed7953"
             ],
             [
              0.7777777777777778,
              "#fb9f3a"
             ],
             [
              0.8888888888888888,
              "#fdca26"
             ],
             [
              1,
              "#f0f921"
             ]
            ],
            "type": "contour"
           }
          ],
          "contourcarpet": [
           {
            "colorbar": {
             "outlinewidth": 0,
             "ticks": ""
            },
            "type": "contourcarpet"
           }
          ],
          "heatmap": [
           {
            "colorbar": {
             "outlinewidth": 0,
             "ticks": ""
            },
            "colorscale": [
             [
              0,
              "#0d0887"
             ],
             [
              0.1111111111111111,
              "#46039f"
             ],
             [
              0.2222222222222222,
              "#7201a8"
             ],
             [
              0.3333333333333333,
              "#9c179e"
             ],
             [
              0.4444444444444444,
              "#bd3786"
             ],
             [
              0.5555555555555556,
              "#d8576b"
             ],
             [
              0.6666666666666666,
              "#ed7953"
             ],
             [
              0.7777777777777778,
              "#fb9f3a"
             ],
             [
              0.8888888888888888,
              "#fdca26"
             ],
             [
              1,
              "#f0f921"
             ]
            ],
            "type": "heatmap"
           }
          ],
          "histogram": [
           {
            "marker": {
             "pattern": {
              "fillmode": "overlay",
              "size": 10,
              "solidity": 0.2
             }
            },
            "type": "histogram"
           }
          ],
          "histogram2d": [
           {
            "colorbar": {
             "outlinewidth": 0,
             "ticks": ""
            },
            "colorscale": [
             [
              0,
              "#0d0887"
             ],
             [
              0.1111111111111111,
              "#46039f"
             ],
             [
              0.2222222222222222,
              "#7201a8"
             ],
             [
              0.3333333333333333,
              "#9c179e"
             ],
             [
              0.4444444444444444,
              "#bd3786"
             ],
             [
              0.5555555555555556,
              "#d8576b"
             ],
             [
              0.6666666666666666,
              "#ed7953"
             ],
             [
              0.7777777777777778,
              "#fb9f3a"
             ],
             [
              0.8888888888888888,
              "#fdca26"
             ],
             [
              1,
              "#f0f921"
             ]
            ],
            "type": "histogram2d"
           }
          ],
          "histogram2dcontour": [
           {
            "colorbar": {
             "outlinewidth": 0,
             "ticks": ""
            },
            "colorscale": [
             [
              0,
              "#0d0887"
             ],
             [
              0.1111111111111111,
              "#46039f"
             ],
             [
              0.2222222222222222,
              "#7201a8"
             ],
             [
              0.3333333333333333,
              "#9c179e"
             ],
             [
              0.4444444444444444,
              "#bd3786"
             ],
             [
              0.5555555555555556,
              "#d8576b"
             ],
             [
              0.6666666666666666,
              "#ed7953"
             ],
             [
              0.7777777777777778,
              "#fb9f3a"
             ],
             [
              0.8888888888888888,
              "#fdca26"
             ],
             [
              1,
              "#f0f921"
             ]
            ],
            "type": "histogram2dcontour"
           }
          ],
          "mesh3d": [
           {
            "colorbar": {
             "outlinewidth": 0,
             "ticks": ""
            },
            "type": "mesh3d"
           }
          ],
          "parcoords": [
           {
            "line": {
             "colorbar": {
              "outlinewidth": 0,
              "ticks": ""
             }
            },
            "type": "parcoords"
           }
          ],
          "pie": [
           {
            "automargin": true,
            "type": "pie"
           }
          ],
          "scatter": [
           {
            "fillpattern": {
             "fillmode": "overlay",
             "size": 10,
             "solidity": 0.2
            },
            "type": "scatter"
           }
          ],
          "scatter3d": [
           {
            "line": {
             "colorbar": {
              "outlinewidth": 0,
              "ticks": ""
             }
            },
            "marker": {
             "colorbar": {
              "outlinewidth": 0,
              "ticks": ""
             }
            },
            "type": "scatter3d"
           }
          ],
          "scattercarpet": [
           {
            "marker": {
             "colorbar": {
              "outlinewidth": 0,
              "ticks": ""
             }
            },
            "type": "scattercarpet"
           }
          ],
          "scattergeo": [
           {
            "marker": {
             "colorbar": {
              "outlinewidth": 0,
              "ticks": ""
             }
            },
            "type": "scattergeo"
           }
          ],
          "scattergl": [
           {
            "marker": {
             "colorbar": {
              "outlinewidth": 0,
              "ticks": ""
             }
            },
            "type": "scattergl"
           }
          ],
          "scattermap": [
           {
            "marker": {
             "colorbar": {
              "outlinewidth": 0,
              "ticks": ""
             }
            },
            "type": "scattermap"
           }
          ],
          "scattermapbox": [
           {
            "marker": {
             "colorbar": {
              "outlinewidth": 0,
              "ticks": ""
             }
            },
            "type": "scattermapbox"
           }
          ],
          "scatterpolar": [
           {
            "marker": {
             "colorbar": {
              "outlinewidth": 0,
              "ticks": ""
             }
            },
            "type": "scatterpolar"
           }
          ],
          "scatterpolargl": [
           {
            "marker": {
             "colorbar": {
              "outlinewidth": 0,
              "ticks": ""
             }
            },
            "type": "scatterpolargl"
           }
          ],
          "scatterternary": [
           {
            "marker": {
             "colorbar": {
              "outlinewidth": 0,
              "ticks": ""
             }
            },
            "type": "scatterternary"
           }
          ],
          "surface": [
           {
            "colorbar": {
             "outlinewidth": 0,
             "ticks": ""
            },
            "colorscale": [
             [
              0,
              "#0d0887"
             ],
             [
              0.1111111111111111,
              "#46039f"
             ],
             [
              0.2222222222222222,
              "#7201a8"
             ],
             [
              0.3333333333333333,
              "#9c179e"
             ],
             [
              0.4444444444444444,
              "#bd3786"
             ],
             [
              0.5555555555555556,
              "#d8576b"
             ],
             [
              0.6666666666666666,
              "#ed7953"
             ],
             [
              0.7777777777777778,
              "#fb9f3a"
             ],
             [
              0.8888888888888888,
              "#fdca26"
             ],
             [
              1,
              "#f0f921"
             ]
            ],
            "type": "surface"
           }
          ],
          "table": [
           {
            "cells": {
             "fill": {
              "color": "#EBF0F8"
             },
             "line": {
              "color": "white"
             }
            },
            "header": {
             "fill": {
              "color": "#C8D4E3"
             },
             "line": {
              "color": "white"
             }
            },
            "type": "table"
           }
          ]
         },
         "layout": {
          "annotationdefaults": {
           "arrowcolor": "#2a3f5f",
           "arrowhead": 0,
           "arrowwidth": 1
          },
          "autotypenumbers": "strict",
          "coloraxis": {
           "colorbar": {
            "outlinewidth": 0,
            "ticks": ""
           }
          },
          "colorscale": {
           "diverging": [
            [
             0,
             "#8e0152"
            ],
            [
             0.1,
             "#c51b7d"
            ],
            [
             0.2,
             "#de77ae"
            ],
            [
             0.3,
             "#f1b6da"
            ],
            [
             0.4,
             "#fde0ef"
            ],
            [
             0.5,
             "#f7f7f7"
            ],
            [
             0.6,
             "#e6f5d0"
            ],
            [
             0.7,
             "#b8e186"
            ],
            [
             0.8,
             "#7fbc41"
            ],
            [
             0.9,
             "#4d9221"
            ],
            [
             1,
             "#276419"
            ]
           ],
           "sequential": [
            [
             0,
             "#0d0887"
            ],
            [
             0.1111111111111111,
             "#46039f"
            ],
            [
             0.2222222222222222,
             "#7201a8"
            ],
            [
             0.3333333333333333,
             "#9c179e"
            ],
            [
             0.4444444444444444,
             "#bd3786"
            ],
            [
             0.5555555555555556,
             "#d8576b"
            ],
            [
             0.6666666666666666,
             "#ed7953"
            ],
            [
             0.7777777777777778,
             "#fb9f3a"
            ],
            [
             0.8888888888888888,
             "#fdca26"
            ],
            [
             1,
             "#f0f921"
            ]
           ],
           "sequentialminus": [
            [
             0,
             "#0d0887"
            ],
            [
             0.1111111111111111,
             "#46039f"
            ],
            [
             0.2222222222222222,
             "#7201a8"
            ],
            [
             0.3333333333333333,
             "#9c179e"
            ],
            [
             0.4444444444444444,
             "#bd3786"
            ],
            [
             0.5555555555555556,
             "#d8576b"
            ],
            [
             0.6666666666666666,
             "#ed7953"
            ],
            [
             0.7777777777777778,
             "#fb9f3a"
            ],
            [
             0.8888888888888888,
             "#fdca26"
            ],
            [
             1,
             "#f0f921"
            ]
           ]
          },
          "colorway": [
           "#636efa",
           "#EF553B",
           "#00cc96",
           "#ab63fa",
           "#FFA15A",
           "#19d3f3",
           "#FF6692",
           "#B6E880",
           "#FF97FF",
           "#FECB52"
          ],
          "font": {
           "color": "#2a3f5f"
          },
          "geo": {
           "bgcolor": "white",
           "lakecolor": "white",
           "landcolor": "white",
           "showlakes": true,
           "showland": true,
           "subunitcolor": "#C8D4E3"
          },
          "hoverlabel": {
           "align": "left"
          },
          "hovermode": "closest",
          "mapbox": {
           "style": "light"
          },
          "paper_bgcolor": "white",
          "plot_bgcolor": "white",
          "polar": {
           "angularaxis": {
            "gridcolor": "#EBF0F8",
            "linecolor": "#EBF0F8",
            "ticks": ""
           },
           "bgcolor": "white",
           "radialaxis": {
            "gridcolor": "#EBF0F8",
            "linecolor": "#EBF0F8",
            "ticks": ""
           }
          },
          "scene": {
           "xaxis": {
            "backgroundcolor": "white",
            "gridcolor": "#DFE8F3",
            "gridwidth": 2,
            "linecolor": "#EBF0F8",
            "showbackground": true,
            "ticks": "",
            "zerolinecolor": "#EBF0F8"
           },
           "yaxis": {
            "backgroundcolor": "white",
            "gridcolor": "#DFE8F3",
            "gridwidth": 2,
            "linecolor": "#EBF0F8",
            "showbackground": true,
            "ticks": "",
            "zerolinecolor": "#EBF0F8"
           },
           "zaxis": {
            "backgroundcolor": "white",
            "gridcolor": "#DFE8F3",
            "gridwidth": 2,
            "linecolor": "#EBF0F8",
            "showbackground": true,
            "ticks": "",
            "zerolinecolor": "#EBF0F8"
           }
          },
          "shapedefaults": {
           "line": {
            "color": "#2a3f5f"
           }
          },
          "ternary": {
           "aaxis": {
            "gridcolor": "#DFE8F3",
            "linecolor": "#A2B1C6",
            "ticks": ""
           },
           "baxis": {
            "gridcolor": "#DFE8F3",
            "linecolor": "#A2B1C6",
            "ticks": ""
           },
           "bgcolor": "white",
           "caxis": {
            "gridcolor": "#DFE8F3",
            "linecolor": "#A2B1C6",
            "ticks": ""
           }
          },
          "title": {
           "x": 0.05
          },
          "xaxis": {
           "automargin": true,
           "gridcolor": "#EBF0F8",
           "linecolor": "#EBF0F8",
           "ticks": "",
           "title": {
            "standoff": 15
           },
           "zerolinecolor": "#EBF0F8",
           "zerolinewidth": 2
          },
          "yaxis": {
           "automargin": true,
           "gridcolor": "#EBF0F8",
           "linecolor": "#EBF0F8",
           "ticks": "",
           "title": {
            "standoff": 15
           },
           "zerolinecolor": "#EBF0F8",
           "zerolinewidth": 2
          }
         }
        },
        "title": {
         "text": "Матрица корреляции характеристик квартир"
        },
        "xaxis": {
         "anchor": "y",
         "domain": [
          0,
          1
         ],
         "title": {
          "text": "Параметры"
         }
        },
        "yaxis": {
         "anchor": "x",
         "autorange": "reversed",
         "domain": [
          0,
          1
         ],
         "title": {
          "text": "Параметры"
         }
        }
       }
      }
     },
     "metadata": {},
     "output_type": "display_data"
    }
   ],
   "source": [
    "# Матрица корреляции\n",
    "numeric_cols = ['price', 'total_area', 'floor', 'total_floors', 'rooms']\n",
    "correlation_matrix = df_clean[numeric_cols].corr()\n",
    "\n",
    "# Интерактивная heatmap корреляций\n",
    "fig_corr = px.imshow(\n",
    "    correlation_matrix,\n",
    "    text_auto='.2f',\n",
    "    aspect='auto',\n",
    "    color_continuous_scale='RdBu_r',\n",
    "    title='Матрица корреляции характеристик квартир',\n",
    "    labels=dict(x='Параметры', y='Параметры', color='Корреляция'),\n",
    "    height=600\n",
    ")\n",
    "\n",
    "fig_corr.update_layout(template='plotly_white')\n",
    "fig_corr.show()"
   ]
  },
  {
   "cell_type": "markdown",
   "id": "120ae4c1",
   "metadata": {},
   "source": [
    "## 9. Итоговая сводка\n",
    "\n",
    "Краткая статистика по визуализациям"
   ]
  },
  {
   "cell_type": "code",
   "execution_count": 20,
   "id": "4fca2c4b",
   "metadata": {},
   "outputs": [
    {
     "name": "stdout",
     "output_type": "stream",
     "text": [
      "======================================================================\n",
      "ИТОГОВАЯ СТАТИСТИКА ПО КВАРТИРАМ В ДНЕПРЕ\n",
      "======================================================================\n",
      "\n",
      "📊 Общее количество объявлений: 1051\n",
      "💰 Средняя цена аренды: 14056.00 грн\n",
      "📍 Медианная цена: 12000.00 грн\n",
      "📈 Самый дорогой район: Соборний\n",
      "📉 Самый дешевый район: Самарський\n",
      "🏘️  Район с наибольшим количеством предложений: Соборний\n",
      "\n",
      "======================================================================\n",
      "📁 СОЗДАННЫЕ ФАЙЛЫ:\n",
      "   - Интерактивная карта: /home/redmoon/Documents/Dev/appartment_scraper/charts/dnipro_apartments_map.html\n",
      "\n",
      "======================================================================\n",
      "✅ Визуализация завершена!\n"
     ]
    }
   ],
   "source": [
    "print(\"=\"*70)\n",
    "print(\"ИТОГОВАЯ СТАТИСТИКА ПО КВАРТИРАМ В ДНЕПРЕ\")\n",
    "print(\"=\"*70)\n",
    "\n",
    "print(f\"\\n📊 Общее количество объявлений: {len(df_clean)}\")\n",
    "print(f\"💰 Средняя цена аренды: {df_clean['price'].mean():.2f} грн\")\n",
    "print(f\"📍 Медианная цена: {df_clean['price'].median():.2f} грн\")\n",
    "print(f\"📈 Самый дорогой район: {district_summary.loc[district_summary['avg_price'].idxmax(), 'district']}\")\n",
    "print(f\"📉 Самый дешевый район: {district_summary.loc[district_summary['avg_price'].idxmin(), 'district']}\")\n",
    "print(f\"🏘️  Район с наибольшим количеством предложений: {district_summary.loc[district_summary['count'].idxmax(), 'district']}\")\n",
    "\n",
    "print(f\"\\n{'='*70}\")\n",
    "print(\"📁 СОЗДАННЫЕ ФАЙЛЫ:\")\n",
    "print(f\"   - Интерактивная карта: {map_path}\")\n",
    "print(f\"\\n{'='*70}\")\n",
    "print(\"✅ Визуализация завершена!\")"
   ]
  },
  {
   "cell_type": "code",
   "execution_count": null,
   "id": "9771b6c5",
   "metadata": {},
   "outputs": [],
   "source": []
  }
 ],
 "metadata": {
  "kernelspec": {
   "display_name": "venv (3.13.7)",
   "language": "python",
   "name": "python3"
  },
  "language_info": {
   "codemirror_mode": {
    "name": "ipython",
    "version": 3
   },
   "file_extension": ".py",
   "mimetype": "text/x-python",
   "name": "python",
   "nbconvert_exporter": "python",
   "pygments_lexer": "ipython3",
   "version": "3.13.7"
  }
 },
 "nbformat": 4,
 "nbformat_minor": 5
}
